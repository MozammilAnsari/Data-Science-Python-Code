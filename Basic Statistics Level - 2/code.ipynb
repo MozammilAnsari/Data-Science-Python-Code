{
 "cells": [
  {
   "cell_type": "markdown",
   "id": "d5f9dae4",
   "metadata": {},
   "source": [
    "### 2.)\tLook at the data given below. Plot the data, find the outliers and find out  μ,σ,σ^2"
   ]
  },
  {
   "cell_type": "code",
   "execution_count": 36,
   "id": "b77ef6ff",
   "metadata": {},
   "outputs": [],
   "source": [
    "import pandas as pd"
   ]
  },
  {
   "cell_type": "code",
   "execution_count": 37,
   "id": "f6914e82",
   "metadata": {},
   "outputs": [],
   "source": [
    "df = pd.read_csv('data.csv')"
   ]
  },
  {
   "cell_type": "code",
   "execution_count": 38,
   "id": "ffe770ec",
   "metadata": {},
   "outputs": [
    {
     "name": "stdout",
     "output_type": "stream",
     "text": [
      "Mean=33.2, standard_deviation=16.853147226217764, variance = 2.840285714285715\n"
     ]
    }
   ],
   "source": [
    "mean = df['Measure X'].mean()*100\n",
    "standard_deviation = df['Measure X'].std()*100\n",
    "variance = df['Measure X'].var()*100\n",
    "print(f'Mean={mean}, standard_deviation={standard_deviation}, variance = {variance}')"
   ]
  },
  {
   "cell_type": "code",
   "execution_count": 39,
   "id": "11d1727c",
   "metadata": {},
   "outputs": [
    {
     "data": {
      "text/plain": [
       "0.255"
      ]
     },
     "execution_count": 39,
     "metadata": {},
     "output_type": "execute_result"
    }
   ],
   "source": [
    "Q1 = df['Measure X'].quantile(0.25)\n",
    "Q1"
   ]
  },
  {
   "cell_type": "code",
   "execution_count": 40,
   "id": "b920d89e",
   "metadata": {},
   "outputs": [
    {
     "data": {
      "text/plain": [
       "0.33999999999999997"
      ]
     },
     "execution_count": 40,
     "metadata": {},
     "output_type": "execute_result"
    }
   ],
   "source": [
    "Q3 = df['Measure X'].quantile(0.75)\n",
    "Q3"
   ]
  },
  {
   "cell_type": "code",
   "execution_count": 41,
   "id": "7328c293",
   "metadata": {},
   "outputs": [],
   "source": [
    "IQR = Q3-Q1"
   ]
  },
  {
   "cell_type": "code",
   "execution_count": 42,
   "id": "e260ba27",
   "metadata": {},
   "outputs": [],
   "source": [
    "outliers = [i for i in df['Measure X'] if (i<Q1-1.5*IQR) or (i>Q3+1.5*IQR)]"
   ]
  },
  {
   "cell_type": "code",
   "execution_count": 43,
   "id": "5fde87d3",
   "metadata": {},
   "outputs": [
    {
     "data": {
      "text/plain": [
       "[0.91]"
      ]
     },
     "execution_count": 43,
     "metadata": {},
     "output_type": "execute_result"
    }
   ],
   "source": [
    "outliers"
   ]
  },
  {
   "cell_type": "code",
   "execution_count": null,
   "id": "fecf21d4",
   "metadata": {},
   "outputs": [],
   "source": []
  }
 ],
 "metadata": {
  "kernelspec": {
   "display_name": "Python 3 (ipykernel)",
   "language": "python",
   "name": "python3"
  },
  "language_info": {
   "codemirror_mode": {
    "name": "ipython",
    "version": 3
   },
   "file_extension": ".py",
   "mimetype": "text/x-python",
   "name": "python",
   "nbconvert_exporter": "python",
   "pygments_lexer": "ipython3",
   "version": "3.10.9"
  }
 },
 "nbformat": 4,
 "nbformat_minor": 5
}
