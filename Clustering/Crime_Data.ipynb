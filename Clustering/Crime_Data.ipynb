{
 "cells": [
  {
   "cell_type": "markdown",
   "id": "0f137030",
   "metadata": {},
   "source": [
    "# Perform Clustering(Hierarchical, Kmeans & DBSCAN) for the crime data and identify the number of clusters formed and draw inferences.\n",
    "\n",
    "### Data Description:\n",
    "* Murder -- Muder rates in different places of United States\n",
    "* Assualt- Assualt rate in different places of United States\n",
    "* UrbanPop - urban population in different places of United States\n",
    "* Rape - Rape rate in different places of United States"
   ]
  },
  {
   "cell_type": "markdown",
   "id": "bbebdece",
   "metadata": {},
   "source": [
    "# Work Flow\n",
    "### 1. Load the dataset\n",
    "### 2. EDA\n",
    "### 3. Feature selection\n",
    "### 4. Transform the data\n",
    "### 5. Build the model\n",
    "### 6. Model selection\n",
    "### 7. Conclusion"
   ]
  },
  {
   "cell_type": "markdown",
   "id": "0c5c5e69",
   "metadata": {},
   "source": [
    "# 1. Load the dataset"
   ]
  },
  {
   "cell_type": "code",
   "execution_count": 1,
   "id": "48ae7fef",
   "metadata": {},
   "outputs": [],
   "source": [
    "import pandas as pd\n",
    "import numpy as np"
   ]
  },
  {
   "cell_type": "code",
   "execution_count": 2,
   "id": "ba742f43",
   "metadata": {},
   "outputs": [],
   "source": [
    "import warnings\n",
    "warnings.filterwarnings('ignore')"
   ]
  },
  {
   "cell_type": "code",
   "execution_count": 3,
   "id": "132bd75a",
   "metadata": {},
   "outputs": [],
   "source": [
    "df = pd.read_csv('crime_data.csv')"
   ]
  },
  {
   "cell_type": "markdown",
   "id": "e0a110e5",
   "metadata": {},
   "source": [
    "# 2. EDA"
   ]
  },
  {
   "cell_type": "code",
   "execution_count": 4,
   "id": "5ac3077c",
   "metadata": {},
   "outputs": [
    {
     "data": {
      "text/plain": [
       "(50, 5)"
      ]
     },
     "execution_count": 4,
     "metadata": {},
     "output_type": "execute_result"
    }
   ],
   "source": [
    "df.shape"
   ]
  },
  {
   "cell_type": "code",
   "execution_count": 5,
   "id": "f5853d18",
   "metadata": {},
   "outputs": [
    {
     "data": {
      "text/html": [
       "<div>\n",
       "<style scoped>\n",
       "    .dataframe tbody tr th:only-of-type {\n",
       "        vertical-align: middle;\n",
       "    }\n",
       "\n",
       "    .dataframe tbody tr th {\n",
       "        vertical-align: top;\n",
       "    }\n",
       "\n",
       "    .dataframe thead th {\n",
       "        text-align: right;\n",
       "    }\n",
       "</style>\n",
       "<table border=\"1\" class=\"dataframe\">\n",
       "  <thead>\n",
       "    <tr style=\"text-align: right;\">\n",
       "      <th></th>\n",
       "      <th>Unnamed: 0</th>\n",
       "      <th>Murder</th>\n",
       "      <th>Assault</th>\n",
       "      <th>UrbanPop</th>\n",
       "      <th>Rape</th>\n",
       "    </tr>\n",
       "  </thead>\n",
       "  <tbody>\n",
       "    <tr>\n",
       "      <th>0</th>\n",
       "      <td>Alabama</td>\n",
       "      <td>13.2</td>\n",
       "      <td>236</td>\n",
       "      <td>58</td>\n",
       "      <td>21.2</td>\n",
       "    </tr>\n",
       "    <tr>\n",
       "      <th>1</th>\n",
       "      <td>Alaska</td>\n",
       "      <td>10.0</td>\n",
       "      <td>263</td>\n",
       "      <td>48</td>\n",
       "      <td>44.5</td>\n",
       "    </tr>\n",
       "    <tr>\n",
       "      <th>2</th>\n",
       "      <td>Arizona</td>\n",
       "      <td>8.1</td>\n",
       "      <td>294</td>\n",
       "      <td>80</td>\n",
       "      <td>31.0</td>\n",
       "    </tr>\n",
       "    <tr>\n",
       "      <th>3</th>\n",
       "      <td>Arkansas</td>\n",
       "      <td>8.8</td>\n",
       "      <td>190</td>\n",
       "      <td>50</td>\n",
       "      <td>19.5</td>\n",
       "    </tr>\n",
       "    <tr>\n",
       "      <th>4</th>\n",
       "      <td>California</td>\n",
       "      <td>9.0</td>\n",
       "      <td>276</td>\n",
       "      <td>91</td>\n",
       "      <td>40.6</td>\n",
       "    </tr>\n",
       "  </tbody>\n",
       "</table>\n",
       "</div>"
      ],
      "text/plain": [
       "   Unnamed: 0  Murder  Assault  UrbanPop  Rape\n",
       "0     Alabama    13.2      236        58  21.2\n",
       "1      Alaska    10.0      263        48  44.5\n",
       "2     Arizona     8.1      294        80  31.0\n",
       "3    Arkansas     8.8      190        50  19.5\n",
       "4  California     9.0      276        91  40.6"
      ]
     },
     "execution_count": 5,
     "metadata": {},
     "output_type": "execute_result"
    }
   ],
   "source": [
    "df.head()"
   ]
  },
  {
   "cell_type": "code",
   "execution_count": 6,
   "id": "6eb9cbcd",
   "metadata": {},
   "outputs": [],
   "source": [
    "# Let's rename the Unnamed column\n",
    "df.rename(columns={'Unnamed: 0':'State'},inplace=True)"
   ]
  },
  {
   "cell_type": "code",
   "execution_count": 7,
   "id": "89be3ab5",
   "metadata": {},
   "outputs": [
    {
     "data": {
      "text/html": [
       "<div>\n",
       "<style scoped>\n",
       "    .dataframe tbody tr th:only-of-type {\n",
       "        vertical-align: middle;\n",
       "    }\n",
       "\n",
       "    .dataframe tbody tr th {\n",
       "        vertical-align: top;\n",
       "    }\n",
       "\n",
       "    .dataframe thead th {\n",
       "        text-align: right;\n",
       "    }\n",
       "</style>\n",
       "<table border=\"1\" class=\"dataframe\">\n",
       "  <thead>\n",
       "    <tr style=\"text-align: right;\">\n",
       "      <th></th>\n",
       "      <th>State</th>\n",
       "      <th>Murder</th>\n",
       "      <th>Assault</th>\n",
       "      <th>UrbanPop</th>\n",
       "      <th>Rape</th>\n",
       "    </tr>\n",
       "  </thead>\n",
       "  <tbody>\n",
       "    <tr>\n",
       "      <th>0</th>\n",
       "      <td>Alabama</td>\n",
       "      <td>13.2</td>\n",
       "      <td>236</td>\n",
       "      <td>58</td>\n",
       "      <td>21.2</td>\n",
       "    </tr>\n",
       "    <tr>\n",
       "      <th>1</th>\n",
       "      <td>Alaska</td>\n",
       "      <td>10.0</td>\n",
       "      <td>263</td>\n",
       "      <td>48</td>\n",
       "      <td>44.5</td>\n",
       "    </tr>\n",
       "    <tr>\n",
       "      <th>2</th>\n",
       "      <td>Arizona</td>\n",
       "      <td>8.1</td>\n",
       "      <td>294</td>\n",
       "      <td>80</td>\n",
       "      <td>31.0</td>\n",
       "    </tr>\n",
       "    <tr>\n",
       "      <th>3</th>\n",
       "      <td>Arkansas</td>\n",
       "      <td>8.8</td>\n",
       "      <td>190</td>\n",
       "      <td>50</td>\n",
       "      <td>19.5</td>\n",
       "    </tr>\n",
       "    <tr>\n",
       "      <th>4</th>\n",
       "      <td>California</td>\n",
       "      <td>9.0</td>\n",
       "      <td>276</td>\n",
       "      <td>91</td>\n",
       "      <td>40.6</td>\n",
       "    </tr>\n",
       "  </tbody>\n",
       "</table>\n",
       "</div>"
      ],
      "text/plain": [
       "        State  Murder  Assault  UrbanPop  Rape\n",
       "0     Alabama    13.2      236        58  21.2\n",
       "1      Alaska    10.0      263        48  44.5\n",
       "2     Arizona     8.1      294        80  31.0\n",
       "3    Arkansas     8.8      190        50  19.5\n",
       "4  California     9.0      276        91  40.6"
      ]
     },
     "execution_count": 7,
     "metadata": {},
     "output_type": "execute_result"
    }
   ],
   "source": [
    "df.head()"
   ]
  },
  {
   "cell_type": "code",
   "execution_count": 8,
   "id": "90ab4fe1",
   "metadata": {},
   "outputs": [
    {
     "name": "stdout",
     "output_type": "stream",
     "text": [
      "<class 'pandas.core.frame.DataFrame'>\n",
      "RangeIndex: 50 entries, 0 to 49\n",
      "Data columns (total 5 columns):\n",
      " #   Column    Non-Null Count  Dtype  \n",
      "---  ------    --------------  -----  \n",
      " 0   State     50 non-null     object \n",
      " 1   Murder    50 non-null     float64\n",
      " 2   Assault   50 non-null     int64  \n",
      " 3   UrbanPop  50 non-null     int64  \n",
      " 4   Rape      50 non-null     float64\n",
      "dtypes: float64(2), int64(2), object(1)\n",
      "memory usage: 2.1+ KB\n"
     ]
    }
   ],
   "source": [
    "df.info()"
   ]
  },
  {
   "cell_type": "code",
   "execution_count": 9,
   "id": "24f00a38",
   "metadata": {},
   "outputs": [
    {
     "data": {
      "text/html": [
       "<div>\n",
       "<style scoped>\n",
       "    .dataframe tbody tr th:only-of-type {\n",
       "        vertical-align: middle;\n",
       "    }\n",
       "\n",
       "    .dataframe tbody tr th {\n",
       "        vertical-align: top;\n",
       "    }\n",
       "\n",
       "    .dataframe thead th {\n",
       "        text-align: right;\n",
       "    }\n",
       "</style>\n",
       "<table border=\"1\" class=\"dataframe\">\n",
       "  <thead>\n",
       "    <tr style=\"text-align: right;\">\n",
       "      <th></th>\n",
       "      <th>Murder</th>\n",
       "      <th>Assault</th>\n",
       "      <th>UrbanPop</th>\n",
       "      <th>Rape</th>\n",
       "    </tr>\n",
       "  </thead>\n",
       "  <tbody>\n",
       "    <tr>\n",
       "      <th>count</th>\n",
       "      <td>50.00000</td>\n",
       "      <td>50.000000</td>\n",
       "      <td>50.000000</td>\n",
       "      <td>50.000000</td>\n",
       "    </tr>\n",
       "    <tr>\n",
       "      <th>mean</th>\n",
       "      <td>7.78800</td>\n",
       "      <td>170.760000</td>\n",
       "      <td>65.540000</td>\n",
       "      <td>21.232000</td>\n",
       "    </tr>\n",
       "    <tr>\n",
       "      <th>std</th>\n",
       "      <td>4.35551</td>\n",
       "      <td>83.337661</td>\n",
       "      <td>14.474763</td>\n",
       "      <td>9.366385</td>\n",
       "    </tr>\n",
       "    <tr>\n",
       "      <th>min</th>\n",
       "      <td>0.80000</td>\n",
       "      <td>45.000000</td>\n",
       "      <td>32.000000</td>\n",
       "      <td>7.300000</td>\n",
       "    </tr>\n",
       "    <tr>\n",
       "      <th>25%</th>\n",
       "      <td>4.07500</td>\n",
       "      <td>109.000000</td>\n",
       "      <td>54.500000</td>\n",
       "      <td>15.075000</td>\n",
       "    </tr>\n",
       "    <tr>\n",
       "      <th>50%</th>\n",
       "      <td>7.25000</td>\n",
       "      <td>159.000000</td>\n",
       "      <td>66.000000</td>\n",
       "      <td>20.100000</td>\n",
       "    </tr>\n",
       "    <tr>\n",
       "      <th>75%</th>\n",
       "      <td>11.25000</td>\n",
       "      <td>249.000000</td>\n",
       "      <td>77.750000</td>\n",
       "      <td>26.175000</td>\n",
       "    </tr>\n",
       "    <tr>\n",
       "      <th>max</th>\n",
       "      <td>17.40000</td>\n",
       "      <td>337.000000</td>\n",
       "      <td>91.000000</td>\n",
       "      <td>46.000000</td>\n",
       "    </tr>\n",
       "  </tbody>\n",
       "</table>\n",
       "</div>"
      ],
      "text/plain": [
       "         Murder     Assault   UrbanPop       Rape\n",
       "count  50.00000   50.000000  50.000000  50.000000\n",
       "mean    7.78800  170.760000  65.540000  21.232000\n",
       "std     4.35551   83.337661  14.474763   9.366385\n",
       "min     0.80000   45.000000  32.000000   7.300000\n",
       "25%     4.07500  109.000000  54.500000  15.075000\n",
       "50%     7.25000  159.000000  66.000000  20.100000\n",
       "75%    11.25000  249.000000  77.750000  26.175000\n",
       "max    17.40000  337.000000  91.000000  46.000000"
      ]
     },
     "execution_count": 9,
     "metadata": {},
     "output_type": "execute_result"
    }
   ],
   "source": [
    "df.describe()"
   ]
  },
  {
   "cell_type": "code",
   "execution_count": 10,
   "id": "80f0c393",
   "metadata": {},
   "outputs": [
    {
     "data": {
      "text/plain": [
       "State       0\n",
       "Murder      0\n",
       "Assault     0\n",
       "UrbanPop    0\n",
       "Rape        0\n",
       "dtype: int64"
      ]
     },
     "execution_count": 10,
     "metadata": {},
     "output_type": "execute_result"
    }
   ],
   "source": [
    "# Check null values\n",
    "df.isna().sum()"
   ]
  },
  {
   "cell_type": "code",
   "execution_count": 11,
   "id": "db624d18",
   "metadata": {},
   "outputs": [
    {
     "data": {
      "text/plain": [
       "0"
      ]
     },
     "execution_count": 11,
     "metadata": {},
     "output_type": "execute_result"
    }
   ],
   "source": [
    "# Chscking duplicates entries\n",
    "df.duplicated().sum()"
   ]
  },
  {
   "cell_type": "code",
   "execution_count": 12,
   "id": "4aeb1137",
   "metadata": {},
   "outputs": [
    {
     "data": {
      "text/plain": [
       "50"
      ]
     },
     "execution_count": 12,
     "metadata": {},
     "output_type": "execute_result"
    }
   ],
   "source": [
    "len(df['State'].unique())"
   ]
  },
  {
   "cell_type": "code",
   "execution_count": 13,
   "id": "a6fb5134",
   "metadata": {},
   "outputs": [],
   "source": [
    "import seaborn as sns\n",
    "import matplotlib.pyplot as plt\n",
    "sns.set_style('whitegrid')"
   ]
  },
  {
   "cell_type": "code",
   "execution_count": 14,
   "id": "4cea570d",
   "metadata": {},
   "outputs": [],
   "source": [
    "### Top 5 State according to Murder\n",
    "sorted_mureder_df = df.sort_values('Murder',ascending=False).iloc[:5,:]"
   ]
  },
  {
   "cell_type": "code",
   "execution_count": 15,
   "id": "917b7402",
   "metadata": {},
   "outputs": [
    {
     "data": {
      "text/html": [
       "<div>\n",
       "<style scoped>\n",
       "    .dataframe tbody tr th:only-of-type {\n",
       "        vertical-align: middle;\n",
       "    }\n",
       "\n",
       "    .dataframe tbody tr th {\n",
       "        vertical-align: top;\n",
       "    }\n",
       "\n",
       "    .dataframe thead th {\n",
       "        text-align: right;\n",
       "    }\n",
       "</style>\n",
       "<table border=\"1\" class=\"dataframe\">\n",
       "  <thead>\n",
       "    <tr style=\"text-align: right;\">\n",
       "      <th></th>\n",
       "      <th>State</th>\n",
       "      <th>Murder</th>\n",
       "      <th>Assault</th>\n",
       "      <th>UrbanPop</th>\n",
       "      <th>Rape</th>\n",
       "    </tr>\n",
       "  </thead>\n",
       "  <tbody>\n",
       "    <tr>\n",
       "      <th>9</th>\n",
       "      <td>Georgia</td>\n",
       "      <td>17.4</td>\n",
       "      <td>211</td>\n",
       "      <td>60</td>\n",
       "      <td>25.8</td>\n",
       "    </tr>\n",
       "    <tr>\n",
       "      <th>23</th>\n",
       "      <td>Mississippi</td>\n",
       "      <td>16.1</td>\n",
       "      <td>259</td>\n",
       "      <td>44</td>\n",
       "      <td>17.1</td>\n",
       "    </tr>\n",
       "    <tr>\n",
       "      <th>8</th>\n",
       "      <td>Florida</td>\n",
       "      <td>15.4</td>\n",
       "      <td>335</td>\n",
       "      <td>80</td>\n",
       "      <td>31.9</td>\n",
       "    </tr>\n",
       "    <tr>\n",
       "      <th>17</th>\n",
       "      <td>Louisiana</td>\n",
       "      <td>15.4</td>\n",
       "      <td>249</td>\n",
       "      <td>66</td>\n",
       "      <td>22.2</td>\n",
       "    </tr>\n",
       "    <tr>\n",
       "      <th>39</th>\n",
       "      <td>South Carolina</td>\n",
       "      <td>14.4</td>\n",
       "      <td>279</td>\n",
       "      <td>48</td>\n",
       "      <td>22.5</td>\n",
       "    </tr>\n",
       "  </tbody>\n",
       "</table>\n",
       "</div>"
      ],
      "text/plain": [
       "             State  Murder  Assault  UrbanPop  Rape\n",
       "9          Georgia    17.4      211        60  25.8\n",
       "23     Mississippi    16.1      259        44  17.1\n",
       "8          Florida    15.4      335        80  31.9\n",
       "17       Louisiana    15.4      249        66  22.2\n",
       "39  South Carolina    14.4      279        48  22.5"
      ]
     },
     "execution_count": 15,
     "metadata": {},
     "output_type": "execute_result"
    }
   ],
   "source": [
    "sorted_mureder_df"
   ]
  },
  {
   "cell_type": "code",
   "execution_count": 16,
   "id": "b6b2182d",
   "metadata": {},
   "outputs": [
    {
     "data": {
      "image/png": "[encoded data removed]",
      "text/plain": [
       "<Figure size 640x480 with 1 Axes>"
      ]
     },
     "metadata": {},
     "output_type": "display_data"
    }
   ],
   "source": [
    "sns.barplot(x='State', y='Murder', data=sorted_mureder_df)\n",
    "plt.title('Top 5 States according to Murder')\n",
    "plt.show()"
   ]
  },
  {
   "cell_type": "markdown",
   "id": "5bbbc7b4",
   "metadata": {},
   "source": [
    "* Georgia is the first state where the maximum Murder cases are recorded .\n",
    "* Georgia, Mississippi, Florida, Louisiana, South Carolina these are the states which comes in top 5most murder cases recorded states."
   ]
  },
  {
   "cell_type": "code",
   "execution_count": 17,
   "id": "d660aa19",
   "metadata": {},
   "outputs": [
    {
     "data": {
      "text/html": [
       "<div>\n",
       "<style scoped>\n",
       "    .dataframe tbody tr th:only-of-type {\n",
       "        vertical-align: middle;\n",
       "    }\n",
       "\n",
       "    .dataframe tbody tr th {\n",
       "        vertical-align: top;\n",
       "    }\n",
       "\n",
       "    .dataframe thead th {\n",
       "        text-align: right;\n",
       "    }\n",
       "</style>\n",
       "<table border=\"1\" class=\"dataframe\">\n",
       "  <thead>\n",
       "    <tr style=\"text-align: right;\">\n",
       "      <th></th>\n",
       "      <th>State</th>\n",
       "      <th>Murder</th>\n",
       "      <th>Assault</th>\n",
       "      <th>UrbanPop</th>\n",
       "      <th>Rape</th>\n",
       "    </tr>\n",
       "  </thead>\n",
       "  <tbody>\n",
       "    <tr>\n",
       "      <th>32</th>\n",
       "      <td>North Carolina</td>\n",
       "      <td>13.0</td>\n",
       "      <td>337</td>\n",
       "      <td>45</td>\n",
       "      <td>16.1</td>\n",
       "    </tr>\n",
       "    <tr>\n",
       "      <th>8</th>\n",
       "      <td>Florida</td>\n",
       "      <td>15.4</td>\n",
       "      <td>335</td>\n",
       "      <td>80</td>\n",
       "      <td>31.9</td>\n",
       "    </tr>\n",
       "    <tr>\n",
       "      <th>19</th>\n",
       "      <td>Maryland</td>\n",
       "      <td>11.3</td>\n",
       "      <td>300</td>\n",
       "      <td>67</td>\n",
       "      <td>27.8</td>\n",
       "    </tr>\n",
       "    <tr>\n",
       "      <th>2</th>\n",
       "      <td>Arizona</td>\n",
       "      <td>8.1</td>\n",
       "      <td>294</td>\n",
       "      <td>80</td>\n",
       "      <td>31.0</td>\n",
       "    </tr>\n",
       "    <tr>\n",
       "      <th>30</th>\n",
       "      <td>New Mexico</td>\n",
       "      <td>11.4</td>\n",
       "      <td>285</td>\n",
       "      <td>70</td>\n",
       "      <td>32.1</td>\n",
       "    </tr>\n",
       "  </tbody>\n",
       "</table>\n",
       "</div>"
      ],
      "text/plain": [
       "             State  Murder  Assault  UrbanPop  Rape\n",
       "32  North Carolina    13.0      337        45  16.1\n",
       "8          Florida    15.4      335        80  31.9\n",
       "19        Maryland    11.3      300        67  27.8\n",
       "2          Arizona     8.1      294        80  31.0\n",
       "30      New Mexico    11.4      285        70  32.1"
      ]
     },
     "execution_count": 17,
     "metadata": {},
     "output_type": "execute_result"
    }
   ],
   "source": [
    "### Top 5 State according to Assault cases\n",
    "df_assault = df.sort_values('Assault',ascending=False).iloc[:5,:]\n",
    "df_assault"
   ]
  },
  {
   "cell_type": "code",
   "execution_count": 18,
   "id": "78bf3f80",
   "metadata": {},
   "outputs": [
    {
     "data": {
      "image/png": "[encoded data removed]",
      "text/plain": [
       "<Figure size 640x480 with 1 Axes>"
      ]
     },
     "metadata": {},
     "output_type": "display_data"
    }
   ],
   "source": [
    "sns.barplot(x='State',y='Assault',data=df_assault)\n",
    "plt.title('Top 5 States according to Assault Cases')\n",
    "plt.show()"
   ]
  },
  {
   "cell_type": "markdown",
   "id": "ee4f3c89",
   "metadata": {},
   "source": [
    "* There are 3 states where Assault cases are recorded more than 300 and these are North Carolina, Florida, Maryland.\n",
    "* There are 2 states where Assault cases are recorded between 250 to 300."
   ]
  },
  {
   "cell_type": "code",
   "execution_count": 19,
   "id": "0b77077f",
   "metadata": {},
   "outputs": [
    {
     "data": {
      "text/html": [
       "<div>\n",
       "<style scoped>\n",
       "    .dataframe tbody tr th:only-of-type {\n",
       "        vertical-align: middle;\n",
       "    }\n",
       "\n",
       "    .dataframe tbody tr th {\n",
       "        vertical-align: top;\n",
       "    }\n",
       "\n",
       "    .dataframe thead th {\n",
       "        text-align: right;\n",
       "    }\n",
       "</style>\n",
       "<table border=\"1\" class=\"dataframe\">\n",
       "  <thead>\n",
       "    <tr style=\"text-align: right;\">\n",
       "      <th></th>\n",
       "      <th>State</th>\n",
       "      <th>Murder</th>\n",
       "      <th>Assault</th>\n",
       "      <th>UrbanPop</th>\n",
       "      <th>Rape</th>\n",
       "    </tr>\n",
       "  </thead>\n",
       "  <tbody>\n",
       "    <tr>\n",
       "      <th>27</th>\n",
       "      <td>Nevada</td>\n",
       "      <td>12.2</td>\n",
       "      <td>252</td>\n",
       "      <td>81</td>\n",
       "      <td>46.0</td>\n",
       "    </tr>\n",
       "    <tr>\n",
       "      <th>1</th>\n",
       "      <td>Alaska</td>\n",
       "      <td>10.0</td>\n",
       "      <td>263</td>\n",
       "      <td>48</td>\n",
       "      <td>44.5</td>\n",
       "    </tr>\n",
       "    <tr>\n",
       "      <th>4</th>\n",
       "      <td>California</td>\n",
       "      <td>9.0</td>\n",
       "      <td>276</td>\n",
       "      <td>91</td>\n",
       "      <td>40.6</td>\n",
       "    </tr>\n",
       "    <tr>\n",
       "      <th>5</th>\n",
       "      <td>Colorado</td>\n",
       "      <td>7.9</td>\n",
       "      <td>204</td>\n",
       "      <td>78</td>\n",
       "      <td>38.7</td>\n",
       "    </tr>\n",
       "    <tr>\n",
       "      <th>21</th>\n",
       "      <td>Michigan</td>\n",
       "      <td>12.1</td>\n",
       "      <td>255</td>\n",
       "      <td>74</td>\n",
       "      <td>35.1</td>\n",
       "    </tr>\n",
       "  </tbody>\n",
       "</table>\n",
       "</div>"
      ],
      "text/plain": [
       "         State  Murder  Assault  UrbanPop  Rape\n",
       "27      Nevada    12.2      252        81  46.0\n",
       "1       Alaska    10.0      263        48  44.5\n",
       "4   California     9.0      276        91  40.6\n",
       "5     Colorado     7.9      204        78  38.7\n",
       "21    Michigan    12.1      255        74  35.1"
      ]
     },
     "execution_count": 19,
     "metadata": {},
     "output_type": "execute_result"
    }
   ],
   "source": [
    "### Top 5 States according Rape\n",
    "df_rape = df.sort_values('Rape',ascending=False).iloc[:5,:]\n",
    "df_rape"
   ]
  },
  {
   "cell_type": "code",
   "execution_count": 20,
   "id": "d0b03298",
   "metadata": {},
   "outputs": [
    {
     "data": {
      "image/png": "[encoded data removed]",
      "text/plain": [
       "<Figure size 640x480 with 1 Axes>"
      ]
     },
     "metadata": {},
     "output_type": "display_data"
    }
   ],
   "source": [
    "sns.barplot(x='State',y='Rape', data=df_rape)\n",
    "plt.title('Top 5 States according Rape')\n",
    "plt.show()"
   ]
  },
  {
   "cell_type": "markdown",
   "id": "7cfad8a3",
   "metadata": {},
   "source": [
    "* Nevada is the states where maximum number of rape cases are happened.\n",
    "* Alaska is the second most rape cases recorded state.\n",
    "* Where as California have more than 40 rape cases recorded.\n",
    "* and Colorado, Michigan have rape cases between 35 to 40."
   ]
  },
  {
   "cell_type": "code",
   "execution_count": 21,
   "id": "eeba8fc9",
   "metadata": {},
   "outputs": [
    {
     "data": {
      "text/html": [
       "<div>\n",
       "<style scoped>\n",
       "    .dataframe tbody tr th:only-of-type {\n",
       "        vertical-align: middle;\n",
       "    }\n",
       "\n",
       "    .dataframe tbody tr th {\n",
       "        vertical-align: top;\n",
       "    }\n",
       "\n",
       "    .dataframe thead th {\n",
       "        text-align: right;\n",
       "    }\n",
       "</style>\n",
       "<table border=\"1\" class=\"dataframe\">\n",
       "  <thead>\n",
       "    <tr style=\"text-align: right;\">\n",
       "      <th></th>\n",
       "      <th>State</th>\n",
       "      <th>Murder</th>\n",
       "      <th>Assault</th>\n",
       "      <th>UrbanPop</th>\n",
       "      <th>Rape</th>\n",
       "    </tr>\n",
       "  </thead>\n",
       "  <tbody>\n",
       "    <tr>\n",
       "      <th>4</th>\n",
       "      <td>California</td>\n",
       "      <td>9.0</td>\n",
       "      <td>276</td>\n",
       "      <td>91</td>\n",
       "      <td>40.6</td>\n",
       "    </tr>\n",
       "    <tr>\n",
       "      <th>29</th>\n",
       "      <td>New Jersey</td>\n",
       "      <td>7.4</td>\n",
       "      <td>159</td>\n",
       "      <td>89</td>\n",
       "      <td>18.8</td>\n",
       "    </tr>\n",
       "    <tr>\n",
       "      <th>38</th>\n",
       "      <td>Rhode Island</td>\n",
       "      <td>3.4</td>\n",
       "      <td>174</td>\n",
       "      <td>87</td>\n",
       "      <td>8.3</td>\n",
       "    </tr>\n",
       "    <tr>\n",
       "      <th>31</th>\n",
       "      <td>New York</td>\n",
       "      <td>11.1</td>\n",
       "      <td>254</td>\n",
       "      <td>86</td>\n",
       "      <td>26.1</td>\n",
       "    </tr>\n",
       "    <tr>\n",
       "      <th>20</th>\n",
       "      <td>Massachusetts</td>\n",
       "      <td>4.4</td>\n",
       "      <td>149</td>\n",
       "      <td>85</td>\n",
       "      <td>16.3</td>\n",
       "    </tr>\n",
       "  </tbody>\n",
       "</table>\n",
       "</div>"
      ],
      "text/plain": [
       "            State  Murder  Assault  UrbanPop  Rape\n",
       "4      California     9.0      276        91  40.6\n",
       "29     New Jersey     7.4      159        89  18.8\n",
       "38   Rhode Island     3.4      174        87   8.3\n",
       "31       New York    11.1      254        86  26.1\n",
       "20  Massachusetts     4.4      149        85  16.3"
      ]
     },
     "execution_count": 21,
     "metadata": {},
     "output_type": "execute_result"
    }
   ],
   "source": [
    "### Top 5 most populated states\n",
    "df_pop = df.sort_values('UrbanPop', ascending=False).iloc[:5,:]\n",
    "df_pop"
   ]
  },
  {
   "cell_type": "code",
   "execution_count": 22,
   "id": "060af5d2",
   "metadata": {},
   "outputs": [
    {
     "data": {
      "image/png": "[encoded data removed]",
      "text/plain": [
       "<Figure size 640x480 with 1 Axes>"
      ]
     },
     "metadata": {},
     "output_type": "display_data"
    }
   ],
   "source": [
    "sns.barplot(x='State', y='UrbanPop', data=df_pop)\n",
    "plt.title('Top 5 most populated states')\n",
    "plt.show()"
   ]
  },
  {
   "cell_type": "markdown",
   "id": "8f186057",
   "metadata": {},
   "source": [
    "* California is the most populated state where as New Jersey is the second most populated state"
   ]
  },
  {
   "cell_type": "markdown",
   "id": "a575dab1",
   "metadata": {},
   "source": [
    "# 3. Featur selection"
   ]
  },
  {
   "cell_type": "code",
   "execution_count": 23,
   "id": "f5ebe201",
   "metadata": {},
   "outputs": [],
   "source": [
    "df.set_index('State',inplace=True)"
   ]
  },
  {
   "cell_type": "code",
   "execution_count": 24,
   "id": "7a6b8df7",
   "metadata": {},
   "outputs": [
    {
     "data": {
      "text/html": [
       "<div>\n",
       "<style scoped>\n",
       "    .dataframe tbody tr th:only-of-type {\n",
       "        vertical-align: middle;\n",
       "    }\n",
       "\n",
       "    .dataframe tbody tr th {\n",
       "        vertical-align: top;\n",
       "    }\n",
       "\n",
       "    .dataframe thead th {\n",
       "        text-align: right;\n",
       "    }\n",
       "</style>\n",
       "<table border=\"1\" class=\"dataframe\">\n",
       "  <thead>\n",
       "    <tr style=\"text-align: right;\">\n",
       "      <th></th>\n",
       "      <th>Murder</th>\n",
       "      <th>Assault</th>\n",
       "      <th>UrbanPop</th>\n",
       "      <th>Rape</th>\n",
       "    </tr>\n",
       "    <tr>\n",
       "      <th>State</th>\n",
       "      <th></th>\n",
       "      <th></th>\n",
       "      <th></th>\n",
       "      <th></th>\n",
       "    </tr>\n",
       "  </thead>\n",
       "  <tbody>\n",
       "    <tr>\n",
       "      <th>Alabama</th>\n",
       "      <td>13.2</td>\n",
       "      <td>236</td>\n",
       "      <td>58</td>\n",
       "      <td>21.2</td>\n",
       "    </tr>\n",
       "    <tr>\n",
       "      <th>Alaska</th>\n",
       "      <td>10.0</td>\n",
       "      <td>263</td>\n",
       "      <td>48</td>\n",
       "      <td>44.5</td>\n",
       "    </tr>\n",
       "    <tr>\n",
       "      <th>Arizona</th>\n",
       "      <td>8.1</td>\n",
       "      <td>294</td>\n",
       "      <td>80</td>\n",
       "      <td>31.0</td>\n",
       "    </tr>\n",
       "    <tr>\n",
       "      <th>Arkansas</th>\n",
       "      <td>8.8</td>\n",
       "      <td>190</td>\n",
       "      <td>50</td>\n",
       "      <td>19.5</td>\n",
       "    </tr>\n",
       "    <tr>\n",
       "      <th>California</th>\n",
       "      <td>9.0</td>\n",
       "      <td>276</td>\n",
       "      <td>91</td>\n",
       "      <td>40.6</td>\n",
       "    </tr>\n",
       "  </tbody>\n",
       "</table>\n",
       "</div>"
      ],
      "text/plain": [
       "            Murder  Assault  UrbanPop  Rape\n",
       "State                                      \n",
       "Alabama       13.2      236        58  21.2\n",
       "Alaska        10.0      263        48  44.5\n",
       "Arizona        8.1      294        80  31.0\n",
       "Arkansas       8.8      190        50  19.5\n",
       "California     9.0      276        91  40.6"
      ]
     },
     "execution_count": 24,
     "metadata": {},
     "output_type": "execute_result"
    }
   ],
   "source": [
    "df.head()"
   ]
  },
  {
   "cell_type": "markdown",
   "id": "1a5ed7c4",
   "metadata": {},
   "source": [
    "# 4. Transforming the data"
   ]
  },
  {
   "cell_type": "markdown",
   "id": "85539c4c",
   "metadata": {},
   "source": [
    "## 4.1 Standard Scaler"
   ]
  },
  {
   "cell_type": "code",
   "execution_count": 25,
   "id": "fe77412f",
   "metadata": {},
   "outputs": [],
   "source": [
    "from sklearn.preprocessing import StandardScaler"
   ]
  },
  {
   "cell_type": "code",
   "execution_count": 26,
   "id": "37337d52",
   "metadata": {},
   "outputs": [],
   "source": [
    "std = StandardScaler()"
   ]
  },
  {
   "cell_type": "code",
   "execution_count": 27,
   "id": "914b43cb",
   "metadata": {},
   "outputs": [],
   "source": [
    "std_df = std.fit_transform(df)"
   ]
  },
  {
   "cell_type": "code",
   "execution_count": 28,
   "id": "86dadc64",
   "metadata": {},
   "outputs": [
    {
     "data": {
      "text/plain": [
       "array([[ 1.25517927,  0.79078716, -0.52619514, -0.00345116],\n",
       "       [ 0.51301858,  1.11805959, -1.22406668,  2.50942392],\n",
       "       [ 0.07236067,  1.49381682,  1.00912225,  1.05346626]])"
      ]
     },
     "execution_count": 28,
     "metadata": {},
     "output_type": "execute_result"
    }
   ],
   "source": [
    "std_df[:3]"
   ]
  },
  {
   "cell_type": "markdown",
   "id": "e6a47a67",
   "metadata": {},
   "source": [
    "## 4.2 MinMax Scaler"
   ]
  },
  {
   "cell_type": "code",
   "execution_count": 29,
   "id": "32db7209",
   "metadata": {},
   "outputs": [],
   "source": [
    "from sklearn.preprocessing import MinMaxScaler"
   ]
  },
  {
   "cell_type": "code",
   "execution_count": 30,
   "id": "f0c909b1",
   "metadata": {},
   "outputs": [],
   "source": [
    "minmax = MinMaxScaler()"
   ]
  },
  {
   "cell_type": "code",
   "execution_count": 31,
   "id": "b0e5007a",
   "metadata": {},
   "outputs": [
    {
     "data": {
      "text/plain": [
       "array([[0.74698795, 0.65410959, 0.44067797, 0.35917313],\n",
       "       [0.55421687, 0.74657534, 0.27118644, 0.96124031],\n",
       "       [0.43975904, 0.85273973, 0.81355932, 0.6124031 ]])"
      ]
     },
     "execution_count": 31,
     "metadata": {},
     "output_type": "execute_result"
    }
   ],
   "source": [
    "minmax_df = minmax.fit_transform(df)\n",
    "minmax_df[:3]"
   ]
  },
  {
   "cell_type": "markdown",
   "id": "6d1d8538",
   "metadata": {},
   "source": [
    "## 4.3 Normalizer"
   ]
  },
  {
   "cell_type": "code",
   "execution_count": 32,
   "id": "ec68ccb7",
   "metadata": {},
   "outputs": [],
   "source": [
    "from sklearn.preprocessing import Normalizer"
   ]
  },
  {
   "cell_type": "code",
   "execution_count": 33,
   "id": "bdaf46a4",
   "metadata": {},
   "outputs": [],
   "source": [
    "norm = Normalizer()"
   ]
  },
  {
   "cell_type": "code",
   "execution_count": 34,
   "id": "e0e84b75",
   "metadata": {},
   "outputs": [
    {
     "data": {
      "text/plain": [
       "array([[0.05403139, 0.96601575, 0.23741065, 0.08677769],\n",
       "       [0.0368722 , 0.96973889, 0.17698657, 0.1640813 ],\n",
       "       [0.02643862, 0.95962381, 0.26112213, 0.10118482]])"
      ]
     },
     "execution_count": 34,
     "metadata": {},
     "output_type": "execute_result"
    }
   ],
   "source": [
    "norm_df = norm.fit_transform(df)\n",
    "norm_df[:3]"
   ]
  },
  {
   "cell_type": "markdown",
   "id": "4946a250",
   "metadata": {},
   "source": [
    "# 5. Build the model"
   ]
  },
  {
   "cell_type": "markdown",
   "id": "dcab0805",
   "metadata": {},
   "source": [
    "## 5.1.1 Let's build Hierarchycal clustering model"
   ]
  },
  {
   "cell_type": "code",
   "execution_count": 35,
   "id": "cb302d68",
   "metadata": {},
   "outputs": [],
   "source": [
    "from scipy.cluster import hierarchy"
   ]
  },
  {
   "cell_type": "code",
   "execution_count": 36,
   "id": "bb286e05",
   "metadata": {},
   "outputs": [
    {
     "data": {
      "image/png": "[encoded data removed]",
      "text/plain": [
       "<Figure size 640x480 with 1 Axes>"
      ]
     },
     "metadata": {},
     "output_type": "display_data"
    }
   ],
   "source": [
    "model3 = hierarchy.linkage(df,method='complete')\n",
    "dn = hierarchy.dendrogram(model3)"
   ]
  },
  {
   "cell_type": "markdown",
   "id": "545e613f",
   "metadata": {},
   "source": [
    "## 5.2.1 Build the KMeans model with Standard scaler"
   ]
  },
  {
   "cell_type": "code",
   "execution_count": 37,
   "id": "9330f749",
   "metadata": {},
   "outputs": [],
   "source": [
    "from sklearn.cluster import KMeans\n",
    "from sklearn.metrics import silhouette_score"
   ]
  },
  {
   "cell_type": "code",
   "execution_count": 38,
   "id": "6c58f25a",
   "metadata": {},
   "outputs": [
    {
     "data": {
      "text/plain": [
       "[200.0,\n",
       " 104.96163315756871,\n",
       " 80.08569526137276,\n",
       " 57.55425863091104,\n",
       " 50.57105884207457,\n",
       " 45.231562496978725,\n",
       " 40.873497878092174,\n",
       " 37.0471721978195,\n",
       " 30.937312877149775,\n",
       " 28.222080314337372,\n",
       " 25.26392509947414,\n",
       " 22.629881406605108,\n",
       " 21.259853576113567,\n",
       " 19.180439846978395,\n",
       " 19.052679060530153,\n",
       " 16.4511239031106,\n",
       " 15.577121208702088,\n",
       " 14.59940693993972,\n",
       " 14.264408145720239]"
      ]
     },
     "execution_count": 38,
     "metadata": {},
     "output_type": "execute_result"
    }
   ],
   "source": [
    "WCSS = []\n",
    "for i in range(1,20):\n",
    "    model = KMeans(n_clusters=i)\n",
    "    model.fit(std_df)\n",
    "    WCSS.append(model.inertia_)\n",
    "WCSS"
   ]
  },
  {
   "cell_type": "code",
   "execution_count": 39,
   "id": "9d4c504a",
   "metadata": {},
   "outputs": [
    {
     "data": {
      "image/png": "[encoded data removed]",
      "text/plain": [
       "<Figure size 640x480 with 1 Axes>"
      ]
     },
     "metadata": {},
     "output_type": "display_data"
    }
   ],
   "source": [
    "plt.plot(WCSS)\n",
    "plt.xlabel('K Values')\n",
    "plt.ylabel('WCSS')\n",
    "plt.title('Elbow Plot')\n",
    "plt.show()"
   ]
  },
  {
   "cell_type": "markdown",
   "id": "ed123ae1",
   "metadata": {},
   "source": [
    "* We can see for k=3 there is drastically change in WCSS so k = 3 is optimal vaue."
   ]
  },
  {
   "cell_type": "code",
   "execution_count": 40,
   "id": "e4a2faca",
   "metadata": {},
   "outputs": [],
   "source": [
    "df1 = df.copy()"
   ]
  },
  {
   "cell_type": "code",
   "execution_count": 41,
   "id": "f2943d12",
   "metadata": {},
   "outputs": [
    {
     "data": {
      "text/plain": [
       "array([1, 1, 1, 2, 1, 1, 0, 0, 1, 1, 0, 2, 1, 0, 2, 0, 2, 1, 2, 1, 0, 1,\n",
       "       2, 1, 1, 2, 2, 1, 2, 0, 1, 1, 1, 2, 0, 0, 0, 0, 0, 1, 2, 1, 1, 0,\n",
       "       2, 0, 0, 2, 2, 0])"
      ]
     },
     "execution_count": 41,
     "metadata": {},
     "output_type": "execute_result"
    }
   ],
   "source": [
    "model1 = KMeans(n_clusters=3)\n",
    "model1.fit(std_df)\n",
    "model1.labels_"
   ]
  },
  {
   "cell_type": "code",
   "execution_count": 42,
   "id": "520d33a4",
   "metadata": {},
   "outputs": [
    {
     "data": {
      "text/plain": [
       "0.3420305383866158"
      ]
     },
     "execution_count": 42,
     "metadata": {},
     "output_type": "execute_result"
    }
   ],
   "source": [
    "labels = model1.labels_\n",
    "silhouette_score_model1 = silhouette_score(df,labels)\n",
    "silhouette_score_model1"
   ]
  },
  {
   "cell_type": "code",
   "execution_count": 43,
   "id": "1867c012",
   "metadata": {},
   "outputs": [
    {
     "data": {
      "text/html": [
       "<div>\n",
       "<style scoped>\n",
       "    .dataframe tbody tr th:only-of-type {\n",
       "        vertical-align: middle;\n",
       "    }\n",
       "\n",
       "    .dataframe tbody tr th {\n",
       "        vertical-align: top;\n",
       "    }\n",
       "\n",
       "    .dataframe thead th {\n",
       "        text-align: right;\n",
       "    }\n",
       "</style>\n",
       "<table border=\"1\" class=\"dataframe\">\n",
       "  <thead>\n",
       "    <tr style=\"text-align: right;\">\n",
       "      <th></th>\n",
       "      <th>Murder</th>\n",
       "      <th>Assault</th>\n",
       "      <th>UrbanPop</th>\n",
       "      <th>Rape</th>\n",
       "      <th>Labels</th>\n",
       "    </tr>\n",
       "    <tr>\n",
       "      <th>State</th>\n",
       "      <th></th>\n",
       "      <th></th>\n",
       "      <th></th>\n",
       "      <th></th>\n",
       "      <th></th>\n",
       "    </tr>\n",
       "  </thead>\n",
       "  <tbody>\n",
       "    <tr>\n",
       "      <th>Alabama</th>\n",
       "      <td>13.2</td>\n",
       "      <td>236</td>\n",
       "      <td>58</td>\n",
       "      <td>21.2</td>\n",
       "      <td>1</td>\n",
       "    </tr>\n",
       "    <tr>\n",
       "      <th>Alaska</th>\n",
       "      <td>10.0</td>\n",
       "      <td>263</td>\n",
       "      <td>48</td>\n",
       "      <td>44.5</td>\n",
       "      <td>1</td>\n",
       "    </tr>\n",
       "    <tr>\n",
       "      <th>Arizona</th>\n",
       "      <td>8.1</td>\n",
       "      <td>294</td>\n",
       "      <td>80</td>\n",
       "      <td>31.0</td>\n",
       "      <td>1</td>\n",
       "    </tr>\n",
       "    <tr>\n",
       "      <th>Arkansas</th>\n",
       "      <td>8.8</td>\n",
       "      <td>190</td>\n",
       "      <td>50</td>\n",
       "      <td>19.5</td>\n",
       "      <td>2</td>\n",
       "    </tr>\n",
       "    <tr>\n",
       "      <th>California</th>\n",
       "      <td>9.0</td>\n",
       "      <td>276</td>\n",
       "      <td>91</td>\n",
       "      <td>40.6</td>\n",
       "      <td>1</td>\n",
       "    </tr>\n",
       "  </tbody>\n",
       "</table>\n",
       "</div>"
      ],
      "text/plain": [
       "            Murder  Assault  UrbanPop  Rape  Labels\n",
       "State                                              \n",
       "Alabama       13.2      236        58  21.2       1\n",
       "Alaska        10.0      263        48  44.5       1\n",
       "Arizona        8.1      294        80  31.0       1\n",
       "Arkansas       8.8      190        50  19.5       2\n",
       "California     9.0      276        91  40.6       1"
      ]
     },
     "execution_count": 43,
     "metadata": {},
     "output_type": "execute_result"
    }
   ],
   "source": [
    "df1['Labels'] = model1.labels_\n",
    "df1.head()"
   ]
  },
  {
   "cell_type": "code",
   "execution_count": 44,
   "id": "2fa8cc6b",
   "metadata": {},
   "outputs": [],
   "source": [
    "grp = df1.groupby('Labels')"
   ]
  },
  {
   "cell_type": "code",
   "execution_count": 45,
   "id": "b92bb358",
   "metadata": {},
   "outputs": [
    {
     "data": {
      "text/html": [
       "<div>\n",
       "<style scoped>\n",
       "    .dataframe tbody tr th:only-of-type {\n",
       "        vertical-align: middle;\n",
       "    }\n",
       "\n",
       "    .dataframe tbody tr th {\n",
       "        vertical-align: top;\n",
       "    }\n",
       "\n",
       "    .dataframe thead tr th {\n",
       "        text-align: left;\n",
       "    }\n",
       "\n",
       "    .dataframe thead tr:last-of-type th {\n",
       "        text-align: right;\n",
       "    }\n",
       "</style>\n",
       "<table border=\"1\" class=\"dataframe\">\n",
       "  <thead>\n",
       "    <tr>\n",
       "      <th></th>\n",
       "      <th>Murder</th>\n",
       "      <th>Assault</th>\n",
       "      <th>UrbanPop</th>\n",
       "      <th>Rape</th>\n",
       "    </tr>\n",
       "    <tr>\n",
       "      <th></th>\n",
       "      <th>mean</th>\n",
       "      <th>mean</th>\n",
       "      <th>mean</th>\n",
       "      <th>mean</th>\n",
       "    </tr>\n",
       "    <tr>\n",
       "      <th>Labels</th>\n",
       "      <th></th>\n",
       "      <th></th>\n",
       "      <th></th>\n",
       "      <th></th>\n",
       "    </tr>\n",
       "  </thead>\n",
       "  <tbody>\n",
       "    <tr>\n",
       "      <th>0</th>\n",
       "      <td>5.656250</td>\n",
       "      <td>138.875</td>\n",
       "      <td>73.875000</td>\n",
       "      <td>18.78125</td>\n",
       "    </tr>\n",
       "    <tr>\n",
       "      <th>1</th>\n",
       "      <td>12.165000</td>\n",
       "      <td>255.250</td>\n",
       "      <td>68.400000</td>\n",
       "      <td>29.16500</td>\n",
       "    </tr>\n",
       "    <tr>\n",
       "      <th>2</th>\n",
       "      <td>3.971429</td>\n",
       "      <td>86.500</td>\n",
       "      <td>51.928571</td>\n",
       "      <td>12.70000</td>\n",
       "    </tr>\n",
       "  </tbody>\n",
       "</table>\n",
       "</div>"
      ],
      "text/plain": [
       "           Murder  Assault   UrbanPop      Rape\n",
       "             mean     mean       mean      mean\n",
       "Labels                                         \n",
       "0        5.656250  138.875  73.875000  18.78125\n",
       "1       12.165000  255.250  68.400000  29.16500\n",
       "2        3.971429   86.500  51.928571  12.70000"
      ]
     },
     "execution_count": 45,
     "metadata": {},
     "output_type": "execute_result"
    }
   ],
   "source": [
    "grp.agg(['mean'])"
   ]
  },
  {
   "cell_type": "markdown",
   "id": "395faa3e",
   "metadata": {},
   "source": [
    "## 5.2.2 Build KMeans with MinMax Scaler"
   ]
  },
  {
   "cell_type": "code",
   "execution_count": 46,
   "id": "72848263",
   "metadata": {},
   "outputs": [
    {
     "data": {
      "text/plain": [
       "[13.184122550256443,\n",
       " 6.596893867946196,\n",
       " 5.016388924690672,\n",
       " 3.6834561535859134,\n",
       " 3.2243121375400796,\n",
       " 2.9107804107072686,\n",
       " 2.568036072979493,\n",
       " 2.2699587099964367,\n",
       " 2.1737458671974568,\n",
       " 1.9080316012887,\n",
       " 1.7182785346796932,\n",
       " 1.5760454575113576,\n",
       " 1.4616622194915347,\n",
       " 1.3269279023278022,\n",
       " 1.2093656758144904,\n",
       " 1.1706528490507104,\n",
       " 1.0230159227072617,\n",
       " 0.9550282046729879,\n",
       " 0.9134880478952592]"
      ]
     },
     "execution_count": 46,
     "metadata": {},
     "output_type": "execute_result"
    }
   ],
   "source": [
    "WCSS = []\n",
    "for i in range(1,20):\n",
    "    model = KMeans(n_clusters=i)\n",
    "    model.fit(minmax_df)\n",
    "    WCSS.append(model.inertia_)\n",
    "WCSS"
   ]
  },
  {
   "cell_type": "code",
   "execution_count": 47,
   "id": "26d32077",
   "metadata": {},
   "outputs": [
    {
     "data": {
      "image/png": "[encoded data removed]",
      "text/plain": [
       "<Figure size 640x480 with 1 Axes>"
      ]
     },
     "metadata": {},
     "output_type": "display_data"
    }
   ],
   "source": [
    "plt.plot(WCSS)\n",
    "plt.xlabel('K Values')\n",
    "plt.ylabel('WCSS')\n",
    "plt.title('Elbow Plot')\n",
    "plt.show()"
   ]
  },
  {
   "cell_type": "markdown",
   "id": "e365e30b",
   "metadata": {},
   "source": [
    "We Take k = 3"
   ]
  },
  {
   "cell_type": "code",
   "execution_count": 48,
   "id": "ca0106dc",
   "metadata": {},
   "outputs": [
    {
     "data": {
      "text/html": [
       "<style>#sk-container-id-1 {color: black;background-color: white;}#sk-container-id-1 pre{padding: 0;}#sk-container-id-1 div.sk-toggleable {background-color: white;}#sk-container-id-1 label.sk-toggleable__label {cursor: pointer;display: block;width: 100%;margin-bottom: 0;padding: 0.3em;box-sizing: border-box;text-align: center;}#sk-container-id-1 label.sk-toggleable__label-arrow:before {content: \"▸\";float: left;margin-right: 0.25em;color: #696969;}#sk-container-id-1 label.sk-toggleable__label-arrow:hover:before {color: black;}#sk-container-id-1 div.sk-estimator:hover label.sk-toggleable__label-arrow:before {color: black;}#sk-container-id-1 div.sk-toggleable__content {max-height: 0;max-width: 0;overflow: hidden;text-align: left;background-color: #f0f8ff;}#sk-container-id-1 div.sk-toggleable__content pre {margin: 0.2em;color: black;border-radius: 0.25em;background-color: #f0f8ff;}#sk-container-id-1 input.sk-toggleable__control:checked~div.sk-toggleable__content {max-height: 200px;max-width: 100%;overflow: auto;}#sk-container-id-1 input.sk-toggleable__control:checked~label.sk-toggleable__label-arrow:before {content: \"▾\";}#sk-container-id-1 div.sk-estimator input.sk-toggleable__control:checked~label.sk-toggleable__label {background-color: #d4ebff;}#sk-container-id-1 div.sk-label input.sk-toggleable__control:checked~label.sk-toggleable__label {background-color: #d4ebff;}#sk-container-id-1 input.sk-hidden--visually {border: 0;clip: rect(1px 1px 1px 1px);clip: rect(1px, 1px, 1px, 1px);height: 1px;margin: -1px;overflow: hidden;padding: 0;position: absolute;width: 1px;}#sk-container-id-1 div.sk-estimator {font-family: monospace;background-color: #f0f8ff;border: 1px dotted black;border-radius: 0.25em;box-sizing: border-box;margin-bottom: 0.5em;}#sk-container-id-1 div.sk-estimator:hover {background-color: #d4ebff;}#sk-container-id-1 div.sk-parallel-item::after {content: \"\";width: 100%;border-bottom: 1px solid gray;flex-grow: 1;}#sk-container-id-1 div.sk-label:hover label.sk-toggleable__label {background-color: #d4ebff;}#sk-container-id-1 div.sk-serial::before {content: \"\";position: absolute;border-left: 1px solid gray;box-sizing: border-box;top: 0;bottom: 0;left: 50%;z-index: 0;}#sk-container-id-1 div.sk-serial {display: flex;flex-direction: column;align-items: center;background-color: white;padding-right: 0.2em;padding-left: 0.2em;position: relative;}#sk-container-id-1 div.sk-item {position: relative;z-index: 1;}#sk-container-id-1 div.sk-parallel {display: flex;align-items: stretch;justify-content: center;background-color: white;position: relative;}#sk-container-id-1 div.sk-item::before, #sk-container-id-1 div.sk-parallel-item::before {content: \"\";position: absolute;border-left: 1px solid gray;box-sizing: border-box;top: 0;bottom: 0;left: 50%;z-index: -1;}#sk-container-id-1 div.sk-parallel-item {display: flex;flex-direction: column;z-index: 1;position: relative;background-color: white;}#sk-container-id-1 div.sk-parallel-item:first-child::after {align-self: flex-end;width: 50%;}#sk-container-id-1 div.sk-parallel-item:last-child::after {align-self: flex-start;width: 50%;}#sk-container-id-1 div.sk-parallel-item:only-child::after {width: 0;}#sk-container-id-1 div.sk-dashed-wrapped {border: 1px dashed gray;margin: 0 0.4em 0.5em 0.4em;box-sizing: border-box;padding-bottom: 0.4em;background-color: white;}#sk-container-id-1 div.sk-label label {font-family: monospace;font-weight: bold;display: inline-block;line-height: 1.2em;}#sk-container-id-1 div.sk-label-container {text-align: center;}#sk-container-id-1 div.sk-container {/* jupyter's `normalize.less` sets `[hidden] { display: none; }` but bootstrap.min.css set `[hidden] { display: none !important; }` so we also need the `!important` here to be able to override the default hidden behavior on the sphinx rendered scikit-learn.org. See: https://github.com/scikit-learn/scikit-learn/issues/21755 */display: inline-block !important;position: relative;}#sk-container-id-1 div.sk-text-repr-fallback {display: none;}</style><div id=\"sk-container-id-1\" class=\"sk-top-container\"><div class=\"sk-text-repr-fallback\"><pre>KMeans(n_clusters=3)</pre><b>In a Jupyter environment, please rerun this cell to show the HTML representation or trust the notebook. <br />On GitHub, the HTML representation is unable to render, please try loading this page with nbviewer.org.</b></div><div class=\"sk-container\" hidden><div class=\"sk-item\"><div class=\"sk-estimator sk-toggleable\"><input class=\"sk-toggleable__control sk-hidden--visually\" id=\"sk-estimator-id-1\" type=\"checkbox\" checked><label for=\"sk-estimator-id-1\" class=\"sk-toggleable__label sk-toggleable__label-arrow\">KMeans</label><div class=\"sk-toggleable__content\"><pre>KMeans(n_clusters=3)</pre></div></div></div></div></div>"
      ],
      "text/plain": [
       "KMeans(n_clusters=3)"
      ]
     },
     "execution_count": 48,
     "metadata": {},
     "output_type": "execute_result"
    }
   ],
   "source": [
    "model2 = KMeans(n_clusters=3)\n",
    "model2.fit(minmax_df)"
   ]
  },
  {
   "cell_type": "code",
   "execution_count": 49,
   "id": "60fc630e",
   "metadata": {},
   "outputs": [],
   "source": [
    "labels = model.labels_"
   ]
  },
  {
   "cell_type": "code",
   "execution_count": 50,
   "id": "ef8984a9",
   "metadata": {},
   "outputs": [
    {
     "data": {
      "text/plain": [
       "-0.14868758333036428"
      ]
     },
     "execution_count": 50,
     "metadata": {},
     "output_type": "execute_result"
    }
   ],
   "source": [
    "silhouette_score_model2 = silhouette_score(df,labels)\n",
    "silhouette_score_model2"
   ]
  },
  {
   "cell_type": "markdown",
   "id": "d0b67543",
   "metadata": {},
   "source": [
    "## 5.2.3 Build KMeans with Normalizer Scaler"
   ]
  },
  {
   "cell_type": "code",
   "execution_count": 51,
   "id": "5f7bbce6",
   "metadata": {},
   "outputs": [
    {
     "data": {
      "text/plain": [
       "[1.9452076233849003,\n",
       " 0.7540963759591797,\n",
       " 0.3278478050693132,\n",
       " 0.23020871208778804,\n",
       " 0.16395152491640727,\n",
       " 0.12189729452276521,\n",
       " 0.09861877942595956,\n",
       " 0.08873864537725196,\n",
       " 0.07705592495627916,\n",
       " 0.06699271284614708,\n",
       " 0.055618179589892,\n",
       " 0.04925422579628694,\n",
       " 0.04681184829203343,\n",
       " 0.03480831663812668,\n",
       " 0.0305813826884945,\n",
       " 0.029370378330105265,\n",
       " 0.02530445664979181,\n",
       " 0.02247712410711316,\n",
       " 0.020238186845613435]"
      ]
     },
     "execution_count": 51,
     "metadata": {},
     "output_type": "execute_result"
    }
   ],
   "source": [
    "WCSS = []\n",
    "for i in range(1,20):\n",
    "    model = KMeans(n_clusters=i)\n",
    "    model.fit(norm_df)\n",
    "    WCSS.append(model.inertia_)\n",
    "WCSS"
   ]
  },
  {
   "cell_type": "code",
   "execution_count": 52,
   "id": "4e08f645",
   "metadata": {},
   "outputs": [
    {
     "data": {
      "image/png": "[encoded data removed]",
      "text/plain": [
       "<Figure size 640x480 with 1 Axes>"
      ]
     },
     "metadata": {},
     "output_type": "display_data"
    }
   ],
   "source": [
    "plt.plot(WCSS)\n",
    "plt.xlabel('K Values')\n",
    "plt.ylabel('WCSS')\n",
    "plt.title('Elbow Plot')\n",
    "plt.show()"
   ]
  },
  {
   "cell_type": "markdown",
   "id": "7bd6be89",
   "metadata": {},
   "source": [
    "Here we take k = 2"
   ]
  },
  {
   "cell_type": "code",
   "execution_count": 53,
   "id": "84ef2faa",
   "metadata": {},
   "outputs": [
    {
     "data": {
      "text/html": [
       "<style>#sk-container-id-2 {color: black;background-color: white;}#sk-container-id-2 pre{padding: 0;}#sk-container-id-2 div.sk-toggleable {background-color: white;}#sk-container-id-2 label.sk-toggleable__label {cursor: pointer;display: block;width: 100%;margin-bottom: 0;padding: 0.3em;box-sizing: border-box;text-align: center;}#sk-container-id-2 label.sk-toggleable__label-arrow:before {content: \"▸\";float: left;margin-right: 0.25em;color: #696969;}#sk-container-id-2 label.sk-toggleable__label-arrow:hover:before {color: black;}#sk-container-id-2 div.sk-estimator:hover label.sk-toggleable__label-arrow:before {color: black;}#sk-container-id-2 div.sk-toggleable__content {max-height: 0;max-width: 0;overflow: hidden;text-align: left;background-color: #f0f8ff;}#sk-container-id-2 div.sk-toggleable__content pre {margin: 0.2em;color: black;border-radius: 0.25em;background-color: #f0f8ff;}#sk-container-id-2 input.sk-toggleable__control:checked~div.sk-toggleable__content {max-height: 200px;max-width: 100%;overflow: auto;}#sk-container-id-2 input.sk-toggleable__control:checked~label.sk-toggleable__label-arrow:before {content: \"▾\";}#sk-container-id-2 div.sk-estimator input.sk-toggleable__control:checked~label.sk-toggleable__label {background-color: #d4ebff;}#sk-container-id-2 div.sk-label input.sk-toggleable__control:checked~label.sk-toggleable__label {background-color: #d4ebff;}#sk-container-id-2 input.sk-hidden--visually {border: 0;clip: rect(1px 1px 1px 1px);clip: rect(1px, 1px, 1px, 1px);height: 1px;margin: -1px;overflow: hidden;padding: 0;position: absolute;width: 1px;}#sk-container-id-2 div.sk-estimator {font-family: monospace;background-color: #f0f8ff;border: 1px dotted black;border-radius: 0.25em;box-sizing: border-box;margin-bottom: 0.5em;}#sk-container-id-2 div.sk-estimator:hover {background-color: #d4ebff;}#sk-container-id-2 div.sk-parallel-item::after {content: \"\";width: 100%;border-bottom: 1px solid gray;flex-grow: 1;}#sk-container-id-2 div.sk-label:hover label.sk-toggleable__label {background-color: #d4ebff;}#sk-container-id-2 div.sk-serial::before {content: \"\";position: absolute;border-left: 1px solid gray;box-sizing: border-box;top: 0;bottom: 0;left: 50%;z-index: 0;}#sk-container-id-2 div.sk-serial {display: flex;flex-direction: column;align-items: center;background-color: white;padding-right: 0.2em;padding-left: 0.2em;position: relative;}#sk-container-id-2 div.sk-item {position: relative;z-index: 1;}#sk-container-id-2 div.sk-parallel {display: flex;align-items: stretch;justify-content: center;background-color: white;position: relative;}#sk-container-id-2 div.sk-item::before, #sk-container-id-2 div.sk-parallel-item::before {content: \"\";position: absolute;border-left: 1px solid gray;box-sizing: border-box;top: 0;bottom: 0;left: 50%;z-index: -1;}#sk-container-id-2 div.sk-parallel-item {display: flex;flex-direction: column;z-index: 1;position: relative;background-color: white;}#sk-container-id-2 div.sk-parallel-item:first-child::after {align-self: flex-end;width: 50%;}#sk-container-id-2 div.sk-parallel-item:last-child::after {align-self: flex-start;width: 50%;}#sk-container-id-2 div.sk-parallel-item:only-child::after {width: 0;}#sk-container-id-2 div.sk-dashed-wrapped {border: 1px dashed gray;margin: 0 0.4em 0.5em 0.4em;box-sizing: border-box;padding-bottom: 0.4em;background-color: white;}#sk-container-id-2 div.sk-label label {font-family: monospace;font-weight: bold;display: inline-block;line-height: 1.2em;}#sk-container-id-2 div.sk-label-container {text-align: center;}#sk-container-id-2 div.sk-container {/* jupyter's `normalize.less` sets `[hidden] { display: none; }` but bootstrap.min.css set `[hidden] { display: none !important; }` so we also need the `!important` here to be able to override the default hidden behavior on the sphinx rendered scikit-learn.org. See: https://github.com/scikit-learn/scikit-learn/issues/21755 */display: inline-block !important;position: relative;}#sk-container-id-2 div.sk-text-repr-fallback {display: none;}</style><div id=\"sk-container-id-2\" class=\"sk-top-container\"><div class=\"sk-text-repr-fallback\"><pre>KMeans(n_clusters=2)</pre><b>In a Jupyter environment, please rerun this cell to show the HTML representation or trust the notebook. <br />On GitHub, the HTML representation is unable to render, please try loading this page with nbviewer.org.</b></div><div class=\"sk-container\" hidden><div class=\"sk-item\"><div class=\"sk-estimator sk-toggleable\"><input class=\"sk-toggleable__control sk-hidden--visually\" id=\"sk-estimator-id-2\" type=\"checkbox\" checked><label for=\"sk-estimator-id-2\" class=\"sk-toggleable__label sk-toggleable__label-arrow\">KMeans</label><div class=\"sk-toggleable__content\"><pre>KMeans(n_clusters=2)</pre></div></div></div></div></div>"
      ],
      "text/plain": [
       "KMeans(n_clusters=2)"
      ]
     },
     "execution_count": 53,
     "metadata": {},
     "output_type": "execute_result"
    }
   ],
   "source": [
    "model3 = KMeans(n_clusters=2)\n",
    "model3.fit(minmax_df)"
   ]
  },
  {
   "cell_type": "code",
   "execution_count": 54,
   "id": "eb029631",
   "metadata": {},
   "outputs": [
    {
     "data": {
      "text/plain": [
       "0.5406742439027667"
      ]
     },
     "execution_count": 54,
     "metadata": {},
     "output_type": "execute_result"
    }
   ],
   "source": [
    "labels = model3.labels_\n",
    "silhouette_score_model3 = silhouette_score(df,labels)\n",
    "silhouette_score_model3"
   ]
  },
  {
   "cell_type": "markdown",
   "id": "6eed4ec4",
   "metadata": {},
   "source": [
    "## 5.3.1 Build the KMeans++ model with Standard Scaler"
   ]
  },
  {
   "cell_type": "code",
   "execution_count": 55,
   "id": "4ff9db58",
   "metadata": {},
   "outputs": [
    {
     "data": {
      "text/plain": [
       "[200.0,\n",
       " 104.96163315756871,\n",
       " 80.08569526137276,\n",
       " 57.55425863091104,\n",
       " 51.02743813732548,\n",
       " 44.0673451912911,\n",
       " 39.18663219899024,\n",
       " 35.84914257315926,\n",
       " 31.65730382922448,\n",
       " 28.40340122969548,\n",
       " 24.981676843345667,\n",
       " 22.92867211482942,\n",
       " 21.17560084026488,\n",
       " 19.256388196416275,\n",
       " 18.488618858250923,\n",
       " 17.20210449746465,\n",
       " 16.485300950951473,\n",
       " 14.849219735304018,\n",
       " 14.29078982067827]"
      ]
     },
     "execution_count": 55,
     "metadata": {},
     "output_type": "execute_result"
    }
   ],
   "source": [
    "WCSS = []\n",
    "for i in range(1,20):\n",
    "    model = KMeans(n_clusters=i,init='k-means++')\n",
    "    model.fit(std_df)\n",
    "    WCSS.append(model.inertia_)\n",
    "WCSS"
   ]
  },
  {
   "cell_type": "code",
   "execution_count": 56,
   "id": "4a282e2d",
   "metadata": {},
   "outputs": [
    {
     "data": {
      "image/png": "[encoded data removed]",
      "text/plain": [
       "<Figure size 640x480 with 1 Axes>"
      ]
     },
     "metadata": {},
     "output_type": "display_data"
    }
   ],
   "source": [
    "plt.plot(WCSS)\n",
    "plt.xlabel('K Values')\n",
    "plt.ylabel('WCSS')\n",
    "plt.title('Elbow Plot')\n",
    "plt.show()"
   ]
  },
  {
   "cell_type": "markdown",
   "id": "b8152c2d",
   "metadata": {},
   "source": [
    "Here we take n_clusters = 3"
   ]
  },
  {
   "cell_type": "code",
   "execution_count": 57,
   "id": "3d956aba",
   "metadata": {},
   "outputs": [],
   "source": [
    "model4 = KMeans(n_clusters=3, init='k-means++')"
   ]
  },
  {
   "cell_type": "code",
   "execution_count": 58,
   "id": "0e9e6a74",
   "metadata": {},
   "outputs": [
    {
     "data": {
      "text/html": [
       "<style>#sk-container-id-3 {color: black;background-color: white;}#sk-container-id-3 pre{padding: 0;}#sk-container-id-3 div.sk-toggleable {background-color: white;}#sk-container-id-3 label.sk-toggleable__label {cursor: pointer;display: block;width: 100%;margin-bottom: 0;padding: 0.3em;box-sizing: border-box;text-align: center;}#sk-container-id-3 label.sk-toggleable__label-arrow:before {content: \"▸\";float: left;margin-right: 0.25em;color: #696969;}#sk-container-id-3 label.sk-toggleable__label-arrow:hover:before {color: black;}#sk-container-id-3 div.sk-estimator:hover label.sk-toggleable__label-arrow:before {color: black;}#sk-container-id-3 div.sk-toggleable__content {max-height: 0;max-width: 0;overflow: hidden;text-align: left;background-color: #f0f8ff;}#sk-container-id-3 div.sk-toggleable__content pre {margin: 0.2em;color: black;border-radius: 0.25em;background-color: #f0f8ff;}#sk-container-id-3 input.sk-toggleable__control:checked~div.sk-toggleable__content {max-height: 200px;max-width: 100%;overflow: auto;}#sk-container-id-3 input.sk-toggleable__control:checked~label.sk-toggleable__label-arrow:before {content: \"▾\";}#sk-container-id-3 div.sk-estimator input.sk-toggleable__control:checked~label.sk-toggleable__label {background-color: #d4ebff;}#sk-container-id-3 div.sk-label input.sk-toggleable__control:checked~label.sk-toggleable__label {background-color: #d4ebff;}#sk-container-id-3 input.sk-hidden--visually {border: 0;clip: rect(1px 1px 1px 1px);clip: rect(1px, 1px, 1px, 1px);height: 1px;margin: -1px;overflow: hidden;padding: 0;position: absolute;width: 1px;}#sk-container-id-3 div.sk-estimator {font-family: monospace;background-color: #f0f8ff;border: 1px dotted black;border-radius: 0.25em;box-sizing: border-box;margin-bottom: 0.5em;}#sk-container-id-3 div.sk-estimator:hover {background-color: #d4ebff;}#sk-container-id-3 div.sk-parallel-item::after {content: \"\";width: 100%;border-bottom: 1px solid gray;flex-grow: 1;}#sk-container-id-3 div.sk-label:hover label.sk-toggleable__label {background-color: #d4ebff;}#sk-container-id-3 div.sk-serial::before {content: \"\";position: absolute;border-left: 1px solid gray;box-sizing: border-box;top: 0;bottom: 0;left: 50%;z-index: 0;}#sk-container-id-3 div.sk-serial {display: flex;flex-direction: column;align-items: center;background-color: white;padding-right: 0.2em;padding-left: 0.2em;position: relative;}#sk-container-id-3 div.sk-item {position: relative;z-index: 1;}#sk-container-id-3 div.sk-parallel {display: flex;align-items: stretch;justify-content: center;background-color: white;position: relative;}#sk-container-id-3 div.sk-item::before, #sk-container-id-3 div.sk-parallel-item::before {content: \"\";position: absolute;border-left: 1px solid gray;box-sizing: border-box;top: 0;bottom: 0;left: 50%;z-index: -1;}#sk-container-id-3 div.sk-parallel-item {display: flex;flex-direction: column;z-index: 1;position: relative;background-color: white;}#sk-container-id-3 div.sk-parallel-item:first-child::after {align-self: flex-end;width: 50%;}#sk-container-id-3 div.sk-parallel-item:last-child::after {align-self: flex-start;width: 50%;}#sk-container-id-3 div.sk-parallel-item:only-child::after {width: 0;}#sk-container-id-3 div.sk-dashed-wrapped {border: 1px dashed gray;margin: 0 0.4em 0.5em 0.4em;box-sizing: border-box;padding-bottom: 0.4em;background-color: white;}#sk-container-id-3 div.sk-label label {font-family: monospace;font-weight: bold;display: inline-block;line-height: 1.2em;}#sk-container-id-3 div.sk-label-container {text-align: center;}#sk-container-id-3 div.sk-container {/* jupyter's `normalize.less` sets `[hidden] { display: none; }` but bootstrap.min.css set `[hidden] { display: none !important; }` so we also need the `!important` here to be able to override the default hidden behavior on the sphinx rendered scikit-learn.org. See: https://github.com/scikit-learn/scikit-learn/issues/21755 */display: inline-block !important;position: relative;}#sk-container-id-3 div.sk-text-repr-fallback {display: none;}</style><div id=\"sk-container-id-3\" class=\"sk-top-container\"><div class=\"sk-text-repr-fallback\"><pre>KMeans(n_clusters=3)</pre><b>In a Jupyter environment, please rerun this cell to show the HTML representation or trust the notebook. <br />On GitHub, the HTML representation is unable to render, please try loading this page with nbviewer.org.</b></div><div class=\"sk-container\" hidden><div class=\"sk-item\"><div class=\"sk-estimator sk-toggleable\"><input class=\"sk-toggleable__control sk-hidden--visually\" id=\"sk-estimator-id-3\" type=\"checkbox\" checked><label for=\"sk-estimator-id-3\" class=\"sk-toggleable__label sk-toggleable__label-arrow\">KMeans</label><div class=\"sk-toggleable__content\"><pre>KMeans(n_clusters=3)</pre></div></div></div></div></div>"
      ],
      "text/plain": [
       "KMeans(n_clusters=3)"
      ]
     },
     "execution_count": 58,
     "metadata": {},
     "output_type": "execute_result"
    }
   ],
   "source": [
    "model4.fit(std_df)"
   ]
  },
  {
   "cell_type": "code",
   "execution_count": 59,
   "id": "3b59ec4d",
   "metadata": {},
   "outputs": [
    {
     "data": {
      "text/plain": [
       "array([2, 2, 2, 0, 2, 2, 1, 1, 2, 2, 1, 0, 2, 1, 0, 1, 0, 2, 0, 2, 1, 2,\n",
       "       0, 2, 2, 0, 0, 2, 0, 1, 2, 2, 2, 0, 1, 1, 1, 1, 1, 2, 0, 2, 2, 1,\n",
       "       0, 1, 1, 0, 0, 1])"
      ]
     },
     "execution_count": 59,
     "metadata": {},
     "output_type": "execute_result"
    }
   ],
   "source": [
    "labels = model4.labels_\n",
    "labels"
   ]
  },
  {
   "cell_type": "code",
   "execution_count": 60,
   "id": "e8eba2b0",
   "metadata": {},
   "outputs": [
    {
     "data": {
      "text/plain": [
       "0.3420305383866158"
      ]
     },
     "execution_count": 60,
     "metadata": {},
     "output_type": "execute_result"
    }
   ],
   "source": [
    "silhouette_score_model4 = silhouette_score(df,labels)\n",
    "silhouette_score_model4"
   ]
  },
  {
   "cell_type": "code",
   "execution_count": 61,
   "id": "f18d8b8a",
   "metadata": {},
   "outputs": [],
   "source": [
    "df2 = df.copy()"
   ]
  },
  {
   "cell_type": "code",
   "execution_count": 62,
   "id": "cc95c52c",
   "metadata": {},
   "outputs": [],
   "source": [
    "df2['Labels'] = model2.labels_"
   ]
  },
  {
   "cell_type": "code",
   "execution_count": 63,
   "id": "8ea26441",
   "metadata": {},
   "outputs": [],
   "source": [
    "grp = df2.groupby('Labels')"
   ]
  },
  {
   "cell_type": "code",
   "execution_count": 64,
   "id": "01aef3b1",
   "metadata": {},
   "outputs": [
    {
     "data": {
      "text/html": [
       "<div>\n",
       "<style scoped>\n",
       "    .dataframe tbody tr th:only-of-type {\n",
       "        vertical-align: middle;\n",
       "    }\n",
       "\n",
       "    .dataframe tbody tr th {\n",
       "        vertical-align: top;\n",
       "    }\n",
       "\n",
       "    .dataframe thead tr th {\n",
       "        text-align: left;\n",
       "    }\n",
       "\n",
       "    .dataframe thead tr:last-of-type th {\n",
       "        text-align: right;\n",
       "    }\n",
       "</style>\n",
       "<table border=\"1\" class=\"dataframe\">\n",
       "  <thead>\n",
       "    <tr>\n",
       "      <th></th>\n",
       "      <th>Murder</th>\n",
       "      <th>Assault</th>\n",
       "      <th>UrbanPop</th>\n",
       "      <th>Rape</th>\n",
       "    </tr>\n",
       "    <tr>\n",
       "      <th></th>\n",
       "      <th>mean</th>\n",
       "      <th>mean</th>\n",
       "      <th>mean</th>\n",
       "      <th>mean</th>\n",
       "    </tr>\n",
       "    <tr>\n",
       "      <th>Labels</th>\n",
       "      <th></th>\n",
       "      <th></th>\n",
       "      <th></th>\n",
       "      <th></th>\n",
       "    </tr>\n",
       "  </thead>\n",
       "  <tbody>\n",
       "    <tr>\n",
       "      <th>0</th>\n",
       "      <td>12.331579</td>\n",
       "      <td>259.315789</td>\n",
       "      <td>68.315789</td>\n",
       "      <td>29.215789</td>\n",
       "    </tr>\n",
       "    <tr>\n",
       "      <th>1</th>\n",
       "      <td>6.016667</td>\n",
       "      <td>143.888889</td>\n",
       "      <td>72.333333</td>\n",
       "      <td>19.344444</td>\n",
       "    </tr>\n",
       "    <tr>\n",
       "      <th>2</th>\n",
       "      <td>3.600000</td>\n",
       "      <td>78.538462</td>\n",
       "      <td>52.076923</td>\n",
       "      <td>12.176923</td>\n",
       "    </tr>\n",
       "  </tbody>\n",
       "</table>\n",
       "</div>"
      ],
      "text/plain": [
       "           Murder     Assault   UrbanPop       Rape\n",
       "             mean        mean       mean       mean\n",
       "Labels                                             \n",
       "0       12.331579  259.315789  68.315789  29.215789\n",
       "1        6.016667  143.888889  72.333333  19.344444\n",
       "2        3.600000   78.538462  52.076923  12.176923"
      ]
     },
     "execution_count": 64,
     "metadata": {},
     "output_type": "execute_result"
    }
   ],
   "source": [
    "grp.agg(['mean'])"
   ]
  },
  {
   "cell_type": "markdown",
   "id": "94616524",
   "metadata": {},
   "source": [
    "## 5.3.2 Build KMeans++ with MinMax Scaler"
   ]
  },
  {
   "cell_type": "code",
   "execution_count": 65,
   "id": "db4f0d83",
   "metadata": {},
   "outputs": [
    {
     "data": {
      "text/plain": [
       "[13.184122550256443,\n",
       " 6.596893867946196,\n",
       " 5.010878493006417,\n",
       " 3.7075581307105736,\n",
       " 3.26183637204696,\n",
       " 2.815794866355519,\n",
       " 2.567037583702055,\n",
       " 2.4198721091213136,\n",
       " 2.127642031485487,\n",
       " 1.9213973119334906,\n",
       " 1.6288809959148018,\n",
       " 1.597324893081547,\n",
       " 1.422213188617867,\n",
       " 1.3200547816338186,\n",
       " 1.2522727862252894,\n",
       " 1.1867137468024591,\n",
       " 1.0279486975994496,\n",
       " 0.9843478650731261,\n",
       " 0.9258372164523478]"
      ]
     },
     "execution_count": 65,
     "metadata": {},
     "output_type": "execute_result"
    }
   ],
   "source": [
    "WCSS = []\n",
    "for i in range(1,20):\n",
    "    model = KMeans(n_clusters=i,init='k-means++')\n",
    "    model.fit(minmax_df)\n",
    "    WCSS.append(model.inertia_)\n",
    "WCSS"
   ]
  },
  {
   "cell_type": "code",
   "execution_count": 66,
   "id": "2826e0fb",
   "metadata": {},
   "outputs": [
    {
     "data": {
      "image/png": "[encoded data removed]",
      "text/plain": [
       "<Figure size 640x480 with 1 Axes>"
      ]
     },
     "metadata": {},
     "output_type": "display_data"
    }
   ],
   "source": [
    "plt.plot(WCSS)\n",
    "plt.xlabel('K Values')\n",
    "plt.ylabel('WCSS')\n",
    "plt.title('Elbow Plot')\n",
    "plt.show()"
   ]
  },
  {
   "cell_type": "code",
   "execution_count": 67,
   "id": "9b272d9e",
   "metadata": {},
   "outputs": [
    {
     "data": {
      "text/html": [
       "<style>#sk-container-id-4 {color: black;background-color: white;}#sk-container-id-4 pre{padding: 0;}#sk-container-id-4 div.sk-toggleable {background-color: white;}#sk-container-id-4 label.sk-toggleable__label {cursor: pointer;display: block;width: 100%;margin-bottom: 0;padding: 0.3em;box-sizing: border-box;text-align: center;}#sk-container-id-4 label.sk-toggleable__label-arrow:before {content: \"▸\";float: left;margin-right: 0.25em;color: #696969;}#sk-container-id-4 label.sk-toggleable__label-arrow:hover:before {color: black;}#sk-container-id-4 div.sk-estimator:hover label.sk-toggleable__label-arrow:before {color: black;}#sk-container-id-4 div.sk-toggleable__content {max-height: 0;max-width: 0;overflow: hidden;text-align: left;background-color: #f0f8ff;}#sk-container-id-4 div.sk-toggleable__content pre {margin: 0.2em;color: black;border-radius: 0.25em;background-color: #f0f8ff;}#sk-container-id-4 input.sk-toggleable__control:checked~div.sk-toggleable__content {max-height: 200px;max-width: 100%;overflow: auto;}#sk-container-id-4 input.sk-toggleable__control:checked~label.sk-toggleable__label-arrow:before {content: \"▾\";}#sk-container-id-4 div.sk-estimator input.sk-toggleable__control:checked~label.sk-toggleable__label {background-color: #d4ebff;}#sk-container-id-4 div.sk-label input.sk-toggleable__control:checked~label.sk-toggleable__label {background-color: #d4ebff;}#sk-container-id-4 input.sk-hidden--visually {border: 0;clip: rect(1px 1px 1px 1px);clip: rect(1px, 1px, 1px, 1px);height: 1px;margin: -1px;overflow: hidden;padding: 0;position: absolute;width: 1px;}#sk-container-id-4 div.sk-estimator {font-family: monospace;background-color: #f0f8ff;border: 1px dotted black;border-radius: 0.25em;box-sizing: border-box;margin-bottom: 0.5em;}#sk-container-id-4 div.sk-estimator:hover {background-color: #d4ebff;}#sk-container-id-4 div.sk-parallel-item::after {content: \"\";width: 100%;border-bottom: 1px solid gray;flex-grow: 1;}#sk-container-id-4 div.sk-label:hover label.sk-toggleable__label {background-color: #d4ebff;}#sk-container-id-4 div.sk-serial::before {content: \"\";position: absolute;border-left: 1px solid gray;box-sizing: border-box;top: 0;bottom: 0;left: 50%;z-index: 0;}#sk-container-id-4 div.sk-serial {display: flex;flex-direction: column;align-items: center;background-color: white;padding-right: 0.2em;padding-left: 0.2em;position: relative;}#sk-container-id-4 div.sk-item {position: relative;z-index: 1;}#sk-container-id-4 div.sk-parallel {display: flex;align-items: stretch;justify-content: center;background-color: white;position: relative;}#sk-container-id-4 div.sk-item::before, #sk-container-id-4 div.sk-parallel-item::before {content: \"\";position: absolute;border-left: 1px solid gray;box-sizing: border-box;top: 0;bottom: 0;left: 50%;z-index: -1;}#sk-container-id-4 div.sk-parallel-item {display: flex;flex-direction: column;z-index: 1;position: relative;background-color: white;}#sk-container-id-4 div.sk-parallel-item:first-child::after {align-self: flex-end;width: 50%;}#sk-container-id-4 div.sk-parallel-item:last-child::after {align-self: flex-start;width: 50%;}#sk-container-id-4 div.sk-parallel-item:only-child::after {width: 0;}#sk-container-id-4 div.sk-dashed-wrapped {border: 1px dashed gray;margin: 0 0.4em 0.5em 0.4em;box-sizing: border-box;padding-bottom: 0.4em;background-color: white;}#sk-container-id-4 div.sk-label label {font-family: monospace;font-weight: bold;display: inline-block;line-height: 1.2em;}#sk-container-id-4 div.sk-label-container {text-align: center;}#sk-container-id-4 div.sk-container {/* jupyter's `normalize.less` sets `[hidden] { display: none; }` but bootstrap.min.css set `[hidden] { display: none !important; }` so we also need the `!important` here to be able to override the default hidden behavior on the sphinx rendered scikit-learn.org. See: https://github.com/scikit-learn/scikit-learn/issues/21755 */display: inline-block !important;position: relative;}#sk-container-id-4 div.sk-text-repr-fallback {display: none;}</style><div id=\"sk-container-id-4\" class=\"sk-top-container\"><div class=\"sk-text-repr-fallback\"><pre>KMeans(n_clusters=3)</pre><b>In a Jupyter environment, please rerun this cell to show the HTML representation or trust the notebook. <br />On GitHub, the HTML representation is unable to render, please try loading this page with nbviewer.org.</b></div><div class=\"sk-container\" hidden><div class=\"sk-item\"><div class=\"sk-estimator sk-toggleable\"><input class=\"sk-toggleable__control sk-hidden--visually\" id=\"sk-estimator-id-4\" type=\"checkbox\" checked><label for=\"sk-estimator-id-4\" class=\"sk-toggleable__label sk-toggleable__label-arrow\">KMeans</label><div class=\"sk-toggleable__content\"><pre>KMeans(n_clusters=3)</pre></div></div></div></div></div>"
      ],
      "text/plain": [
       "KMeans(n_clusters=3)"
      ]
     },
     "execution_count": 67,
     "metadata": {},
     "output_type": "execute_result"
    }
   ],
   "source": [
    "model5 = KMeans(n_clusters=3, init='k-means++')\n",
    "model5.fit(minmax_df)"
   ]
  },
  {
   "cell_type": "code",
   "execution_count": 68,
   "id": "39ba0b61",
   "metadata": {},
   "outputs": [
    {
     "data": {
      "text/plain": [
       "array([0, 0, 0, 2, 0, 0, 2, 2, 0, 0, 2, 1, 0, 2, 1, 2, 1, 0, 1, 0, 2, 0,\n",
       "       1, 0, 2, 1, 1, 0, 1, 2, 0, 0, 0, 1, 2, 2, 2, 2, 2, 0, 1, 0, 0, 2,\n",
       "       1, 2, 2, 1, 1, 2])"
      ]
     },
     "execution_count": 68,
     "metadata": {},
     "output_type": "execute_result"
    }
   ],
   "source": [
    "labels = model5.labels_\n",
    "labels"
   ]
  },
  {
   "cell_type": "code",
   "execution_count": 69,
   "id": "ae3a0c78",
   "metadata": {},
   "outputs": [
    {
     "data": {
      "text/plain": [
       "0.38062704226088995"
      ]
     },
     "execution_count": 69,
     "metadata": {},
     "output_type": "execute_result"
    }
   ],
   "source": [
    "silhouette_score_model5 = silhouette_score(df,labels)\n",
    "silhouette_score_model5"
   ]
  },
  {
   "cell_type": "markdown",
   "id": "5ca74c02",
   "metadata": {},
   "source": [
    "## 5.3.3 Build KMeans++ with Normalizer"
   ]
  },
  {
   "cell_type": "code",
   "execution_count": 70,
   "id": "17661256",
   "metadata": {},
   "outputs": [
    {
     "data": {
      "text/plain": [
       "[1.9452076233849003,\n",
       " 0.7540963759591797,\n",
       " 0.3278478050693132,\n",
       " 0.22760245765174872,\n",
       " 0.16395152491640727,\n",
       " 0.12059896172575112,\n",
       " 0.09861877942595956,\n",
       " 0.08800664163209596,\n",
       " 0.07707443535579625,\n",
       " 0.06573495316778673,\n",
       " 0.05630157937290547,\n",
       " 0.04822647288442139,\n",
       " 0.04270801088440087,\n",
       " 0.03802375729030402,\n",
       " 0.03272018777403025,\n",
       " 0.027078469092281777,\n",
       " 0.024336235869330206,\n",
       " 0.02233450117910844,\n",
       " 0.020233575218702247]"
      ]
     },
     "execution_count": 70,
     "metadata": {},
     "output_type": "execute_result"
    }
   ],
   "source": [
    "WCSS = []\n",
    "for i in range(1,20):\n",
    "    model = KMeans(n_clusters=i,init='k-means++')\n",
    "    model.fit(norm_df)\n",
    "    WCSS.append(model.inertia_)\n",
    "WCSS"
   ]
  },
  {
   "cell_type": "code",
   "execution_count": 71,
   "id": "4f3d200b",
   "metadata": {},
   "outputs": [
    {
     "data": {
      "image/png": "[encoded data removed]",
      "text/plain": [
       "<Figure size 640x480 with 1 Axes>"
      ]
     },
     "metadata": {},
     "output_type": "display_data"
    }
   ],
   "source": [
    "plt.plot(WCSS)\n",
    "plt.xlabel('K Values')\n",
    "plt.ylabel('WCSS')\n",
    "plt.title('Elbow Plot')\n",
    "plt.show()"
   ]
  },
  {
   "cell_type": "markdown",
   "id": "ac651a85",
   "metadata": {},
   "source": [
    "Here we take n_clusters = 2"
   ]
  },
  {
   "cell_type": "code",
   "execution_count": 72,
   "id": "ae2516bd",
   "metadata": {},
   "outputs": [
    {
     "data": {
      "text/html": [
       "<style>#sk-container-id-5 {color: black;background-color: white;}#sk-container-id-5 pre{padding: 0;}#sk-container-id-5 div.sk-toggleable {background-color: white;}#sk-container-id-5 label.sk-toggleable__label {cursor: pointer;display: block;width: 100%;margin-bottom: 0;padding: 0.3em;box-sizing: border-box;text-align: center;}#sk-container-id-5 label.sk-toggleable__label-arrow:before {content: \"▸\";float: left;margin-right: 0.25em;color: #696969;}#sk-container-id-5 label.sk-toggleable__label-arrow:hover:before {color: black;}#sk-container-id-5 div.sk-estimator:hover label.sk-toggleable__label-arrow:before {color: black;}#sk-container-id-5 div.sk-toggleable__content {max-height: 0;max-width: 0;overflow: hidden;text-align: left;background-color: #f0f8ff;}#sk-container-id-5 div.sk-toggleable__content pre {margin: 0.2em;color: black;border-radius: 0.25em;background-color: #f0f8ff;}#sk-container-id-5 input.sk-toggleable__control:checked~div.sk-toggleable__content {max-height: 200px;max-width: 100%;overflow: auto;}#sk-container-id-5 input.sk-toggleable__control:checked~label.sk-toggleable__label-arrow:before {content: \"▾\";}#sk-container-id-5 div.sk-estimator input.sk-toggleable__control:checked~label.sk-toggleable__label {background-color: #d4ebff;}#sk-container-id-5 div.sk-label input.sk-toggleable__control:checked~label.sk-toggleable__label {background-color: #d4ebff;}#sk-container-id-5 input.sk-hidden--visually {border: 0;clip: rect(1px 1px 1px 1px);clip: rect(1px, 1px, 1px, 1px);height: 1px;margin: -1px;overflow: hidden;padding: 0;position: absolute;width: 1px;}#sk-container-id-5 div.sk-estimator {font-family: monospace;background-color: #f0f8ff;border: 1px dotted black;border-radius: 0.25em;box-sizing: border-box;margin-bottom: 0.5em;}#sk-container-id-5 div.sk-estimator:hover {background-color: #d4ebff;}#sk-container-id-5 div.sk-parallel-item::after {content: \"\";width: 100%;border-bottom: 1px solid gray;flex-grow: 1;}#sk-container-id-5 div.sk-label:hover label.sk-toggleable__label {background-color: #d4ebff;}#sk-container-id-5 div.sk-serial::before {content: \"\";position: absolute;border-left: 1px solid gray;box-sizing: border-box;top: 0;bottom: 0;left: 50%;z-index: 0;}#sk-container-id-5 div.sk-serial {display: flex;flex-direction: column;align-items: center;background-color: white;padding-right: 0.2em;padding-left: 0.2em;position: relative;}#sk-container-id-5 div.sk-item {position: relative;z-index: 1;}#sk-container-id-5 div.sk-parallel {display: flex;align-items: stretch;justify-content: center;background-color: white;position: relative;}#sk-container-id-5 div.sk-item::before, #sk-container-id-5 div.sk-parallel-item::before {content: \"\";position: absolute;border-left: 1px solid gray;box-sizing: border-box;top: 0;bottom: 0;left: 50%;z-index: -1;}#sk-container-id-5 div.sk-parallel-item {display: flex;flex-direction: column;z-index: 1;position: relative;background-color: white;}#sk-container-id-5 div.sk-parallel-item:first-child::after {align-self: flex-end;width: 50%;}#sk-container-id-5 div.sk-parallel-item:last-child::after {align-self: flex-start;width: 50%;}#sk-container-id-5 div.sk-parallel-item:only-child::after {width: 0;}#sk-container-id-5 div.sk-dashed-wrapped {border: 1px dashed gray;margin: 0 0.4em 0.5em 0.4em;box-sizing: border-box;padding-bottom: 0.4em;background-color: white;}#sk-container-id-5 div.sk-label label {font-family: monospace;font-weight: bold;display: inline-block;line-height: 1.2em;}#sk-container-id-5 div.sk-label-container {text-align: center;}#sk-container-id-5 div.sk-container {/* jupyter's `normalize.less` sets `[hidden] { display: none; }` but bootstrap.min.css set `[hidden] { display: none !important; }` so we also need the `!important` here to be able to override the default hidden behavior on the sphinx rendered scikit-learn.org. See: https://github.com/scikit-learn/scikit-learn/issues/21755 */display: inline-block !important;position: relative;}#sk-container-id-5 div.sk-text-repr-fallback {display: none;}</style><div id=\"sk-container-id-5\" class=\"sk-top-container\"><div class=\"sk-text-repr-fallback\"><pre>KMeans(n_clusters=2)</pre><b>In a Jupyter environment, please rerun this cell to show the HTML representation or trust the notebook. <br />On GitHub, the HTML representation is unable to render, please try loading this page with nbviewer.org.</b></div><div class=\"sk-container\" hidden><div class=\"sk-item\"><div class=\"sk-estimator sk-toggleable\"><input class=\"sk-toggleable__control sk-hidden--visually\" id=\"sk-estimator-id-5\" type=\"checkbox\" checked><label for=\"sk-estimator-id-5\" class=\"sk-toggleable__label sk-toggleable__label-arrow\">KMeans</label><div class=\"sk-toggleable__content\"><pre>KMeans(n_clusters=2)</pre></div></div></div></div></div>"
      ],
      "text/plain": [
       "KMeans(n_clusters=2)"
      ]
     },
     "execution_count": 72,
     "metadata": {},
     "output_type": "execute_result"
    }
   ],
   "source": [
    "model6 = KMeans(n_clusters=2, init='k-means++')\n",
    "model6.fit(norm_df)"
   ]
  },
  {
   "cell_type": "code",
   "execution_count": 73,
   "id": "5356047a",
   "metadata": {},
   "outputs": [
    {
     "data": {
      "text/plain": [
       "array([0, 0, 0, 0, 0, 0, 1, 0, 0, 0, 1, 0, 0, 1, 1, 1, 0, 0, 1, 0, 1, 0,\n",
       "       1, 0, 0, 0, 1, 0, 1, 1, 0, 0, 0, 1, 1, 0, 0, 1, 0, 0, 0, 0, 0, 1,\n",
       "       1, 0, 0, 0, 1, 0])"
      ]
     },
     "execution_count": 73,
     "metadata": {},
     "output_type": "execute_result"
    }
   ],
   "source": [
    "labels = model6.labels_\n",
    "labels"
   ]
  },
  {
   "cell_type": "code",
   "execution_count": 74,
   "id": "00b0b90e",
   "metadata": {},
   "outputs": [
    {
     "data": {
      "text/plain": [
       "0.3380548601988659"
      ]
     },
     "execution_count": 74,
     "metadata": {},
     "output_type": "execute_result"
    }
   ],
   "source": [
    "silhouette_score_model6 = silhouette_score(df,labels)\n",
    "silhouette_score_model6"
   ]
  },
  {
   "cell_type": "markdown",
   "id": "9992dbaf",
   "metadata": {},
   "source": [
    "## 5.4.1 Let's Build DBSCAN model with Standard Scaler"
   ]
  },
  {
   "cell_type": "code",
   "execution_count": 75,
   "id": "51e639ac",
   "metadata": {},
   "outputs": [],
   "source": [
    "from sklearn.cluster import DBSCAN"
   ]
  },
  {
   "cell_type": "code",
   "execution_count": 76,
   "id": "67d7fc71",
   "metadata": {},
   "outputs": [
    {
     "name": "stdout",
     "output_type": "stream",
     "text": [
      "For min_samples: 2\n",
      "labels: [-1 -1 -1 -1 -1 -1 -1 -1 -1 -1 -1 -1  0  1  2  1 -1 -1 -1 -1 -1 -1  3 -1\n",
      " -1 -1 -1 -1  2 -1 -1  0 -1 -1 -1 -1 -1 -1 -1 -1 -1 -1 -1 -1 -1 -1 -1 -1\n",
      "  3 -1]\n",
      "silhouette_score: -0.4072830937907539\n",
      "____________________________________________________________________________________________________\n",
      "Only 1 cluster found for min_samples=3\n",
      "Only 1 cluster found for min_samples=4\n",
      "Only 1 cluster found for min_samples=5\n",
      "Only 1 cluster found for min_samples=6\n",
      "Only 1 cluster found for min_samples=7\n",
      "Only 1 cluster found for min_samples=8\n",
      "Only 1 cluster found for min_samples=9\n"
     ]
    }
   ],
   "source": [
    "# Let's find optimum value of min_samples\n",
    "min_samples = [2, 3, 4, 5, 6, 7, 8, 9]\n",
    "eps = 0.5\n",
    "for i in min_samples:\n",
    "    model = DBSCAN(eps=eps, min_samples=i)\n",
    "    model.fit(std_df)\n",
    "    labels = model.labels_\n",
    "    n_clusters = len(set(labels)) - (1 if -1 in labels else 0)  # Calculate the number of clusters\n",
    "    if n_clusters > 1:\n",
    "        print('For min_samples: ' + str(i))\n",
    "        print('labels: '+str(model.labels_))\n",
    "        print('silhouette_score: ' + str(silhouette_score(df, labels)))\n",
    "        print('_' * 100)\n",
    "    else:\n",
    "        print(f\"Only 1 cluster found for min_samples={i}\")"
   ]
  },
  {
   "cell_type": "code",
   "execution_count": 77,
   "id": "57c54324",
   "metadata": {},
   "outputs": [
    {
     "name": "stdout",
     "output_type": "stream",
     "text": [
      "For eps: 0.4\n",
      "labels: [-1 -1 -1 -1 -1 -1 -1 -1 -1 -1 -1 -1  0 -1  1 -1 -1 -1 -1 -1 -1 -1 -1 -1\n",
      " -1 -1 -1 -1  1 -1 -1  0 -1 -1 -1 -1 -1 -1 -1 -1 -1 -1 -1 -1 -1 -1 -1 -1\n",
      " -1 -1]\n",
      "silhouette_score: -0.2985971890824809\n",
      "For eps: 0.5\n",
      "labels: [-1 -1 -1 -1 -1 -1 -1 -1 -1 -1 -1 -1  0  1  2  1 -1 -1 -1 -1 -1 -1  3 -1\n",
      " -1 -1 -1 -1  2 -1 -1  0 -1 -1 -1 -1 -1 -1 -1 -1 -1 -1 -1 -1 -1 -1 -1 -1\n",
      "  3 -1]\n",
      "silhouette_score: -0.4072830937907539\n",
      "For eps: 0.6\n",
      "labels: [-1 -1 -1 -1 -1 -1 -1 -1 -1 -1 -1 -1  0  1  2  1 -1 -1  2  3 -1  3  4 -1\n",
      " -1 -1  1 -1  2 -1  3  0 -1 -1 -1  1  5  1 -1 -1 -1 -1 -1 -1 -1  1  5 -1\n",
      "  4 -1]\n",
      "silhouette_score: -0.37394601988458187\n",
      "For eps: 0.7\n",
      "labels: [-1 -1 -1 -1 -1 -1 -1 -1 -1 -1 -1 -1  0  1  1  1 -1 -1  1  2 -1  2  1 -1\n",
      " -1 -1  1 -1  1 -1  2  0 -1 -1  1  1  3  1 -1 -1 -1 -1 -1 -1 -1  1  3 -1\n",
      "  1 -1]\n",
      "silhouette_score: -0.2918418761976329\n",
      "For eps: 0.8\n",
      "labels: [ 0 -1 -1 -1 -1 -1 -1 -1 -1 -1 -1  1  2  1  1  1 -1  0  1  3 -1  3  1  4\n",
      " -1  1  1 -1  1 -1  3  2 -1  1  1  1  5  1 -1  4  1 -1 -1  5 -1  1  5  1\n",
      "  1  1]\n",
      "silhouette_score: -0.13357773407278523\n",
      "For eps: 0.9\n",
      "labels: [ 0 -1 -1 -1 -1 -1  1 -1 -1  0 -1  1  2  1  1  1  1  0  1  3  4  3  1  5\n",
      " -1  1  1 -1  1  4  3  2 -1  1  1  1  6  1 -1  5  1  0  2  6 -1  1  6  1\n",
      "  1  1]\n",
      "silhouette_score: -0.09078138034215462\n"
     ]
    }
   ],
   "source": [
    "# Let's find optimum value of epsilon\n",
    "eps = [0.1,0.2,0.3,0.4,0.5,0.6,0.7,0.8,0.9]\n",
    "for i in eps:\n",
    "    model = DBSCAN(eps=i, min_samples=2)\n",
    "    model.fit(std_df)\n",
    "    labels = model.labels_\n",
    "    n_clusters = len(set(labels)) - (1 if -1 in labels else 0)\n",
    "    if n_clusters > 1:\n",
    "        print('For eps: '+ str(i))\n",
    "        print('labels: ' + str(labels))\n",
    "        print('silhouette_score: '+ str(silhouette_score(df,labels)))"
   ]
  },
  {
   "cell_type": "markdown",
   "id": "67a99160",
   "metadata": {},
   "source": [
    "* For eps = 0.9 we get maximum silhouette_score so the clusters are well seperated for eps = 0.9"
   ]
  },
  {
   "cell_type": "code",
   "execution_count": 78,
   "id": "4205b97f",
   "metadata": {},
   "outputs": [
    {
     "data": {
      "text/plain": [
       "0.3380548601988659"
      ]
     },
     "execution_count": 78,
     "metadata": {},
     "output_type": "execute_result"
    }
   ],
   "source": [
    "model7 = DBSCAN(eps=0.9, min_samples=2)\n",
    "model7.fit(std_df)\n",
    "labels = model6.labels_\n",
    "silhouette_score_model7 = silhouette_score(df,labels)\n",
    "silhouette_score_model7"
   ]
  },
  {
   "cell_type": "markdown",
   "id": "7bda53b2",
   "metadata": {},
   "source": [
    "## 5.4.2 Build DBSCAN Model with MinMax Scaler"
   ]
  },
  {
   "cell_type": "code",
   "execution_count": 79,
   "id": "fbc4c8c4",
   "metadata": {},
   "outputs": [
    {
     "name": "stdout",
     "output_type": "stream",
     "text": [
      "Only 1 cluster found for min_samples=2\n",
      "Only 1 cluster found for min_samples=3\n",
      "Only 1 cluster found for min_samples=4\n",
      "Only 1 cluster found for min_samples=5\n",
      "Only 1 cluster found for min_samples=6\n",
      "Only 1 cluster found for min_samples=7\n",
      "Only 1 cluster found for min_samples=8\n",
      "Only 1 cluster found for min_samples=9\n"
     ]
    }
   ],
   "source": [
    "# Let's find optimum value of min_samples\n",
    "min_samples = [2, 3, 4, 5, 6, 7, 8, 9]\n",
    "eps = 0.5\n",
    "for i in min_samples:\n",
    "    model = DBSCAN(eps=eps, min_samples=i)\n",
    "    model.fit(minmax_df)\n",
    "    labels = model.labels_\n",
    "    n_clusters = len(set(labels)) - (1 if -1 in labels else 0)  # Calculate the number of clusters\n",
    "    if n_clusters > 1:\n",
    "        print('For min_samples: ' + str(i))\n",
    "        print('labels: '+str(model.labels_))\n",
    "        print('silhouette_score: ' + str(silhouette_score(df, labels)))\n",
    "        print('_' * 100)\n",
    "    else:\n",
    "        print(f\"Only 1 cluster found for min_samples={i}\")"
   ]
  },
  {
   "cell_type": "code",
   "execution_count": 80,
   "id": "be5a2a7e",
   "metadata": {},
   "outputs": [
    {
     "name": "stdout",
     "output_type": "stream",
     "text": [
      "For eps: 0.1\n",
      "labels: [-1 -1 -1 -1 -1 -1 -1 -1 -1 -1 -1 -1  0 -1  1 -1 -1 -1 -1 -1 -1 -1 -1 -1\n",
      " -1 -1 -1 -1  1 -1 -1  0 -1 -1 -1 -1 -1 -1 -1 -1 -1 -1 -1 -1 -1 -1 -1 -1\n",
      " -1 -1]\n",
      "silhouette_score: -0.2985971890824809\n",
      "For eps: 0.2\n",
      "labels: [ 0 -1 -1 -1 -1 -1 -1 -1 -1 -1 -1  1  2  1  1  1 -1  0  1  3 -1  3  1  4\n",
      " -1  1  1 -1  1 -1  3  2 -1  1  1  1  5  1 -1  4  1 -1 -1  5 -1  1  5  1\n",
      "  1  1]\n",
      "silhouette_score: -0.13357773407278523\n",
      "For eps: 0.3\n",
      "labels: [ 0 -1  1  1 -1 -1  1 -1 -1  0  1  1  1  1  1  1  1  0  1  1  1  1  1  0\n",
      "  1  1  1 -1  1  1  1  1  0  1  1  1  1  1  1  0  1  0  1  1  1  1  1  1\n",
      "  1  1]\n",
      "silhouette_score: 0.175315573916221\n"
     ]
    }
   ],
   "source": [
    "# Let's find optimum value of epsilon\n",
    "eps = [0.1,0.2,0.3,0.4,0.5,0.6,0.7,0.8,0.9]\n",
    "for i in eps:\n",
    "    model = DBSCAN(eps=i, min_samples=2)\n",
    "    model.fit(minmax_df)\n",
    "    labels = model.labels_\n",
    "    n_clusters = len(set(labels)) - (1 if -1 in labels else 0)\n",
    "    if n_clusters > 1:\n",
    "        print('For eps: '+ str(i))\n",
    "        print('labels: ' + str(labels))\n",
    "        print('silhouette_score: '+ str(silhouette_score(df,labels)))"
   ]
  },
  {
   "cell_type": "markdown",
   "id": "e3ff4c69",
   "metadata": {},
   "source": [
    "* We take eps = 0.3 and n_clusters = 2"
   ]
  },
  {
   "cell_type": "code",
   "execution_count": 81,
   "id": "4f604899",
   "metadata": {},
   "outputs": [
    {
     "name": "stdout",
     "output_type": "stream",
     "text": [
      "labels: [ 0 -1  1  1 -1 -1  1 -1 -1  0  1  1  1  1  1  1  1  0  1  1  1  1  1  0\n",
      "  1  1  1 -1  1  1  1  1  0  1  1  1  1  1  1  0  1  0  1  1  1  1  1  1\n",
      "  1  1]\n",
      "silhouette_score: 0.175315573916221\n"
     ]
    }
   ],
   "source": [
    "model8 = DBSCAN(eps = 0.3, min_samples=2)\n",
    "model8.fit(minmax_df)\n",
    "labels = model8.labels_\n",
    "n_clusters = len(set(labels)) - (1 if -1 in labels else 0)\n",
    "if n_clusters > 1:\n",
    "    print('labels: ' + str(labels))\n",
    "    silhouette_score_model8 = silhouette_score(df,labels)\n",
    "    print('silhouette_score: '+ str(silhouette_score_model8))"
   ]
  },
  {
   "cell_type": "markdown",
   "id": "65a34688",
   "metadata": {},
   "source": [
    "## 5.4.3 Build DBSCAN With Normalizer"
   ]
  },
  {
   "cell_type": "code",
   "execution_count": 82,
   "id": "7e35c05f",
   "metadata": {},
   "outputs": [
    {
     "name": "stdout",
     "output_type": "stream",
     "text": [
      "For min_samples: 2\n",
      "labels: [ 0  0  0  0  0  0  0  0  0  0 -1  0  0  0  1  0  0  0  0  0  0  0  1  0\n",
      "  0  0  0  0  1  0  0  0  0  1  0  0  0  0  0  0  0  0  0  0  0  0  0  0\n",
      "  1  0]\n",
      "silhouette_score: 0.18431534827054294\n",
      "____________________________________________________________________________________________________\n",
      "For min_samples: 3\n",
      "labels: [ 0  0  0  0  0  0  0  0  0  0 -1  0  0  0  1  0  0  0  0  0  0  0  1  0\n",
      "  0  0  0  0  1  0  0  0  0  1  0  0  0  0  0  0  0  0  0  0  0  0  0  0\n",
      "  1  0]\n",
      "silhouette_score: 0.18431534827054294\n",
      "____________________________________________________________________________________________________\n",
      "For min_samples: 4\n",
      "labels: [ 0  0  0  0  0  0  0  0  0  0 -1  0  0  0  1  0  0  0  0  0  0  0  1  0\n",
      "  0  0  0  0  1  0  0  0  0  1  0  0  0  0  0  0  0  0  0  0  0  0  0  0\n",
      "  1  0]\n",
      "silhouette_score: 0.18431534827054294\n",
      "____________________________________________________________________________________________________\n",
      "For min_samples: 5\n",
      "labels: [ 0  0  0  0  0  0  0  0  0  0 -1  0  0  0  1  0  0  0  0  0  0  0  1  0\n",
      "  0  0  0  0  1  0  0  0  0  1  0  0  0  0  0  0  0  0  0  0  0  0  0  0\n",
      "  1  0]\n",
      "silhouette_score: 0.18431534827054294\n",
      "____________________________________________________________________________________________________\n",
      "Only 1 cluster found for min_samples=6\n",
      "Only 1 cluster found for min_samples=7\n",
      "Only 1 cluster found for min_samples=8\n",
      "Only 1 cluster found for min_samples=9\n"
     ]
    }
   ],
   "source": [
    "# Let's find optimum value of min_samples\n",
    "min_samples = [2, 3, 4, 5, 6, 7, 8, 9]\n",
    "eps = 0.1\n",
    "for i in min_samples:\n",
    "    model = DBSCAN(eps=eps, min_samples=i)\n",
    "    model.fit(norm_df)\n",
    "    labels = model.labels_\n",
    "    n_clusters = len(set(labels)) - (1 if -1 in labels else 0)  # Calculate the number of clusters\n",
    "    if n_clusters > 1:\n",
    "        print('For min_samples: ' + str(i))\n",
    "        print('labels: '+str(model.labels_))\n",
    "        print('silhouette_score: ' + str(silhouette_score(df, labels)))\n",
    "        print('_' * 100)\n",
    "    else:\n",
    "        print(f\"Only 1 cluster found for min_samples={i}\")"
   ]
  },
  {
   "cell_type": "markdown",
   "id": "5bf68660",
   "metadata": {},
   "source": [
    "* I tried different values of eps but only get noise points so, for eps=0.1 I got labels and for min_samples = 2."
   ]
  },
  {
   "cell_type": "code",
   "execution_count": 83,
   "id": "1d2c203f",
   "metadata": {},
   "outputs": [
    {
     "data": {
      "text/plain": [
       "array([ 0,  0,  0,  0,  0,  0,  0,  0,  0,  0, -1,  0,  0,  0,  1,  0,  0,\n",
       "        0,  0,  0,  0,  0,  1,  0,  0,  0,  0,  0,  1,  0,  0,  0,  0,  1,\n",
       "        0,  0,  0,  0,  0,  0,  0,  0,  0,  0,  0,  0,  0,  0,  1,  0],\n",
       "      dtype=int64)"
      ]
     },
     "execution_count": 83,
     "metadata": {},
     "output_type": "execute_result"
    }
   ],
   "source": [
    "model9 = DBSCAN(eps=0.1,min_samples=2)\n",
    "model9.fit(norm_df)\n",
    "labels = model9.labels_\n",
    "labels"
   ]
  },
  {
   "cell_type": "code",
   "execution_count": 84,
   "id": "b476b543",
   "metadata": {},
   "outputs": [
    {
     "name": "stdout",
     "output_type": "stream",
     "text": [
      "labels: [ 0  0  0  0  0  0  0  0  0  0 -1  0  0  0  1  0  0  0  0  0  0  0  1  0\n",
      "  0  0  0  0  1  0  0  0  0  1  0  0  0  0  0  0  0  0  0  0  0  0  0  0\n",
      "  1  0]\n",
      "silhouette_score: 0.18431534827054294\n"
     ]
    }
   ],
   "source": [
    "n_clusters = len(set(labels)) - (1 if -1 in labels else 0)\n",
    "if n_clusters > 1:\n",
    "    print('labels: ' + str(labels))\n",
    "    silhouette_score_model9 = silhouette_score(df,labels)\n",
    "    print('silhouette_score: '+ str(silhouette_score_model9))"
   ]
  },
  {
   "cell_type": "code",
   "execution_count": 85,
   "id": "2bbe1af0",
   "metadata": {},
   "outputs": [],
   "source": [
    "metric_df = pd.DataFrame({'model':['KMeans','KMeans','KMeans','KMeans++','KMeans++','KMeans++',\n",
    "                                  'DBSCAN','DBSCAN','DBSCAN'],\n",
    "                         'Silhouette_score':[silhouette_score_model1,silhouette_score_model2,silhouette_score_model3,silhouette_score_model4,\n",
    "                                            silhouette_score_model5,silhouette_score_model6,silhouette_score_model7,\n",
    "                                            silhouette_score_model8,silhouette_score_model9],\n",
    "                         'Transformation':['StandardScaler','MinMaxScaler','Normalizer',\n",
    "                                           'StandardScaler','MinMaxScaler','Normalizer',\n",
    "                                           'StandardScaler','MinMaxScaler','Normalizer']})"
   ]
  },
  {
   "cell_type": "code",
   "execution_count": 86,
   "id": "91b39e2e",
   "metadata": {},
   "outputs": [
    {
     "data": {
      "text/html": [
       "<div>\n",
       "<style scoped>\n",
       "    .dataframe tbody tr th:only-of-type {\n",
       "        vertical-align: middle;\n",
       "    }\n",
       "\n",
       "    .dataframe tbody tr th {\n",
       "        vertical-align: top;\n",
       "    }\n",
       "\n",
       "    .dataframe thead th {\n",
       "        text-align: right;\n",
       "    }\n",
       "</style>\n",
       "<table border=\"1\" class=\"dataframe\">\n",
       "  <thead>\n",
       "    <tr style=\"text-align: right;\">\n",
       "      <th></th>\n",
       "      <th>model</th>\n",
       "      <th>Silhouette_score</th>\n",
       "      <th>Transformation</th>\n",
       "    </tr>\n",
       "  </thead>\n",
       "  <tbody>\n",
       "    <tr>\n",
       "      <th>0</th>\n",
       "      <td>KMeans</td>\n",
       "      <td>0.342031</td>\n",
       "      <td>StandardScaler</td>\n",
       "    </tr>\n",
       "    <tr>\n",
       "      <th>1</th>\n",
       "      <td>KMeans</td>\n",
       "      <td>-0.148688</td>\n",
       "      <td>MinMaxScaler</td>\n",
       "    </tr>\n",
       "    <tr>\n",
       "      <th>2</th>\n",
       "      <td>KMeans</td>\n",
       "      <td>0.540674</td>\n",
       "      <td>Normalizer</td>\n",
       "    </tr>\n",
       "    <tr>\n",
       "      <th>3</th>\n",
       "      <td>KMeans++</td>\n",
       "      <td>0.342031</td>\n",
       "      <td>StandardScaler</td>\n",
       "    </tr>\n",
       "    <tr>\n",
       "      <th>4</th>\n",
       "      <td>KMeans++</td>\n",
       "      <td>0.380627</td>\n",
       "      <td>MinMaxScaler</td>\n",
       "    </tr>\n",
       "    <tr>\n",
       "      <th>5</th>\n",
       "      <td>KMeans++</td>\n",
       "      <td>0.338055</td>\n",
       "      <td>Normalizer</td>\n",
       "    </tr>\n",
       "    <tr>\n",
       "      <th>6</th>\n",
       "      <td>DBSCAN</td>\n",
       "      <td>0.338055</td>\n",
       "      <td>StandardScaler</td>\n",
       "    </tr>\n",
       "    <tr>\n",
       "      <th>7</th>\n",
       "      <td>DBSCAN</td>\n",
       "      <td>0.175316</td>\n",
       "      <td>MinMaxScaler</td>\n",
       "    </tr>\n",
       "    <tr>\n",
       "      <th>8</th>\n",
       "      <td>DBSCAN</td>\n",
       "      <td>0.184315</td>\n",
       "      <td>Normalizer</td>\n",
       "    </tr>\n",
       "  </tbody>\n",
       "</table>\n",
       "</div>"
      ],
      "text/plain": [
       "      model  Silhouette_score  Transformation\n",
       "0    KMeans          0.342031  StandardScaler\n",
       "1    KMeans         -0.148688    MinMaxScaler\n",
       "2    KMeans          0.540674      Normalizer\n",
       "3  KMeans++          0.342031  StandardScaler\n",
       "4  KMeans++          0.380627    MinMaxScaler\n",
       "5  KMeans++          0.338055      Normalizer\n",
       "6    DBSCAN          0.338055  StandardScaler\n",
       "7    DBSCAN          0.175316    MinMaxScaler\n",
       "8    DBSCAN          0.184315      Normalizer"
      ]
     },
     "execution_count": 86,
     "metadata": {},
     "output_type": "execute_result"
    }
   ],
   "source": [
    "metric_df "
   ]
  },
  {
   "cell_type": "code",
   "execution_count": 87,
   "id": "688bc796",
   "metadata": {},
   "outputs": [
    {
     "data": {
      "text/html": [
       "<div>\n",
       "<style scoped>\n",
       "    .dataframe tbody tr th:only-of-type {\n",
       "        vertical-align: middle;\n",
       "    }\n",
       "\n",
       "    .dataframe tbody tr th {\n",
       "        vertical-align: top;\n",
       "    }\n",
       "\n",
       "    .dataframe thead th {\n",
       "        text-align: right;\n",
       "    }\n",
       "</style>\n",
       "<table border=\"1\" class=\"dataframe\">\n",
       "  <thead>\n",
       "    <tr style=\"text-align: right;\">\n",
       "      <th></th>\n",
       "      <th>model</th>\n",
       "      <th>Silhouette_score</th>\n",
       "      <th>Transformation</th>\n",
       "    </tr>\n",
       "  </thead>\n",
       "  <tbody>\n",
       "    <tr>\n",
       "      <th>2</th>\n",
       "      <td>KMeans</td>\n",
       "      <td>0.540674</td>\n",
       "      <td>Normalizer</td>\n",
       "    </tr>\n",
       "    <tr>\n",
       "      <th>4</th>\n",
       "      <td>KMeans++</td>\n",
       "      <td>0.380627</td>\n",
       "      <td>MinMaxScaler</td>\n",
       "    </tr>\n",
       "    <tr>\n",
       "      <th>0</th>\n",
       "      <td>KMeans</td>\n",
       "      <td>0.342031</td>\n",
       "      <td>StandardScaler</td>\n",
       "    </tr>\n",
       "    <tr>\n",
       "      <th>3</th>\n",
       "      <td>KMeans++</td>\n",
       "      <td>0.342031</td>\n",
       "      <td>StandardScaler</td>\n",
       "    </tr>\n",
       "    <tr>\n",
       "      <th>5</th>\n",
       "      <td>KMeans++</td>\n",
       "      <td>0.338055</td>\n",
       "      <td>Normalizer</td>\n",
       "    </tr>\n",
       "    <tr>\n",
       "      <th>6</th>\n",
       "      <td>DBSCAN</td>\n",
       "      <td>0.338055</td>\n",
       "      <td>StandardScaler</td>\n",
       "    </tr>\n",
       "    <tr>\n",
       "      <th>8</th>\n",
       "      <td>DBSCAN</td>\n",
       "      <td>0.184315</td>\n",
       "      <td>Normalizer</td>\n",
       "    </tr>\n",
       "    <tr>\n",
       "      <th>7</th>\n",
       "      <td>DBSCAN</td>\n",
       "      <td>0.175316</td>\n",
       "      <td>MinMaxScaler</td>\n",
       "    </tr>\n",
       "    <tr>\n",
       "      <th>1</th>\n",
       "      <td>KMeans</td>\n",
       "      <td>-0.148688</td>\n",
       "      <td>MinMaxScaler</td>\n",
       "    </tr>\n",
       "  </tbody>\n",
       "</table>\n",
       "</div>"
      ],
      "text/plain": [
       "      model  Silhouette_score  Transformation\n",
       "2    KMeans          0.540674      Normalizer\n",
       "4  KMeans++          0.380627    MinMaxScaler\n",
       "0    KMeans          0.342031  StandardScaler\n",
       "3  KMeans++          0.342031  StandardScaler\n",
       "5  KMeans++          0.338055      Normalizer\n",
       "6    DBSCAN          0.338055  StandardScaler\n",
       "8    DBSCAN          0.184315      Normalizer\n",
       "7    DBSCAN          0.175316    MinMaxScaler\n",
       "1    KMeans         -0.148688    MinMaxScaler"
      ]
     },
     "execution_count": 87,
     "metadata": {},
     "output_type": "execute_result"
    }
   ],
   "source": [
    "metric_df.sort_values('Silhouette_score',ascending=False)"
   ]
  },
  {
   "cell_type": "markdown",
   "id": "264abcbc",
   "metadata": {},
   "source": [
    "## 6. Model Selection"
   ]
  },
  {
   "cell_type": "code",
   "execution_count": 88,
   "id": "500766e6",
   "metadata": {},
   "outputs": [
    {
     "data": {
      "text/plain": [
       "array([1, 1, 1, 0, 1, 1, 0, 0, 1, 1, 0, 2, 1, 0, 2, 0, 2, 1, 2, 1, 0, 1,\n",
       "       2, 1, 0, 2, 2, 1, 2, 0, 1, 1, 1, 2, 0, 0, 0, 0, 0, 1, 2, 1, 1, 0,\n",
       "       2, 0, 0, 2, 2, 0])"
      ]
     },
     "execution_count": 88,
     "metadata": {},
     "output_type": "execute_result"
    }
   ],
   "source": [
    "final_model = KMeans(n_clusters=3)\n",
    "final_model.fit(minmax_df)\n",
    "final_model.labels_"
   ]
  },
  {
   "cell_type": "code",
   "execution_count": 89,
   "id": "85655bad",
   "metadata": {},
   "outputs": [],
   "source": [
    "df['Labels'] = final_model.labels_"
   ]
  },
  {
   "cell_type": "code",
   "execution_count": 90,
   "id": "eb342433",
   "metadata": {},
   "outputs": [
    {
     "data": {
      "text/html": [
       "<div>\n",
       "<style scoped>\n",
       "    .dataframe tbody tr th:only-of-type {\n",
       "        vertical-align: middle;\n",
       "    }\n",
       "\n",
       "    .dataframe tbody tr th {\n",
       "        vertical-align: top;\n",
       "    }\n",
       "\n",
       "    .dataframe thead th {\n",
       "        text-align: right;\n",
       "    }\n",
       "</style>\n",
       "<table border=\"1\" class=\"dataframe\">\n",
       "  <thead>\n",
       "    <tr style=\"text-align: right;\">\n",
       "      <th></th>\n",
       "      <th>Murder</th>\n",
       "      <th>Assault</th>\n",
       "      <th>UrbanPop</th>\n",
       "      <th>Rape</th>\n",
       "      <th>Labels</th>\n",
       "    </tr>\n",
       "  </thead>\n",
       "  <tbody>\n",
       "    <tr>\n",
       "      <th>count</th>\n",
       "      <td>50.00000</td>\n",
       "      <td>50.000000</td>\n",
       "      <td>50.000000</td>\n",
       "      <td>50.000000</td>\n",
       "      <td>50.000000</td>\n",
       "    </tr>\n",
       "    <tr>\n",
       "      <th>mean</th>\n",
       "      <td>7.78800</td>\n",
       "      <td>170.760000</td>\n",
       "      <td>65.540000</td>\n",
       "      <td>21.232000</td>\n",
       "      <td>0.900000</td>\n",
       "    </tr>\n",
       "    <tr>\n",
       "      <th>std</th>\n",
       "      <td>4.35551</td>\n",
       "      <td>83.337661</td>\n",
       "      <td>14.474763</td>\n",
       "      <td>9.366385</td>\n",
       "      <td>0.788954</td>\n",
       "    </tr>\n",
       "    <tr>\n",
       "      <th>min</th>\n",
       "      <td>0.80000</td>\n",
       "      <td>45.000000</td>\n",
       "      <td>32.000000</td>\n",
       "      <td>7.300000</td>\n",
       "      <td>0.000000</td>\n",
       "    </tr>\n",
       "    <tr>\n",
       "      <th>25%</th>\n",
       "      <td>4.07500</td>\n",
       "      <td>109.000000</td>\n",
       "      <td>54.500000</td>\n",
       "      <td>15.075000</td>\n",
       "      <td>0.000000</td>\n",
       "    </tr>\n",
       "    <tr>\n",
       "      <th>50%</th>\n",
       "      <td>7.25000</td>\n",
       "      <td>159.000000</td>\n",
       "      <td>66.000000</td>\n",
       "      <td>20.100000</td>\n",
       "      <td>1.000000</td>\n",
       "    </tr>\n",
       "    <tr>\n",
       "      <th>75%</th>\n",
       "      <td>11.25000</td>\n",
       "      <td>249.000000</td>\n",
       "      <td>77.750000</td>\n",
       "      <td>26.175000</td>\n",
       "      <td>1.750000</td>\n",
       "    </tr>\n",
       "    <tr>\n",
       "      <th>max</th>\n",
       "      <td>17.40000</td>\n",
       "      <td>337.000000</td>\n",
       "      <td>91.000000</td>\n",
       "      <td>46.000000</td>\n",
       "      <td>2.000000</td>\n",
       "    </tr>\n",
       "  </tbody>\n",
       "</table>\n",
       "</div>"
      ],
      "text/plain": [
       "         Murder     Assault   UrbanPop       Rape     Labels\n",
       "count  50.00000   50.000000  50.000000  50.000000  50.000000\n",
       "mean    7.78800  170.760000  65.540000  21.232000   0.900000\n",
       "std     4.35551   83.337661  14.474763   9.366385   0.788954\n",
       "min     0.80000   45.000000  32.000000   7.300000   0.000000\n",
       "25%     4.07500  109.000000  54.500000  15.075000   0.000000\n",
       "50%     7.25000  159.000000  66.000000  20.100000   1.000000\n",
       "75%    11.25000  249.000000  77.750000  26.175000   1.750000\n",
       "max    17.40000  337.000000  91.000000  46.000000   2.000000"
      ]
     },
     "execution_count": 90,
     "metadata": {},
     "output_type": "execute_result"
    }
   ],
   "source": [
    "df.describe()"
   ]
  },
  {
   "cell_type": "code",
   "execution_count": 91,
   "id": "2717ac6a",
   "metadata": {},
   "outputs": [
    {
     "data": {
      "text/html": [
       "<div>\n",
       "<style scoped>\n",
       "    .dataframe tbody tr th:only-of-type {\n",
       "        vertical-align: middle;\n",
       "    }\n",
       "\n",
       "    .dataframe tbody tr th {\n",
       "        vertical-align: top;\n",
       "    }\n",
       "\n",
       "    .dataframe thead tr th {\n",
       "        text-align: left;\n",
       "    }\n",
       "\n",
       "    .dataframe thead tr:last-of-type th {\n",
       "        text-align: right;\n",
       "    }\n",
       "</style>\n",
       "<table border=\"1\" class=\"dataframe\">\n",
       "  <thead>\n",
       "    <tr>\n",
       "      <th></th>\n",
       "      <th>Murder</th>\n",
       "      <th>Assault</th>\n",
       "      <th>UrbanPop</th>\n",
       "      <th>Rape</th>\n",
       "    </tr>\n",
       "    <tr>\n",
       "      <th></th>\n",
       "      <th>mean</th>\n",
       "      <th>mean</th>\n",
       "      <th>mean</th>\n",
       "      <th>mean</th>\n",
       "    </tr>\n",
       "    <tr>\n",
       "      <th>Labels</th>\n",
       "      <th></th>\n",
       "      <th></th>\n",
       "      <th></th>\n",
       "      <th></th>\n",
       "    </tr>\n",
       "  </thead>\n",
       "  <tbody>\n",
       "    <tr>\n",
       "      <th>0</th>\n",
       "      <td>6.016667</td>\n",
       "      <td>143.888889</td>\n",
       "      <td>72.333333</td>\n",
       "      <td>19.344444</td>\n",
       "    </tr>\n",
       "    <tr>\n",
       "      <th>1</th>\n",
       "      <td>12.331579</td>\n",
       "      <td>259.315789</td>\n",
       "      <td>68.315789</td>\n",
       "      <td>29.215789</td>\n",
       "    </tr>\n",
       "    <tr>\n",
       "      <th>2</th>\n",
       "      <td>3.600000</td>\n",
       "      <td>78.538462</td>\n",
       "      <td>52.076923</td>\n",
       "      <td>12.176923</td>\n",
       "    </tr>\n",
       "  </tbody>\n",
       "</table>\n",
       "</div>"
      ],
      "text/plain": [
       "           Murder     Assault   UrbanPop       Rape\n",
       "             mean        mean       mean       mean\n",
       "Labels                                             \n",
       "0        6.016667  143.888889  72.333333  19.344444\n",
       "1       12.331579  259.315789  68.315789  29.215789\n",
       "2        3.600000   78.538462  52.076923  12.176923"
      ]
     },
     "execution_count": 91,
     "metadata": {},
     "output_type": "execute_result"
    }
   ],
   "source": [
    "grp = df.groupby('Labels')\n",
    "grp.agg(['mean'])"
   ]
  },
  {
   "cell_type": "markdown",
   "id": "68bb08b7",
   "metadata": {},
   "source": [
    "## 7. Conclusion"
   ]
  },
  {
   "cell_type": "markdown",
   "id": "55e9e0d5",
   "metadata": {},
   "source": [
    "* We tried different models like KMeans, KMeans++ and DBSCAN but KMeans gives the best silhouette_score.\n",
    "* When we apply MinMax Scaler and KMeans algorithm then I got maximum silhourtte_score that means the better the cluster."
   ]
  }
 ],
 "metadata": {
  "kernelspec": {
   "display_name": "Python 3 (ipykernel)",
   "language": "python",
   "name": "python3"
  },
  "language_info": {
   "codemirror_mode": {
    "name": "ipython",
    "version": 3
   },
   "file_extension": ".py",
   "mimetype": "text/x-python",
   "name": "python",
   "nbconvert_exporter": "python",
   "pygments_lexer": "ipython3",
   "version": "3.10.9"
  }
 },
 "nbformat": 4,
 "nbformat_minor": 5
}
