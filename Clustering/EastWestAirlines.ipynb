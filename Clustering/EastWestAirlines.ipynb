{
 "cells": [
  {
   "cell_type": "markdown",
   "id": "a4f94cca",
   "metadata": {},
   "source": [
    "# Perform clustering (hierarchical,K means clustering and DBSCAN) for the airlines data to obtain optimum number of clusters. Draw the inferences from the clusters obtained.\n",
    "\n",
    "## Data Description:\n",
    " \n",
    "## The file EastWest Airlines contains information on passengers who belong to an airline’s frequent flier program. For each passenger the data include information on their mileage history and on different ways they accrued or spent miles in the last year. The goal is to try to identify clusters of passengers that have similar characteristics for the purpose of targeting different segments for different types of mileage offers\n",
    "\n",
    "* ID --Unique ID\n",
    "\n",
    "* Balance--Number of miles eligible for award travel\n",
    "\n",
    "* Qual_mile--Number of miles counted as qualifying for Topflight status\n",
    "\n",
    "* cc1_miles -- Number of miles earned with freq. flyer credit card in the past 12 months:\n",
    "* cc2_miles -- Number of miles earned with Rewards credit card in the past 12 months:\n",
    "* cc3_miles -- Number of miles earned with Small Business credit card in the past 12 months:\n",
    "\n",
    "**1 = under 5,000**\n",
    "\n",
    "**2 = 5,000 - 10,000**\n",
    "\n",
    "**3 = 10,001 - 25,000**\n",
    "\n",
    "**4 = 25,001 - 50,000**\n",
    "\n",
    "**5 = over 50,000**\n",
    "\n",
    "* Bonus_miles--Number of miles earned from non-flight bonus transactions in the past 12 months\n",
    "\n",
    "* Bonus_trans--Number of non-flight bonus transactions in the past 12 months\n",
    "\n",
    "* Flight_miles_12mo--Number of flight miles in the past 12 months\n",
    "\n",
    "* Flight_trans_12--Number of flight transactions in the past 12 months\n",
    "\n",
    "* Days_since_enrolled--Number of days since enrolled in flier program\n",
    "\n",
    "* Award--whether that person had award flight (free flight) or not"
   ]
  },
  {
   "cell_type": "markdown",
   "id": "8960bfd2",
   "metadata": {},
   "source": [
    "# Work Flow\n",
    "### 1. Load the data\n",
    "### 2. EDA\n",
    "### 3. Scaled the data\n",
    "### 4. Finding Optimum value of cluster\n",
    "### 5. Build the Model\n",
    "### 6. Check the performance\n",
    "### 7. Conclusion"
   ]
  },
  {
   "cell_type": "markdown",
   "id": "3d911d4d",
   "metadata": {},
   "source": [
    "## 1.Load The data"
   ]
  },
  {
   "cell_type": "code",
   "execution_count": 1,
   "id": "91d865f7",
   "metadata": {},
   "outputs": [],
   "source": [
    "import pandas as pd\n",
    "import numpy as np"
   ]
  },
  {
   "cell_type": "code",
   "execution_count": 2,
   "id": "f957e6e6",
   "metadata": {},
   "outputs": [],
   "source": [
    "import warnings\n",
    "warnings.filterwarnings('ignore')"
   ]
  },
  {
   "cell_type": "code",
   "execution_count": 3,
   "id": "c07e6286",
   "metadata": {},
   "outputs": [],
   "source": [
    "df = pd.read_csv('EastWestAirlines.csv',index_col='ID#',header=0)"
   ]
  },
  {
   "cell_type": "code",
   "execution_count": 4,
   "id": "c20e5a65",
   "metadata": {},
   "outputs": [
    {
     "data": {
      "text/html": [
       "<div>\n",
       "<style scoped>\n",
       "    .dataframe tbody tr th:only-of-type {\n",
       "        vertical-align: middle;\n",
       "    }\n",
       "\n",
       "    .dataframe tbody tr th {\n",
       "        vertical-align: top;\n",
       "    }\n",
       "\n",
       "    .dataframe thead th {\n",
       "        text-align: right;\n",
       "    }\n",
       "</style>\n",
       "<table border=\"1\" class=\"dataframe\">\n",
       "  <thead>\n",
       "    <tr style=\"text-align: right;\">\n",
       "      <th></th>\n",
       "      <th>Balance</th>\n",
       "      <th>Qual_miles</th>\n",
       "      <th>cc1_miles</th>\n",
       "      <th>cc2_miles</th>\n",
       "      <th>cc3_miles</th>\n",
       "      <th>Bonus_miles</th>\n",
       "      <th>Bonus_trans</th>\n",
       "      <th>Flight_miles_12mo</th>\n",
       "      <th>Flight_trans_12</th>\n",
       "      <th>Days_since_enroll</th>\n",
       "      <th>Award?</th>\n",
       "    </tr>\n",
       "    <tr>\n",
       "      <th>ID#</th>\n",
       "      <th></th>\n",
       "      <th></th>\n",
       "      <th></th>\n",
       "      <th></th>\n",
       "      <th></th>\n",
       "      <th></th>\n",
       "      <th></th>\n",
       "      <th></th>\n",
       "      <th></th>\n",
       "      <th></th>\n",
       "      <th></th>\n",
       "    </tr>\n",
       "  </thead>\n",
       "  <tbody>\n",
       "    <tr>\n",
       "      <th>1</th>\n",
       "      <td>28143</td>\n",
       "      <td>0</td>\n",
       "      <td>1</td>\n",
       "      <td>1</td>\n",
       "      <td>1</td>\n",
       "      <td>174</td>\n",
       "      <td>1</td>\n",
       "      <td>0</td>\n",
       "      <td>0</td>\n",
       "      <td>7000</td>\n",
       "      <td>0</td>\n",
       "    </tr>\n",
       "    <tr>\n",
       "      <th>2</th>\n",
       "      <td>19244</td>\n",
       "      <td>0</td>\n",
       "      <td>1</td>\n",
       "      <td>1</td>\n",
       "      <td>1</td>\n",
       "      <td>215</td>\n",
       "      <td>2</td>\n",
       "      <td>0</td>\n",
       "      <td>0</td>\n",
       "      <td>6968</td>\n",
       "      <td>0</td>\n",
       "    </tr>\n",
       "    <tr>\n",
       "      <th>3</th>\n",
       "      <td>41354</td>\n",
       "      <td>0</td>\n",
       "      <td>1</td>\n",
       "      <td>1</td>\n",
       "      <td>1</td>\n",
       "      <td>4123</td>\n",
       "      <td>4</td>\n",
       "      <td>0</td>\n",
       "      <td>0</td>\n",
       "      <td>7034</td>\n",
       "      <td>0</td>\n",
       "    </tr>\n",
       "    <tr>\n",
       "      <th>4</th>\n",
       "      <td>14776</td>\n",
       "      <td>0</td>\n",
       "      <td>1</td>\n",
       "      <td>1</td>\n",
       "      <td>1</td>\n",
       "      <td>500</td>\n",
       "      <td>1</td>\n",
       "      <td>0</td>\n",
       "      <td>0</td>\n",
       "      <td>6952</td>\n",
       "      <td>0</td>\n",
       "    </tr>\n",
       "    <tr>\n",
       "      <th>5</th>\n",
       "      <td>97752</td>\n",
       "      <td>0</td>\n",
       "      <td>4</td>\n",
       "      <td>1</td>\n",
       "      <td>1</td>\n",
       "      <td>43300</td>\n",
       "      <td>26</td>\n",
       "      <td>2077</td>\n",
       "      <td>4</td>\n",
       "      <td>6935</td>\n",
       "      <td>1</td>\n",
       "    </tr>\n",
       "  </tbody>\n",
       "</table>\n",
       "</div>"
      ],
      "text/plain": [
       "     Balance  Qual_miles  cc1_miles  cc2_miles  cc3_miles  Bonus_miles  \\\n",
       "ID#                                                                      \n",
       "1      28143           0          1          1          1          174   \n",
       "2      19244           0          1          1          1          215   \n",
       "3      41354           0          1          1          1         4123   \n",
       "4      14776           0          1          1          1          500   \n",
       "5      97752           0          4          1          1        43300   \n",
       "\n",
       "     Bonus_trans  Flight_miles_12mo  Flight_trans_12  Days_since_enroll  \\\n",
       "ID#                                                                       \n",
       "1              1                  0                0               7000   \n",
       "2              2                  0                0               6968   \n",
       "3              4                  0                0               7034   \n",
       "4              1                  0                0               6952   \n",
       "5             26               2077                4               6935   \n",
       "\n",
       "     Award?  \n",
       "ID#          \n",
       "1         0  \n",
       "2         0  \n",
       "3         0  \n",
       "4         0  \n",
       "5         1  "
      ]
     },
     "execution_count": 4,
     "metadata": {},
     "output_type": "execute_result"
    }
   ],
   "source": [
    "df.head()"
   ]
  },
  {
   "cell_type": "markdown",
   "id": "9f29138d",
   "metadata": {},
   "source": [
    "# 2. EDA"
   ]
  },
  {
   "cell_type": "code",
   "execution_count": 5,
   "id": "62e8c38d",
   "metadata": {},
   "outputs": [
    {
     "name": "stdout",
     "output_type": "stream",
     "text": [
      "<class 'pandas.core.frame.DataFrame'>\n",
      "Int64Index: 3999 entries, 1 to 4021\n",
      "Data columns (total 11 columns):\n",
      " #   Column             Non-Null Count  Dtype\n",
      "---  ------             --------------  -----\n",
      " 0   Balance            3999 non-null   int64\n",
      " 1   Qual_miles         3999 non-null   int64\n",
      " 2   cc1_miles          3999 non-null   int64\n",
      " 3   cc2_miles          3999 non-null   int64\n",
      " 4   cc3_miles          3999 non-null   int64\n",
      " 5   Bonus_miles        3999 non-null   int64\n",
      " 6   Bonus_trans        3999 non-null   int64\n",
      " 7   Flight_miles_12mo  3999 non-null   int64\n",
      " 8   Flight_trans_12    3999 non-null   int64\n",
      " 9   Days_since_enroll  3999 non-null   int64\n",
      " 10  Award?             3999 non-null   int64\n",
      "dtypes: int64(11)\n",
      "memory usage: 374.9 KB\n"
     ]
    }
   ],
   "source": [
    "df.info()"
   ]
  },
  {
   "cell_type": "markdown",
   "id": "88c26c23",
   "metadata": {},
   "source": [
    "All columns have right data types."
   ]
  },
  {
   "cell_type": "code",
   "execution_count": 6,
   "id": "69e07a86",
   "metadata": {},
   "outputs": [
    {
     "data": {
      "text/plain": [
       "(3999, 11)"
      ]
     },
     "execution_count": 6,
     "metadata": {},
     "output_type": "execute_result"
    }
   ],
   "source": [
    "df.shape"
   ]
  },
  {
   "cell_type": "code",
   "execution_count": 7,
   "id": "f5df1171",
   "metadata": {},
   "outputs": [
    {
     "data": {
      "text/plain": [
       "Balance              0\n",
       "Qual_miles           0\n",
       "cc1_miles            0\n",
       "cc2_miles            0\n",
       "cc3_miles            0\n",
       "Bonus_miles          0\n",
       "Bonus_trans          0\n",
       "Flight_miles_12mo    0\n",
       "Flight_trans_12      0\n",
       "Days_since_enroll    0\n",
       "Award?               0\n",
       "dtype: int64"
      ]
     },
     "execution_count": 7,
     "metadata": {},
     "output_type": "execute_result"
    }
   ],
   "source": [
    "df.isna().sum()"
   ]
  },
  {
   "cell_type": "code",
   "execution_count": 8,
   "id": "240aa20c",
   "metadata": {},
   "outputs": [],
   "source": [
    "# Let's rename the column\n",
    "df.rename(columns={'Flight_miles_12mo':'Flight_miles_12month','Award?':'Award','Flight_trans_12':'Flight_trans_12month'}, inplace=True)"
   ]
  },
  {
   "cell_type": "code",
   "execution_count": 9,
   "id": "b6ef5834",
   "metadata": {},
   "outputs": [
    {
     "data": {
      "text/html": [
       "<div>\n",
       "<style scoped>\n",
       "    .dataframe tbody tr th:only-of-type {\n",
       "        vertical-align: middle;\n",
       "    }\n",
       "\n",
       "    .dataframe tbody tr th {\n",
       "        vertical-align: top;\n",
       "    }\n",
       "\n",
       "    .dataframe thead th {\n",
       "        text-align: right;\n",
       "    }\n",
       "</style>\n",
       "<table border=\"1\" class=\"dataframe\">\n",
       "  <thead>\n",
       "    <tr style=\"text-align: right;\">\n",
       "      <th></th>\n",
       "      <th>Balance</th>\n",
       "      <th>Qual_miles</th>\n",
       "      <th>cc1_miles</th>\n",
       "      <th>cc2_miles</th>\n",
       "      <th>cc3_miles</th>\n",
       "      <th>Bonus_miles</th>\n",
       "      <th>Bonus_trans</th>\n",
       "      <th>Flight_miles_12month</th>\n",
       "      <th>Flight_trans_12month</th>\n",
       "      <th>Days_since_enroll</th>\n",
       "      <th>Award</th>\n",
       "    </tr>\n",
       "    <tr>\n",
       "      <th>ID#</th>\n",
       "      <th></th>\n",
       "      <th></th>\n",
       "      <th></th>\n",
       "      <th></th>\n",
       "      <th></th>\n",
       "      <th></th>\n",
       "      <th></th>\n",
       "      <th></th>\n",
       "      <th></th>\n",
       "      <th></th>\n",
       "      <th></th>\n",
       "    </tr>\n",
       "  </thead>\n",
       "  <tbody>\n",
       "    <tr>\n",
       "      <th>1</th>\n",
       "      <td>28143</td>\n",
       "      <td>0</td>\n",
       "      <td>1</td>\n",
       "      <td>1</td>\n",
       "      <td>1</td>\n",
       "      <td>174</td>\n",
       "      <td>1</td>\n",
       "      <td>0</td>\n",
       "      <td>0</td>\n",
       "      <td>7000</td>\n",
       "      <td>0</td>\n",
       "    </tr>\n",
       "    <tr>\n",
       "      <th>2</th>\n",
       "      <td>19244</td>\n",
       "      <td>0</td>\n",
       "      <td>1</td>\n",
       "      <td>1</td>\n",
       "      <td>1</td>\n",
       "      <td>215</td>\n",
       "      <td>2</td>\n",
       "      <td>0</td>\n",
       "      <td>0</td>\n",
       "      <td>6968</td>\n",
       "      <td>0</td>\n",
       "    </tr>\n",
       "    <tr>\n",
       "      <th>3</th>\n",
       "      <td>41354</td>\n",
       "      <td>0</td>\n",
       "      <td>1</td>\n",
       "      <td>1</td>\n",
       "      <td>1</td>\n",
       "      <td>4123</td>\n",
       "      <td>4</td>\n",
       "      <td>0</td>\n",
       "      <td>0</td>\n",
       "      <td>7034</td>\n",
       "      <td>0</td>\n",
       "    </tr>\n",
       "    <tr>\n",
       "      <th>4</th>\n",
       "      <td>14776</td>\n",
       "      <td>0</td>\n",
       "      <td>1</td>\n",
       "      <td>1</td>\n",
       "      <td>1</td>\n",
       "      <td>500</td>\n",
       "      <td>1</td>\n",
       "      <td>0</td>\n",
       "      <td>0</td>\n",
       "      <td>6952</td>\n",
       "      <td>0</td>\n",
       "    </tr>\n",
       "    <tr>\n",
       "      <th>5</th>\n",
       "      <td>97752</td>\n",
       "      <td>0</td>\n",
       "      <td>4</td>\n",
       "      <td>1</td>\n",
       "      <td>1</td>\n",
       "      <td>43300</td>\n",
       "      <td>26</td>\n",
       "      <td>2077</td>\n",
       "      <td>4</td>\n",
       "      <td>6935</td>\n",
       "      <td>1</td>\n",
       "    </tr>\n",
       "  </tbody>\n",
       "</table>\n",
       "</div>"
      ],
      "text/plain": [
       "     Balance  Qual_miles  cc1_miles  cc2_miles  cc3_miles  Bonus_miles  \\\n",
       "ID#                                                                      \n",
       "1      28143           0          1          1          1          174   \n",
       "2      19244           0          1          1          1          215   \n",
       "3      41354           0          1          1          1         4123   \n",
       "4      14776           0          1          1          1          500   \n",
       "5      97752           0          4          1          1        43300   \n",
       "\n",
       "     Bonus_trans  Flight_miles_12month  Flight_trans_12month  \\\n",
       "ID#                                                            \n",
       "1              1                     0                     0   \n",
       "2              2                     0                     0   \n",
       "3              4                     0                     0   \n",
       "4              1                     0                     0   \n",
       "5             26                  2077                     4   \n",
       "\n",
       "     Days_since_enroll  Award  \n",
       "ID#                            \n",
       "1                 7000      0  \n",
       "2                 6968      0  \n",
       "3                 7034      0  \n",
       "4                 6952      0  \n",
       "5                 6935      1  "
      ]
     },
     "execution_count": 9,
     "metadata": {},
     "output_type": "execute_result"
    }
   ],
   "source": [
    "df.head()"
   ]
  },
  {
   "cell_type": "code",
   "execution_count": 10,
   "id": "e047a996",
   "metadata": {},
   "outputs": [
    {
     "data": {
      "text/html": [
       "<div>\n",
       "<style scoped>\n",
       "    .dataframe tbody tr th:only-of-type {\n",
       "        vertical-align: middle;\n",
       "    }\n",
       "\n",
       "    .dataframe tbody tr th {\n",
       "        vertical-align: top;\n",
       "    }\n",
       "\n",
       "    .dataframe thead th {\n",
       "        text-align: right;\n",
       "    }\n",
       "</style>\n",
       "<table border=\"1\" class=\"dataframe\">\n",
       "  <thead>\n",
       "    <tr style=\"text-align: right;\">\n",
       "      <th></th>\n",
       "      <th>Balance</th>\n",
       "      <th>Qual_miles</th>\n",
       "      <th>cc1_miles</th>\n",
       "      <th>cc2_miles</th>\n",
       "      <th>cc3_miles</th>\n",
       "      <th>Bonus_miles</th>\n",
       "      <th>Bonus_trans</th>\n",
       "      <th>Flight_miles_12month</th>\n",
       "      <th>Flight_trans_12month</th>\n",
       "      <th>Days_since_enroll</th>\n",
       "      <th>Award</th>\n",
       "    </tr>\n",
       "  </thead>\n",
       "  <tbody>\n",
       "    <tr>\n",
       "      <th>count</th>\n",
       "      <td>3.999000e+03</td>\n",
       "      <td>3999.000000</td>\n",
       "      <td>3999.000000</td>\n",
       "      <td>3999.000000</td>\n",
       "      <td>3999.000000</td>\n",
       "      <td>3999.000000</td>\n",
       "      <td>3999.00000</td>\n",
       "      <td>3999.000000</td>\n",
       "      <td>3999.000000</td>\n",
       "      <td>3999.00000</td>\n",
       "      <td>3999.000000</td>\n",
       "    </tr>\n",
       "    <tr>\n",
       "      <th>mean</th>\n",
       "      <td>7.360133e+04</td>\n",
       "      <td>144.114529</td>\n",
       "      <td>2.059515</td>\n",
       "      <td>1.014504</td>\n",
       "      <td>1.012253</td>\n",
       "      <td>17144.846212</td>\n",
       "      <td>11.60190</td>\n",
       "      <td>460.055764</td>\n",
       "      <td>1.373593</td>\n",
       "      <td>4118.55939</td>\n",
       "      <td>0.370343</td>\n",
       "    </tr>\n",
       "    <tr>\n",
       "      <th>std</th>\n",
       "      <td>1.007757e+05</td>\n",
       "      <td>773.663804</td>\n",
       "      <td>1.376919</td>\n",
       "      <td>0.147650</td>\n",
       "      <td>0.195241</td>\n",
       "      <td>24150.967826</td>\n",
       "      <td>9.60381</td>\n",
       "      <td>1400.209171</td>\n",
       "      <td>3.793172</td>\n",
       "      <td>2065.13454</td>\n",
       "      <td>0.482957</td>\n",
       "    </tr>\n",
       "    <tr>\n",
       "      <th>min</th>\n",
       "      <td>0.000000e+00</td>\n",
       "      <td>0.000000</td>\n",
       "      <td>1.000000</td>\n",
       "      <td>1.000000</td>\n",
       "      <td>1.000000</td>\n",
       "      <td>0.000000</td>\n",
       "      <td>0.00000</td>\n",
       "      <td>0.000000</td>\n",
       "      <td>0.000000</td>\n",
       "      <td>2.00000</td>\n",
       "      <td>0.000000</td>\n",
       "    </tr>\n",
       "    <tr>\n",
       "      <th>25%</th>\n",
       "      <td>1.852750e+04</td>\n",
       "      <td>0.000000</td>\n",
       "      <td>1.000000</td>\n",
       "      <td>1.000000</td>\n",
       "      <td>1.000000</td>\n",
       "      <td>1250.000000</td>\n",
       "      <td>3.00000</td>\n",
       "      <td>0.000000</td>\n",
       "      <td>0.000000</td>\n",
       "      <td>2330.00000</td>\n",
       "      <td>0.000000</td>\n",
       "    </tr>\n",
       "    <tr>\n",
       "      <th>50%</th>\n",
       "      <td>4.309700e+04</td>\n",
       "      <td>0.000000</td>\n",
       "      <td>1.000000</td>\n",
       "      <td>1.000000</td>\n",
       "      <td>1.000000</td>\n",
       "      <td>7171.000000</td>\n",
       "      <td>12.00000</td>\n",
       "      <td>0.000000</td>\n",
       "      <td>0.000000</td>\n",
       "      <td>4096.00000</td>\n",
       "      <td>0.000000</td>\n",
       "    </tr>\n",
       "    <tr>\n",
       "      <th>75%</th>\n",
       "      <td>9.240400e+04</td>\n",
       "      <td>0.000000</td>\n",
       "      <td>3.000000</td>\n",
       "      <td>1.000000</td>\n",
       "      <td>1.000000</td>\n",
       "      <td>23800.500000</td>\n",
       "      <td>17.00000</td>\n",
       "      <td>311.000000</td>\n",
       "      <td>1.000000</td>\n",
       "      <td>5790.50000</td>\n",
       "      <td>1.000000</td>\n",
       "    </tr>\n",
       "    <tr>\n",
       "      <th>max</th>\n",
       "      <td>1.704838e+06</td>\n",
       "      <td>11148.000000</td>\n",
       "      <td>5.000000</td>\n",
       "      <td>3.000000</td>\n",
       "      <td>5.000000</td>\n",
       "      <td>263685.000000</td>\n",
       "      <td>86.00000</td>\n",
       "      <td>30817.000000</td>\n",
       "      <td>53.000000</td>\n",
       "      <td>8296.00000</td>\n",
       "      <td>1.000000</td>\n",
       "    </tr>\n",
       "  </tbody>\n",
       "</table>\n",
       "</div>"
      ],
      "text/plain": [
       "            Balance    Qual_miles    cc1_miles    cc2_miles    cc3_miles  \\\n",
       "count  3.999000e+03   3999.000000  3999.000000  3999.000000  3999.000000   \n",
       "mean   7.360133e+04    144.114529     2.059515     1.014504     1.012253   \n",
       "std    1.007757e+05    773.663804     1.376919     0.147650     0.195241   \n",
       "min    0.000000e+00      0.000000     1.000000     1.000000     1.000000   \n",
       "25%    1.852750e+04      0.000000     1.000000     1.000000     1.000000   \n",
       "50%    4.309700e+04      0.000000     1.000000     1.000000     1.000000   \n",
       "75%    9.240400e+04      0.000000     3.000000     1.000000     1.000000   \n",
       "max    1.704838e+06  11148.000000     5.000000     3.000000     5.000000   \n",
       "\n",
       "         Bonus_miles  Bonus_trans  Flight_miles_12month  Flight_trans_12month  \\\n",
       "count    3999.000000   3999.00000           3999.000000           3999.000000   \n",
       "mean    17144.846212     11.60190            460.055764              1.373593   \n",
       "std     24150.967826      9.60381           1400.209171              3.793172   \n",
       "min         0.000000      0.00000              0.000000              0.000000   \n",
       "25%      1250.000000      3.00000              0.000000              0.000000   \n",
       "50%      7171.000000     12.00000              0.000000              0.000000   \n",
       "75%     23800.500000     17.00000            311.000000              1.000000   \n",
       "max    263685.000000     86.00000          30817.000000             53.000000   \n",
       "\n",
       "       Days_since_enroll        Award  \n",
       "count         3999.00000  3999.000000  \n",
       "mean          4118.55939     0.370343  \n",
       "std           2065.13454     0.482957  \n",
       "min              2.00000     0.000000  \n",
       "25%           2330.00000     0.000000  \n",
       "50%           4096.00000     0.000000  \n",
       "75%           5790.50000     1.000000  \n",
       "max           8296.00000     1.000000  "
      ]
     },
     "execution_count": 10,
     "metadata": {},
     "output_type": "execute_result"
    }
   ],
   "source": [
    "df.describe()"
   ]
  },
  {
   "cell_type": "code",
   "execution_count": 11,
   "id": "ecec33cd",
   "metadata": {},
   "outputs": [
    {
     "data": {
      "text/plain": [
       "1"
      ]
     },
     "execution_count": 11,
     "metadata": {},
     "output_type": "execute_result"
    }
   ],
   "source": [
    "# Check the duplicate values\n",
    "df.duplicated().sum()"
   ]
  },
  {
   "cell_type": "code",
   "execution_count": 12,
   "id": "1355fbe3",
   "metadata": {},
   "outputs": [],
   "source": [
    "# Drop the duplicates\n",
    "df.drop_duplicates(inplace=True)"
   ]
  },
  {
   "cell_type": "code",
   "execution_count": 13,
   "id": "e403f697",
   "metadata": {},
   "outputs": [
    {
     "data": {
      "text/plain": [
       "0"
      ]
     },
     "execution_count": 13,
     "metadata": {},
     "output_type": "execute_result"
    }
   ],
   "source": [
    "df.duplicated().sum()"
   ]
  },
  {
   "cell_type": "code",
   "execution_count": 14,
   "id": "ee60322a",
   "metadata": {},
   "outputs": [
    {
     "data": {
      "text/plain": [
       "Balance                 0\n",
       "Qual_miles              0\n",
       "cc1_miles               0\n",
       "cc2_miles               0\n",
       "cc3_miles               0\n",
       "Bonus_miles             0\n",
       "Bonus_trans             0\n",
       "Flight_miles_12month    0\n",
       "Flight_trans_12month    0\n",
       "Days_since_enroll       0\n",
       "Award                   0\n",
       "dtype: int64"
      ]
     },
     "execution_count": 14,
     "metadata": {},
     "output_type": "execute_result"
    }
   ],
   "source": [
    "# Check the null values\n",
    "df.isna().sum()"
   ]
  },
  {
   "cell_type": "markdown",
   "id": "ad848ff4",
   "metadata": {},
   "source": [
    "There is no null values are present in this dataset."
   ]
  },
  {
   "cell_type": "markdown",
   "id": "b285fe2f",
   "metadata": {},
   "source": [
    "# 3. Scaled the data"
   ]
  },
  {
   "cell_type": "markdown",
   "id": "29633be2",
   "metadata": {},
   "source": [
    "### 3.1 MinMax Scaler"
   ]
  },
  {
   "cell_type": "code",
   "execution_count": 15,
   "id": "7881076d",
   "metadata": {},
   "outputs": [],
   "source": [
    "from sklearn.preprocessing import MinMaxScaler"
   ]
  },
  {
   "cell_type": "code",
   "execution_count": 16,
   "id": "af917894",
   "metadata": {},
   "outputs": [],
   "source": [
    "minmax = MinMaxScaler()"
   ]
  },
  {
   "cell_type": "code",
   "execution_count": 17,
   "id": "ed3d71aa",
   "metadata": {},
   "outputs": [
    {
     "data": {
      "text/plain": [
       "array([[1.65077268e-02, 0.00000000e+00, 0.00000000e+00, 0.00000000e+00,\n",
       "        0.00000000e+00, 6.59878264e-04, 1.16279070e-02, 0.00000000e+00,\n",
       "        0.00000000e+00, 8.43742464e-01, 0.00000000e+00]])"
      ]
     },
     "execution_count": 17,
     "metadata": {},
     "output_type": "execute_result"
    }
   ],
   "source": [
    "minmax_df = minmax.fit_transform(df)\n",
    "minmax_df[:1]"
   ]
  },
  {
   "cell_type": "markdown",
   "id": "dcbb8bfa",
   "metadata": {},
   "source": [
    "## 3.2 Standard Scaler"
   ]
  },
  {
   "cell_type": "code",
   "execution_count": 18,
   "id": "c29ea074",
   "metadata": {},
   "outputs": [],
   "source": [
    "from sklearn.preprocessing import StandardScaler"
   ]
  },
  {
   "cell_type": "code",
   "execution_count": 19,
   "id": "d6c4b89a",
   "metadata": {},
   "outputs": [],
   "source": [
    "std = StandardScaler()"
   ]
  },
  {
   "cell_type": "code",
   "execution_count": 20,
   "id": "b7bc9504",
   "metadata": {},
   "outputs": [
    {
     "data": {
      "text/plain": [
       "array([[-0.45129387, -0.18632279, -0.76973166, -0.09825429, -0.06277446,\n",
       "        -0.70292027, -1.10443028, -0.32864879, -0.3622191 ,  1.39523468,\n",
       "        -0.76707163]])"
      ]
     },
     "execution_count": 20,
     "metadata": {},
     "output_type": "execute_result"
    }
   ],
   "source": [
    "std_df = std.fit_transform(df)\n",
    "std_df[:1]"
   ]
  },
  {
   "cell_type": "markdown",
   "id": "77cd1c52",
   "metadata": {},
   "source": [
    "## 3.3 Normalizer"
   ]
  },
  {
   "cell_type": "code",
   "execution_count": 21,
   "id": "213c6a8f",
   "metadata": {},
   "outputs": [],
   "source": [
    "from sklearn.preprocessing import Normalizer"
   ]
  },
  {
   "cell_type": "code",
   "execution_count": 22,
   "id": "b0a6e01d",
   "metadata": {},
   "outputs": [],
   "source": [
    "norm = Normalizer()"
   ]
  },
  {
   "cell_type": "code",
   "execution_count": 23,
   "id": "e4d22ddd",
   "metadata": {},
   "outputs": [
    {
     "data": {
      "text/plain": [
       "array([[9.70414393e-01, 0.00000000e+00, 3.44815547e-05, 3.44815547e-05,\n",
       "        3.44815547e-05, 5.99979051e-03, 3.44815547e-05, 0.00000000e+00,\n",
       "        0.00000000e+00, 2.41370883e-01, 0.00000000e+00]])"
      ]
     },
     "execution_count": 23,
     "metadata": {},
     "output_type": "execute_result"
    }
   ],
   "source": [
    "norm_df = norm.fit_transform(df)\n",
    "norm_df[:1]"
   ]
  },
  {
   "cell_type": "markdown",
   "id": "215ec822",
   "metadata": {},
   "source": [
    "## 3.4 MaxAbsScaler"
   ]
  },
  {
   "cell_type": "code",
   "execution_count": 24,
   "id": "0d759fa4",
   "metadata": {},
   "outputs": [],
   "source": [
    "from sklearn.preprocessing import MaxAbsScaler"
   ]
  },
  {
   "cell_type": "code",
   "execution_count": 25,
   "id": "3749dac1",
   "metadata": {},
   "outputs": [],
   "source": [
    "maxabs = MaxAbsScaler()"
   ]
  },
  {
   "cell_type": "code",
   "execution_count": 26,
   "id": "3559cb50",
   "metadata": {},
   "outputs": [],
   "source": [
    "maxabs_df = maxabs.fit_transform(df)"
   ]
  },
  {
   "cell_type": "code",
   "execution_count": 27,
   "id": "711c785c",
   "metadata": {},
   "outputs": [
    {
     "data": {
      "text/plain": [
       "array([[1.65077268e-02, 0.00000000e+00, 2.00000000e-01, 3.33333333e-01,\n",
       "        2.00000000e-01, 6.59878264e-04, 1.16279070e-02, 0.00000000e+00,\n",
       "        0.00000000e+00, 8.43780135e-01, 0.00000000e+00]])"
      ]
     },
     "execution_count": 27,
     "metadata": {},
     "output_type": "execute_result"
    }
   ],
   "source": [
    "maxabs_df[:1]"
   ]
  },
  {
   "cell_type": "markdown",
   "id": "c9b4e6df",
   "metadata": {},
   "source": [
    "## 3.5 PowerTransformer"
   ]
  },
  {
   "cell_type": "code",
   "execution_count": 28,
   "id": "833dfcde",
   "metadata": {},
   "outputs": [],
   "source": [
    "from sklearn.preprocessing import PowerTransformer"
   ]
  },
  {
   "cell_type": "code",
   "execution_count": 29,
   "id": "76a212e9",
   "metadata": {},
   "outputs": [],
   "source": [
    "power = PowerTransformer( standardize=False)"
   ]
  },
  {
   "cell_type": "code",
   "execution_count": 30,
   "id": "793bb56e",
   "metadata": {},
   "outputs": [
    {
     "data": {
      "text/plain": [
       "array([[ 2.60449289e+01, -0.00000000e+00,  4.21643271e-01,\n",
       "         2.13922282e-02,  2.18912544e-02,  9.84328189e+00,\n",
       "         7.99559500e-01, -0.00000000e+00, -0.00000000e+00,\n",
       "         8.14680365e+02, -0.00000000e+00]])"
      ]
     },
     "execution_count": 30,
     "metadata": {},
     "output_type": "execute_result"
    }
   ],
   "source": [
    "power_df = power.fit_transform(df)\n",
    "power_df[:1]"
   ]
  },
  {
   "cell_type": "markdown",
   "id": "6eba82e4",
   "metadata": {},
   "source": [
    "## 3.6 QuantileTransformer"
   ]
  },
  {
   "cell_type": "code",
   "execution_count": 31,
   "id": "1e714a18",
   "metadata": {},
   "outputs": [],
   "source": [
    "from sklearn.preprocessing import QuantileTransformer"
   ]
  },
  {
   "cell_type": "code",
   "execution_count": 32,
   "id": "0c14d3be",
   "metadata": {},
   "outputs": [],
   "source": [
    "quantile = QuantileTransformer()"
   ]
  },
  {
   "cell_type": "code",
   "execution_count": 33,
   "id": "32b82348",
   "metadata": {},
   "outputs": [
    {
     "data": {
      "text/plain": [
       "array([[0.36640601, 0.        , 0.        , 0.        , 0.        ,\n",
       "        0.14014014, 0.14514515, 0.        , 0.        , 0.9010326 ,\n",
       "        0.        ]])"
      ]
     },
     "execution_count": 33,
     "metadata": {},
     "output_type": "execute_result"
    }
   ],
   "source": [
    "quan_df = quantile.fit_transform(df)\n",
    "quan_df[:1]"
   ]
  },
  {
   "cell_type": "markdown",
   "id": "102912cc",
   "metadata": {},
   "source": [
    "## 3.7 Divide by Maximum"
   ]
  },
  {
   "cell_type": "code",
   "execution_count": 34,
   "id": "15d7a22c",
   "metadata": {},
   "outputs": [],
   "source": [
    "maxdiv_df = df.apply(lambda x: x/(max(x)+0.0001))"
   ]
  },
  {
   "cell_type": "code",
   "execution_count": 35,
   "id": "120bf90c",
   "metadata": {},
   "outputs": [
    {
     "data": {
      "text/html": [
       "<div>\n",
       "<style scoped>\n",
       "    .dataframe tbody tr th:only-of-type {\n",
       "        vertical-align: middle;\n",
       "    }\n",
       "\n",
       "    .dataframe tbody tr th {\n",
       "        vertical-align: top;\n",
       "    }\n",
       "\n",
       "    .dataframe thead th {\n",
       "        text-align: right;\n",
       "    }\n",
       "</style>\n",
       "<table border=\"1\" class=\"dataframe\">\n",
       "  <thead>\n",
       "    <tr style=\"text-align: right;\">\n",
       "      <th></th>\n",
       "      <th>Balance</th>\n",
       "      <th>Qual_miles</th>\n",
       "      <th>cc1_miles</th>\n",
       "      <th>cc2_miles</th>\n",
       "      <th>cc3_miles</th>\n",
       "      <th>Bonus_miles</th>\n",
       "      <th>Bonus_trans</th>\n",
       "      <th>Flight_miles_12month</th>\n",
       "      <th>Flight_trans_12month</th>\n",
       "      <th>Days_since_enroll</th>\n",
       "      <th>Award</th>\n",
       "    </tr>\n",
       "    <tr>\n",
       "      <th>ID#</th>\n",
       "      <th></th>\n",
       "      <th></th>\n",
       "      <th></th>\n",
       "      <th></th>\n",
       "      <th></th>\n",
       "      <th></th>\n",
       "      <th></th>\n",
       "      <th></th>\n",
       "      <th></th>\n",
       "      <th></th>\n",
       "      <th></th>\n",
       "    </tr>\n",
       "  </thead>\n",
       "  <tbody>\n",
       "    <tr>\n",
       "      <th>1</th>\n",
       "      <td>0.016508</td>\n",
       "      <td>0.0</td>\n",
       "      <td>0.199996</td>\n",
       "      <td>0.333322</td>\n",
       "      <td>0.199996</td>\n",
       "      <td>0.000660</td>\n",
       "      <td>0.011628</td>\n",
       "      <td>0.000000</td>\n",
       "      <td>0.000000</td>\n",
       "      <td>0.843780</td>\n",
       "      <td>0.0000</td>\n",
       "    </tr>\n",
       "    <tr>\n",
       "      <th>2</th>\n",
       "      <td>0.011288</td>\n",
       "      <td>0.0</td>\n",
       "      <td>0.199996</td>\n",
       "      <td>0.333322</td>\n",
       "      <td>0.199996</td>\n",
       "      <td>0.000815</td>\n",
       "      <td>0.023256</td>\n",
       "      <td>0.000000</td>\n",
       "      <td>0.000000</td>\n",
       "      <td>0.839923</td>\n",
       "      <td>0.0000</td>\n",
       "    </tr>\n",
       "    <tr>\n",
       "      <th>3</th>\n",
       "      <td>0.024257</td>\n",
       "      <td>0.0</td>\n",
       "      <td>0.199996</td>\n",
       "      <td>0.333322</td>\n",
       "      <td>0.199996</td>\n",
       "      <td>0.015636</td>\n",
       "      <td>0.046512</td>\n",
       "      <td>0.000000</td>\n",
       "      <td>0.000000</td>\n",
       "      <td>0.847878</td>\n",
       "      <td>0.0000</td>\n",
       "    </tr>\n",
       "    <tr>\n",
       "      <th>4</th>\n",
       "      <td>0.008667</td>\n",
       "      <td>0.0</td>\n",
       "      <td>0.199996</td>\n",
       "      <td>0.333322</td>\n",
       "      <td>0.199996</td>\n",
       "      <td>0.001896</td>\n",
       "      <td>0.011628</td>\n",
       "      <td>0.000000</td>\n",
       "      <td>0.000000</td>\n",
       "      <td>0.837994</td>\n",
       "      <td>0.0000</td>\n",
       "    </tr>\n",
       "    <tr>\n",
       "      <th>5</th>\n",
       "      <td>0.057338</td>\n",
       "      <td>0.0</td>\n",
       "      <td>0.799984</td>\n",
       "      <td>0.333322</td>\n",
       "      <td>0.199996</td>\n",
       "      <td>0.164211</td>\n",
       "      <td>0.302325</td>\n",
       "      <td>0.067398</td>\n",
       "      <td>0.075472</td>\n",
       "      <td>0.835945</td>\n",
       "      <td>0.9999</td>\n",
       "    </tr>\n",
       "  </tbody>\n",
       "</table>\n",
       "</div>"
      ],
      "text/plain": [
       "      Balance  Qual_miles  cc1_miles  cc2_miles  cc3_miles  Bonus_miles  \\\n",
       "ID#                                                                       \n",
       "1    0.016508         0.0   0.199996   0.333322   0.199996     0.000660   \n",
       "2    0.011288         0.0   0.199996   0.333322   0.199996     0.000815   \n",
       "3    0.024257         0.0   0.199996   0.333322   0.199996     0.015636   \n",
       "4    0.008667         0.0   0.199996   0.333322   0.199996     0.001896   \n",
       "5    0.057338         0.0   0.799984   0.333322   0.199996     0.164211   \n",
       "\n",
       "     Bonus_trans  Flight_miles_12month  Flight_trans_12month  \\\n",
       "ID#                                                            \n",
       "1       0.011628              0.000000              0.000000   \n",
       "2       0.023256              0.000000              0.000000   \n",
       "3       0.046512              0.000000              0.000000   \n",
       "4       0.011628              0.000000              0.000000   \n",
       "5       0.302325              0.067398              0.075472   \n",
       "\n",
       "     Days_since_enroll   Award  \n",
       "ID#                             \n",
       "1             0.843780  0.0000  \n",
       "2             0.839923  0.0000  \n",
       "3             0.847878  0.0000  \n",
       "4             0.837994  0.0000  \n",
       "5             0.835945  0.9999  "
      ]
     },
     "execution_count": 35,
     "metadata": {},
     "output_type": "execute_result"
    }
   ],
   "source": [
    "maxdiv_df.head()"
   ]
  },
  {
   "cell_type": "markdown",
   "id": "89909bf5",
   "metadata": {},
   "source": [
    "# 4. Find The optimal number of clusters"
   ]
  },
  {
   "cell_type": "code",
   "execution_count": 36,
   "id": "d658fa49",
   "metadata": {},
   "outputs": [],
   "source": [
    "from sklearn.cluster import KMeans"
   ]
  },
  {
   "cell_type": "code",
   "execution_count": 37,
   "id": "72207c05",
   "metadata": {},
   "outputs": [
    {
     "data": {
      "text/plain": [
       "[42956247163679.82,\n",
       " 20820865882330.6,\n",
       " 11789048776090.918,\n",
       " 7548625331980.041,\n",
       " 5724130459573.597,\n",
       " 4549961263876.913,\n",
       " 3696955612374.2686,\n",
       " 3271521290570.679,\n",
       " 2897844691873.2456,\n",
       " 2622313934430.213,\n",
       " 2380280457853.7466,\n",
       " 2143945271531.1978,\n",
       " 1965856746744.108,\n",
       " 1829179218921.6592,\n",
       " 1705676772652.8674,\n",
       " 1579844845335.1663,\n",
       " 1462813631512.6973,\n",
       " 1376023839478.6162,\n",
       " 1338562607394.8247]"
      ]
     },
     "execution_count": 37,
     "metadata": {},
     "output_type": "execute_result"
    }
   ],
   "source": [
    "WCSS = []\n",
    "for i in range(1,20):\n",
    "    model = KMeans(n_clusters=i, init='k-means++')\n",
    "    model.fit(df)\n",
    "    WCSS.append(model.inertia_)\n",
    "WCSS"
   ]
  },
  {
   "cell_type": "code",
   "execution_count": 38,
   "id": "460fb233",
   "metadata": {},
   "outputs": [],
   "source": [
    "import seaborn as sns\n",
    "import matplotlib.pyplot as plt"
   ]
  },
  {
   "cell_type": "code",
   "execution_count": 39,
   "id": "f153160a",
   "metadata": {},
   "outputs": [
    {
     "data": {
      "image/png": "[encoded data removed]",
      "text/plain": [
       "<Figure size 640x480 with 1 Axes>"
      ]
     },
     "metadata": {},
     "output_type": "display_data"
    }
   ],
   "source": [
    "plt.plot(WCSS)\n",
    "plt.title('Elbow Plot')\n",
    "plt.show()"
   ]
  },
  {
   "cell_type": "markdown",
   "id": "cfd59162",
   "metadata": {},
   "source": [
    "We can see n_cluster = 3 is the optimal value"
   ]
  },
  {
   "cell_type": "markdown",
   "id": "0bf9593a",
   "metadata": {},
   "source": [
    "# 5. Let's Build the model with different Scaled data"
   ]
  },
  {
   "cell_type": "markdown",
   "id": "de3122b8",
   "metadata": {},
   "source": [
    "## 5.1 KMeans clustering"
   ]
  },
  {
   "cell_type": "code",
   "execution_count": 40,
   "id": "4aeafc47",
   "metadata": {},
   "outputs": [],
   "source": [
    "from sklearn.metrics import silhouette_score"
   ]
  },
  {
   "cell_type": "code",
   "execution_count": 41,
   "id": "41c18ed2",
   "metadata": {},
   "outputs": [],
   "source": [
    "scaled_df_list = [minmax_df,std_df,norm_df,maxabs_df,power_df,quan_df,maxdiv_df]\n",
    "df_list = ['minmax_df','std_df','norm_df','maxabs_df','power_df','quan_df','maxdiv_df']"
   ]
  },
  {
   "cell_type": "code",
   "execution_count": 42,
   "id": "a51f2077",
   "metadata": {},
   "outputs": [
    {
     "name": "stdout",
     "output_type": "stream",
     "text": [
      "['minmax_df', 'std_df', 'norm_df', 'maxabs_df', 'power_df', 'quan_df', 'maxdiv_df']\n",
      "0.0925784753511126\n",
      "[0 0 0 ... 1 0 0]\n",
      "0.28829803554136324\n",
      "[2 2 2 ... 0 2 2]\n",
      "-0.22935792756098397\n",
      "[0 0 0 ... 0 0 0]\n",
      "0.09138618775276569\n",
      "[2 2 2 ... 1 2 2]\n",
      "-0.09678347157781234\n",
      "[2 2 2 ... 0 0 0]\n",
      "0.06697051924474302\n",
      "[0 0 0 ... 1 2 0]\n",
      "0.09123262227122647\n",
      "[2 2 2 ... 0 2 2]\n"
     ]
    }
   ],
   "source": [
    "print(df_list)\n",
    "for data in scaled_df_list:\n",
    "    model = KMeans(n_clusters=3)\n",
    "    model.fit(data)\n",
    "    labels = model.labels_\n",
    "    print(silhouette_score(df, labels))\n",
    "    print(labels)"
   ]
  },
  {
   "cell_type": "markdown",
   "id": "269dd65e",
   "metadata": {},
   "source": [
    "We got maximum silhouette_score for Standard Scaler Data"
   ]
  },
  {
   "cell_type": "code",
   "execution_count": 43,
   "id": "b541db7f",
   "metadata": {},
   "outputs": [
    {
     "data": {
      "text/plain": [
       "array([1, 1, 1, ..., 2, 1, 1])"
      ]
     },
     "execution_count": 43,
     "metadata": {},
     "output_type": "execute_result"
    }
   ],
   "source": [
    "kmeans_model = KMeans(n_clusters=3)\n",
    "kmeans_model.fit(std_df)\n",
    "labels = kmeans_model.labels_\n",
    "labels"
   ]
  },
  {
   "cell_type": "code",
   "execution_count": 44,
   "id": "4c714861",
   "metadata": {},
   "outputs": [
    {
     "data": {
      "text/plain": [
       "0.28829803554136324"
      ]
     },
     "execution_count": 44,
     "metadata": {},
     "output_type": "execute_result"
    }
   ],
   "source": [
    "kmeans_silhouette = silhouette_score(df, labels)\n",
    "kmeans_silhouette"
   ]
  },
  {
   "cell_type": "code",
   "execution_count": 45,
   "id": "ec57f9f6",
   "metadata": {},
   "outputs": [],
   "source": [
    "df1 = df.copy()"
   ]
  },
  {
   "cell_type": "code",
   "execution_count": 46,
   "id": "64b1d615",
   "metadata": {},
   "outputs": [
    {
     "data": {
      "text/html": [
       "<div>\n",
       "<style scoped>\n",
       "    .dataframe tbody tr th:only-of-type {\n",
       "        vertical-align: middle;\n",
       "    }\n",
       "\n",
       "    .dataframe tbody tr th {\n",
       "        vertical-align: top;\n",
       "    }\n",
       "\n",
       "    .dataframe thead th {\n",
       "        text-align: right;\n",
       "    }\n",
       "</style>\n",
       "<table border=\"1\" class=\"dataframe\">\n",
       "  <thead>\n",
       "    <tr style=\"text-align: right;\">\n",
       "      <th></th>\n",
       "      <th>Balance</th>\n",
       "      <th>Qual_miles</th>\n",
       "      <th>cc1_miles</th>\n",
       "      <th>cc2_miles</th>\n",
       "      <th>cc3_miles</th>\n",
       "      <th>Bonus_miles</th>\n",
       "      <th>Bonus_trans</th>\n",
       "      <th>Flight_miles_12month</th>\n",
       "      <th>Flight_trans_12month</th>\n",
       "      <th>Days_since_enroll</th>\n",
       "      <th>Award</th>\n",
       "      <th>labels</th>\n",
       "    </tr>\n",
       "    <tr>\n",
       "      <th>ID#</th>\n",
       "      <th></th>\n",
       "      <th></th>\n",
       "      <th></th>\n",
       "      <th></th>\n",
       "      <th></th>\n",
       "      <th></th>\n",
       "      <th></th>\n",
       "      <th></th>\n",
       "      <th></th>\n",
       "      <th></th>\n",
       "      <th></th>\n",
       "      <th></th>\n",
       "    </tr>\n",
       "  </thead>\n",
       "  <tbody>\n",
       "    <tr>\n",
       "      <th>1</th>\n",
       "      <td>28143</td>\n",
       "      <td>0</td>\n",
       "      <td>1</td>\n",
       "      <td>1</td>\n",
       "      <td>1</td>\n",
       "      <td>174</td>\n",
       "      <td>1</td>\n",
       "      <td>0</td>\n",
       "      <td>0</td>\n",
       "      <td>7000</td>\n",
       "      <td>0</td>\n",
       "      <td>1</td>\n",
       "    </tr>\n",
       "    <tr>\n",
       "      <th>2</th>\n",
       "      <td>19244</td>\n",
       "      <td>0</td>\n",
       "      <td>1</td>\n",
       "      <td>1</td>\n",
       "      <td>1</td>\n",
       "      <td>215</td>\n",
       "      <td>2</td>\n",
       "      <td>0</td>\n",
       "      <td>0</td>\n",
       "      <td>6968</td>\n",
       "      <td>0</td>\n",
       "      <td>1</td>\n",
       "    </tr>\n",
       "    <tr>\n",
       "      <th>3</th>\n",
       "      <td>41354</td>\n",
       "      <td>0</td>\n",
       "      <td>1</td>\n",
       "      <td>1</td>\n",
       "      <td>1</td>\n",
       "      <td>4123</td>\n",
       "      <td>4</td>\n",
       "      <td>0</td>\n",
       "      <td>0</td>\n",
       "      <td>7034</td>\n",
       "      <td>0</td>\n",
       "      <td>1</td>\n",
       "    </tr>\n",
       "    <tr>\n",
       "      <th>4</th>\n",
       "      <td>14776</td>\n",
       "      <td>0</td>\n",
       "      <td>1</td>\n",
       "      <td>1</td>\n",
       "      <td>1</td>\n",
       "      <td>500</td>\n",
       "      <td>1</td>\n",
       "      <td>0</td>\n",
       "      <td>0</td>\n",
       "      <td>6952</td>\n",
       "      <td>0</td>\n",
       "      <td>1</td>\n",
       "    </tr>\n",
       "    <tr>\n",
       "      <th>5</th>\n",
       "      <td>97752</td>\n",
       "      <td>0</td>\n",
       "      <td>4</td>\n",
       "      <td>1</td>\n",
       "      <td>1</td>\n",
       "      <td>43300</td>\n",
       "      <td>26</td>\n",
       "      <td>2077</td>\n",
       "      <td>4</td>\n",
       "      <td>6935</td>\n",
       "      <td>1</td>\n",
       "      <td>2</td>\n",
       "    </tr>\n",
       "  </tbody>\n",
       "</table>\n",
       "</div>"
      ],
      "text/plain": [
       "     Balance  Qual_miles  cc1_miles  cc2_miles  cc3_miles  Bonus_miles  \\\n",
       "ID#                                                                      \n",
       "1      28143           0          1          1          1          174   \n",
       "2      19244           0          1          1          1          215   \n",
       "3      41354           0          1          1          1         4123   \n",
       "4      14776           0          1          1          1          500   \n",
       "5      97752           0          4          1          1        43300   \n",
       "\n",
       "     Bonus_trans  Flight_miles_12month  Flight_trans_12month  \\\n",
       "ID#                                                            \n",
       "1              1                     0                     0   \n",
       "2              2                     0                     0   \n",
       "3              4                     0                     0   \n",
       "4              1                     0                     0   \n",
       "5             26                  2077                     4   \n",
       "\n",
       "     Days_since_enroll  Award  labels  \n",
       "ID#                                    \n",
       "1                 7000      0       1  \n",
       "2                 6968      0       1  \n",
       "3                 7034      0       1  \n",
       "4                 6952      0       1  \n",
       "5                 6935      1       2  "
      ]
     },
     "execution_count": 46,
     "metadata": {},
     "output_type": "execute_result"
    }
   ],
   "source": [
    "df1['labels'] = labels\n",
    "df1.head()"
   ]
  },
  {
   "cell_type": "code",
   "execution_count": 47,
   "id": "208a7e5c",
   "metadata": {},
   "outputs": [],
   "source": [
    "grp = df1.groupby('labels')"
   ]
  },
  {
   "cell_type": "code",
   "execution_count": 48,
   "id": "d7cff1d6",
   "metadata": {},
   "outputs": [
    {
     "data": {
      "text/html": [
       "<div>\n",
       "<style scoped>\n",
       "    .dataframe tbody tr th:only-of-type {\n",
       "        vertical-align: middle;\n",
       "    }\n",
       "\n",
       "    .dataframe tbody tr th {\n",
       "        vertical-align: top;\n",
       "    }\n",
       "\n",
       "    .dataframe thead tr th {\n",
       "        text-align: left;\n",
       "    }\n",
       "\n",
       "    .dataframe thead tr:last-of-type th {\n",
       "        text-align: right;\n",
       "    }\n",
       "</style>\n",
       "<table border=\"1\" class=\"dataframe\">\n",
       "  <thead>\n",
       "    <tr>\n",
       "      <th></th>\n",
       "      <th>Balance</th>\n",
       "      <th>Qual_miles</th>\n",
       "      <th>cc1_miles</th>\n",
       "      <th>cc2_miles</th>\n",
       "      <th>cc3_miles</th>\n",
       "      <th>Bonus_miles</th>\n",
       "      <th>Bonus_trans</th>\n",
       "      <th>Flight_miles_12month</th>\n",
       "      <th>Flight_trans_12month</th>\n",
       "      <th>Days_since_enroll</th>\n",
       "      <th>Award</th>\n",
       "    </tr>\n",
       "    <tr>\n",
       "      <th></th>\n",
       "      <th>mean</th>\n",
       "      <th>mean</th>\n",
       "      <th>mean</th>\n",
       "      <th>mean</th>\n",
       "      <th>mean</th>\n",
       "      <th>mean</th>\n",
       "      <th>mean</th>\n",
       "      <th>mean</th>\n",
       "      <th>mean</th>\n",
       "      <th>mean</th>\n",
       "      <th>mean</th>\n",
       "    </tr>\n",
       "    <tr>\n",
       "      <th>labels</th>\n",
       "      <th></th>\n",
       "      <th></th>\n",
       "      <th></th>\n",
       "      <th></th>\n",
       "      <th></th>\n",
       "      <th></th>\n",
       "      <th></th>\n",
       "      <th></th>\n",
       "      <th></th>\n",
       "      <th></th>\n",
       "      <th></th>\n",
       "    </tr>\n",
       "  </thead>\n",
       "  <tbody>\n",
       "    <tr>\n",
       "      <th>0</th>\n",
       "      <td>197873.367470</td>\n",
       "      <td>780.891566</td>\n",
       "      <td>2.150602</td>\n",
       "      <td>1.036145</td>\n",
       "      <td>1.030120</td>\n",
       "      <td>31562.445783</td>\n",
       "      <td>27.066265</td>\n",
       "      <td>5373.602410</td>\n",
       "      <td>15.704819</td>\n",
       "      <td>4730.018072</td>\n",
       "      <td>0.807229</td>\n",
       "    </tr>\n",
       "    <tr>\n",
       "      <th>1</th>\n",
       "      <td>44386.917995</td>\n",
       "      <td>96.870968</td>\n",
       "      <td>1.235911</td>\n",
       "      <td>1.019044</td>\n",
       "      <td>1.000389</td>\n",
       "      <td>4833.713175</td>\n",
       "      <td>7.008162</td>\n",
       "      <td>200.775360</td>\n",
       "      <td>0.626506</td>\n",
       "      <td>3705.261562</td>\n",
       "      <td>0.204042</td>\n",
       "    </tr>\n",
       "    <tr>\n",
       "      <th>2</th>\n",
       "      <td>116978.705322</td>\n",
       "      <td>156.820492</td>\n",
       "      <td>3.731533</td>\n",
       "      <td>1.002383</td>\n",
       "      <td>1.034154</td>\n",
       "      <td>40417.577442</td>\n",
       "      <td>18.960286</td>\n",
       "      <td>342.454329</td>\n",
       "      <td>1.011914</td>\n",
       "      <td>4884.591739</td>\n",
       "      <td>0.652899</td>\n",
       "    </tr>\n",
       "  </tbody>\n",
       "</table>\n",
       "</div>"
      ],
      "text/plain": [
       "              Balance  Qual_miles cc1_miles cc2_miles cc3_miles   Bonus_miles  \\\n",
       "                 mean        mean      mean      mean      mean          mean   \n",
       "labels                                                                          \n",
       "0       197873.367470  780.891566  2.150602  1.036145  1.030120  31562.445783   \n",
       "1        44386.917995   96.870968  1.235911  1.019044  1.000389   4833.713175   \n",
       "2       116978.705322  156.820492  3.731533  1.002383  1.034154  40417.577442   \n",
       "\n",
       "       Bonus_trans Flight_miles_12month Flight_trans_12month  \\\n",
       "              mean                 mean                 mean   \n",
       "labels                                                         \n",
       "0        27.066265          5373.602410            15.704819   \n",
       "1         7.008162           200.775360             0.626506   \n",
       "2        18.960286           342.454329             1.011914   \n",
       "\n",
       "       Days_since_enroll     Award  \n",
       "                    mean      mean  \n",
       "labels                              \n",
       "0            4730.018072  0.807229  \n",
       "1            3705.261562  0.204042  \n",
       "2            4884.591739  0.652899  "
      ]
     },
     "execution_count": 48,
     "metadata": {},
     "output_type": "execute_result"
    }
   ],
   "source": [
    "grp.agg(['mean'])"
   ]
  },
  {
   "cell_type": "code",
   "execution_count": 95,
   "id": "63496a66",
   "metadata": {},
   "outputs": [
    {
     "data": {
      "text/plain": [
       "1    2573\n",
       "2    1259\n",
       "0     166\n",
       "Name: labels, dtype: int64"
      ]
     },
     "execution_count": 95,
     "metadata": {},
     "output_type": "execute_result"
    }
   ],
   "source": [
    "df1['labels'].value_counts()"
   ]
  },
  {
   "cell_type": "code",
   "execution_count": 94,
   "id": "725cd46c",
   "metadata": {},
   "outputs": [
    {
     "data": {
      "image/png": "[encoded data removed]",
      "text/plain": [
       "<Figure size 640x480 with 1 Axes>"
      ]
     },
     "metadata": {},
     "output_type": "display_data"
    }
   ],
   "source": [
    "sns.scatterplot(x=std_df[:,0], y=std_df[:,1], hue=df1['labels'])\n",
    "plt.show()"
   ]
  },
  {
   "cell_type": "markdown",
   "id": "bbaf7da1",
   "metadata": {},
   "source": [
    "## 5.2 KMeans ++"
   ]
  },
  {
   "cell_type": "code",
   "execution_count": 51,
   "id": "4378ec8d",
   "metadata": {},
   "outputs": [
    {
     "name": "stdout",
     "output_type": "stream",
     "text": [
      "['minmax_df', 'std_df', 'norm_df', 'maxabs_df', 'power_df', 'quan_df', 'maxdiv_df']\n",
      "[0 0 0 ... 1 0 0]\n",
      "0.0925784753511126\n",
      "[0 0 0 ... 1 0 0]\n",
      "0.28858921087211564\n",
      "[0 0 0 ... 0 0 0]\n",
      "-0.22935792756098397\n",
      "[2 2 2 ... 1 2 2]\n",
      "0.09138618775276569\n",
      "[0 0 0 ... 1 1 1]\n",
      "-0.09678347157781234\n",
      "[1 1 1 ... 2 0 1]\n",
      "0.06669126947607595\n",
      "[1 1 1 ... 0 1 1]\n",
      "0.09123262227122647\n"
     ]
    }
   ],
   "source": [
    "print(df_list)\n",
    "for data in scaled_df_list:\n",
    "    model = KMeans(n_clusters=3, init='k-means++')\n",
    "    model.fit(data)\n",
    "    labels = model.labels_\n",
    "    print(labels)\n",
    "    print(silhouette_score(df,labels))"
   ]
  },
  {
   "cell_type": "markdown",
   "id": "5b301234",
   "metadata": {},
   "source": [
    "In KMeans++ we got maximum silhouette score in Standard Scaler Data"
   ]
  },
  {
   "cell_type": "code",
   "execution_count": 52,
   "id": "58ae30c5",
   "metadata": {},
   "outputs": [
    {
     "name": "stdout",
     "output_type": "stream",
     "text": [
      "[1 1 1 ... 0 1 1]\n",
      "0.28858921087211564\n"
     ]
    }
   ],
   "source": [
    "kmeans_plus = KMeans(n_clusters=3, init='k-means++')\n",
    "kmeans_plus.fit(std_df)\n",
    "labels = kmeans_plus.labels_ \n",
    "print(labels)\n",
    "silhouette_kmeans_plus = silhouette_score(df,labels)\n",
    "print(silhouette_kmeans_plus)"
   ]
  },
  {
   "cell_type": "code",
   "execution_count": 53,
   "id": "c6f5207d",
   "metadata": {},
   "outputs": [],
   "source": [
    "df2 = df.copy()"
   ]
  },
  {
   "cell_type": "code",
   "execution_count": 54,
   "id": "7268b3a4",
   "metadata": {},
   "outputs": [],
   "source": [
    "df2['labels'] = labels"
   ]
  },
  {
   "cell_type": "code",
   "execution_count": 55,
   "id": "fe58fca5",
   "metadata": {},
   "outputs": [
    {
     "data": {
      "text/html": [
       "<div>\n",
       "<style scoped>\n",
       "    .dataframe tbody tr th:only-of-type {\n",
       "        vertical-align: middle;\n",
       "    }\n",
       "\n",
       "    .dataframe tbody tr th {\n",
       "        vertical-align: top;\n",
       "    }\n",
       "\n",
       "    .dataframe thead th {\n",
       "        text-align: right;\n",
       "    }\n",
       "</style>\n",
       "<table border=\"1\" class=\"dataframe\">\n",
       "  <thead>\n",
       "    <tr style=\"text-align: right;\">\n",
       "      <th></th>\n",
       "      <th>Balance</th>\n",
       "      <th>Qual_miles</th>\n",
       "      <th>cc1_miles</th>\n",
       "      <th>cc2_miles</th>\n",
       "      <th>cc3_miles</th>\n",
       "      <th>Bonus_miles</th>\n",
       "      <th>Bonus_trans</th>\n",
       "      <th>Flight_miles_12month</th>\n",
       "      <th>Flight_trans_12month</th>\n",
       "      <th>Days_since_enroll</th>\n",
       "      <th>Award</th>\n",
       "      <th>labels</th>\n",
       "    </tr>\n",
       "    <tr>\n",
       "      <th>ID#</th>\n",
       "      <th></th>\n",
       "      <th></th>\n",
       "      <th></th>\n",
       "      <th></th>\n",
       "      <th></th>\n",
       "      <th></th>\n",
       "      <th></th>\n",
       "      <th></th>\n",
       "      <th></th>\n",
       "      <th></th>\n",
       "      <th></th>\n",
       "      <th></th>\n",
       "    </tr>\n",
       "  </thead>\n",
       "  <tbody>\n",
       "    <tr>\n",
       "      <th>1</th>\n",
       "      <td>28143</td>\n",
       "      <td>0</td>\n",
       "      <td>1</td>\n",
       "      <td>1</td>\n",
       "      <td>1</td>\n",
       "      <td>174</td>\n",
       "      <td>1</td>\n",
       "      <td>0</td>\n",
       "      <td>0</td>\n",
       "      <td>7000</td>\n",
       "      <td>0</td>\n",
       "      <td>1</td>\n",
       "    </tr>\n",
       "    <tr>\n",
       "      <th>2</th>\n",
       "      <td>19244</td>\n",
       "      <td>0</td>\n",
       "      <td>1</td>\n",
       "      <td>1</td>\n",
       "      <td>1</td>\n",
       "      <td>215</td>\n",
       "      <td>2</td>\n",
       "      <td>0</td>\n",
       "      <td>0</td>\n",
       "      <td>6968</td>\n",
       "      <td>0</td>\n",
       "      <td>1</td>\n",
       "    </tr>\n",
       "    <tr>\n",
       "      <th>3</th>\n",
       "      <td>41354</td>\n",
       "      <td>0</td>\n",
       "      <td>1</td>\n",
       "      <td>1</td>\n",
       "      <td>1</td>\n",
       "      <td>4123</td>\n",
       "      <td>4</td>\n",
       "      <td>0</td>\n",
       "      <td>0</td>\n",
       "      <td>7034</td>\n",
       "      <td>0</td>\n",
       "      <td>1</td>\n",
       "    </tr>\n",
       "    <tr>\n",
       "      <th>4</th>\n",
       "      <td>14776</td>\n",
       "      <td>0</td>\n",
       "      <td>1</td>\n",
       "      <td>1</td>\n",
       "      <td>1</td>\n",
       "      <td>500</td>\n",
       "      <td>1</td>\n",
       "      <td>0</td>\n",
       "      <td>0</td>\n",
       "      <td>6952</td>\n",
       "      <td>0</td>\n",
       "      <td>1</td>\n",
       "    </tr>\n",
       "    <tr>\n",
       "      <th>5</th>\n",
       "      <td>97752</td>\n",
       "      <td>0</td>\n",
       "      <td>4</td>\n",
       "      <td>1</td>\n",
       "      <td>1</td>\n",
       "      <td>43300</td>\n",
       "      <td>26</td>\n",
       "      <td>2077</td>\n",
       "      <td>4</td>\n",
       "      <td>6935</td>\n",
       "      <td>1</td>\n",
       "      <td>0</td>\n",
       "    </tr>\n",
       "  </tbody>\n",
       "</table>\n",
       "</div>"
      ],
      "text/plain": [
       "     Balance  Qual_miles  cc1_miles  cc2_miles  cc3_miles  Bonus_miles  \\\n",
       "ID#                                                                      \n",
       "1      28143           0          1          1          1          174   \n",
       "2      19244           0          1          1          1          215   \n",
       "3      41354           0          1          1          1         4123   \n",
       "4      14776           0          1          1          1          500   \n",
       "5      97752           0          4          1          1        43300   \n",
       "\n",
       "     Bonus_trans  Flight_miles_12month  Flight_trans_12month  \\\n",
       "ID#                                                            \n",
       "1              1                     0                     0   \n",
       "2              2                     0                     0   \n",
       "3              4                     0                     0   \n",
       "4              1                     0                     0   \n",
       "5             26                  2077                     4   \n",
       "\n",
       "     Days_since_enroll  Award  labels  \n",
       "ID#                                    \n",
       "1                 7000      0       1  \n",
       "2                 6968      0       1  \n",
       "3                 7034      0       1  \n",
       "4                 6952      0       1  \n",
       "5                 6935      1       0  "
      ]
     },
     "execution_count": 55,
     "metadata": {},
     "output_type": "execute_result"
    }
   ],
   "source": [
    "df2.head()"
   ]
  },
  {
   "cell_type": "code",
   "execution_count": 56,
   "id": "d04b6dd6",
   "metadata": {},
   "outputs": [
    {
     "data": {
      "text/html": [
       "<div>\n",
       "<style scoped>\n",
       "    .dataframe tbody tr th:only-of-type {\n",
       "        vertical-align: middle;\n",
       "    }\n",
       "\n",
       "    .dataframe tbody tr th {\n",
       "        vertical-align: top;\n",
       "    }\n",
       "\n",
       "    .dataframe thead tr th {\n",
       "        text-align: left;\n",
       "    }\n",
       "\n",
       "    .dataframe thead tr:last-of-type th {\n",
       "        text-align: right;\n",
       "    }\n",
       "</style>\n",
       "<table border=\"1\" class=\"dataframe\">\n",
       "  <thead>\n",
       "    <tr>\n",
       "      <th></th>\n",
       "      <th>Balance</th>\n",
       "      <th>Qual_miles</th>\n",
       "      <th>cc1_miles</th>\n",
       "      <th>cc2_miles</th>\n",
       "      <th>cc3_miles</th>\n",
       "      <th>Bonus_miles</th>\n",
       "      <th>Bonus_trans</th>\n",
       "      <th>Flight_miles_12month</th>\n",
       "      <th>Flight_trans_12month</th>\n",
       "      <th>Days_since_enroll</th>\n",
       "      <th>Award</th>\n",
       "    </tr>\n",
       "    <tr>\n",
       "      <th></th>\n",
       "      <th>mean</th>\n",
       "      <th>mean</th>\n",
       "      <th>mean</th>\n",
       "      <th>mean</th>\n",
       "      <th>mean</th>\n",
       "      <th>mean</th>\n",
       "      <th>mean</th>\n",
       "      <th>mean</th>\n",
       "      <th>mean</th>\n",
       "      <th>mean</th>\n",
       "      <th>mean</th>\n",
       "    </tr>\n",
       "    <tr>\n",
       "      <th>labels</th>\n",
       "      <th></th>\n",
       "      <th></th>\n",
       "      <th></th>\n",
       "      <th></th>\n",
       "      <th></th>\n",
       "      <th></th>\n",
       "      <th></th>\n",
       "      <th></th>\n",
       "      <th></th>\n",
       "      <th></th>\n",
       "      <th></th>\n",
       "    </tr>\n",
       "  </thead>\n",
       "  <tbody>\n",
       "    <tr>\n",
       "      <th>0</th>\n",
       "      <td>117454.663759</td>\n",
       "      <td>157.509120</td>\n",
       "      <td>3.728787</td>\n",
       "      <td>1.002379</td>\n",
       "      <td>1.038065</td>\n",
       "      <td>40427.265662</td>\n",
       "      <td>18.982554</td>\n",
       "      <td>345.440127</td>\n",
       "      <td>1.022998</td>\n",
       "      <td>4886.176844</td>\n",
       "      <td>0.652657</td>\n",
       "    </tr>\n",
       "    <tr>\n",
       "      <th>1</th>\n",
       "      <td>44386.917995</td>\n",
       "      <td>96.870968</td>\n",
       "      <td>1.235911</td>\n",
       "      <td>1.019044</td>\n",
       "      <td>1.000389</td>\n",
       "      <td>4833.713175</td>\n",
       "      <td>7.008162</td>\n",
       "      <td>200.775360</td>\n",
       "      <td>0.626506</td>\n",
       "      <td>3705.261562</td>\n",
       "      <td>0.204042</td>\n",
       "    </tr>\n",
       "    <tr>\n",
       "      <th>2</th>\n",
       "      <td>195200.231707</td>\n",
       "      <td>783.207317</td>\n",
       "      <td>2.152439</td>\n",
       "      <td>1.036585</td>\n",
       "      <td>1.000000</td>\n",
       "      <td>31379.963415</td>\n",
       "      <td>26.993902</td>\n",
       "      <td>5412.000000</td>\n",
       "      <td>15.798780</td>\n",
       "      <td>4715.945122</td>\n",
       "      <td>0.810976</td>\n",
       "    </tr>\n",
       "  </tbody>\n",
       "</table>\n",
       "</div>"
      ],
      "text/plain": [
       "              Balance  Qual_miles cc1_miles cc2_miles cc3_miles   Bonus_miles  \\\n",
       "                 mean        mean      mean      mean      mean          mean   \n",
       "labels                                                                          \n",
       "0       117454.663759  157.509120  3.728787  1.002379  1.038065  40427.265662   \n",
       "1        44386.917995   96.870968  1.235911  1.019044  1.000389   4833.713175   \n",
       "2       195200.231707  783.207317  2.152439  1.036585  1.000000  31379.963415   \n",
       "\n",
       "       Bonus_trans Flight_miles_12month Flight_trans_12month  \\\n",
       "              mean                 mean                 mean   \n",
       "labels                                                         \n",
       "0        18.982554           345.440127             1.022998   \n",
       "1         7.008162           200.775360             0.626506   \n",
       "2        26.993902          5412.000000            15.798780   \n",
       "\n",
       "       Days_since_enroll     Award  \n",
       "                    mean      mean  \n",
       "labels                              \n",
       "0            4886.176844  0.652657  \n",
       "1            3705.261562  0.204042  \n",
       "2            4715.945122  0.810976  "
      ]
     },
     "execution_count": 56,
     "metadata": {},
     "output_type": "execute_result"
    }
   ],
   "source": [
    "df2.groupby('labels').agg(['mean'])"
   ]
  },
  {
   "cell_type": "code",
   "execution_count": 93,
   "id": "5e2f6523",
   "metadata": {},
   "outputs": [
    {
     "data": {
      "text/plain": [
       "1    2573\n",
       "0    1261\n",
       "2     164\n",
       "Name: labels, dtype: int64"
      ]
     },
     "execution_count": 93,
     "metadata": {},
     "output_type": "execute_result"
    }
   ],
   "source": [
    "df2['labels'].value_counts()"
   ]
  },
  {
   "cell_type": "code",
   "execution_count": 92,
   "id": "e06f29a6",
   "metadata": {},
   "outputs": [
    {
     "data": {
      "image/png": "[encoded data removed]",
      "text/plain": [
       "<Figure size 640x480 with 1 Axes>"
      ]
     },
     "metadata": {},
     "output_type": "display_data"
    }
   ],
   "source": [
    "sns.scatterplot(x=std_df[:,0], y=std_df[:,1], hue=df2['labels'])\n",
    "plt.show()"
   ]
  },
  {
   "cell_type": "markdown",
   "id": "540a26df",
   "metadata": {},
   "source": [
    "## 5.3 DBSCAN"
   ]
  },
  {
   "cell_type": "code",
   "execution_count": 59,
   "id": "c860a261",
   "metadata": {},
   "outputs": [],
   "source": [
    "from sklearn.cluster import DBSCAN\n",
    "from sklearn.neighbors import NearestNeighbors"
   ]
  },
  {
   "cell_type": "code",
   "execution_count": 60,
   "id": "ff99e1fb",
   "metadata": {},
   "outputs": [
    {
     "data": {
      "text/html": [
       "<style>#sk-container-id-1 {color: black;background-color: white;}#sk-container-id-1 pre{padding: 0;}#sk-container-id-1 div.sk-toggleable {background-color: white;}#sk-container-id-1 label.sk-toggleable__label {cursor: pointer;display: block;width: 100%;margin-bottom: 0;padding: 0.3em;box-sizing: border-box;text-align: center;}#sk-container-id-1 label.sk-toggleable__label-arrow:before {content: \"▸\";float: left;margin-right: 0.25em;color: #696969;}#sk-container-id-1 label.sk-toggleable__label-arrow:hover:before {color: black;}#sk-container-id-1 div.sk-estimator:hover label.sk-toggleable__label-arrow:before {color: black;}#sk-container-id-1 div.sk-toggleable__content {max-height: 0;max-width: 0;overflow: hidden;text-align: left;background-color: #f0f8ff;}#sk-container-id-1 div.sk-toggleable__content pre {margin: 0.2em;color: black;border-radius: 0.25em;background-color: #f0f8ff;}#sk-container-id-1 input.sk-toggleable__control:checked~div.sk-toggleable__content {max-height: 200px;max-width: 100%;overflow: auto;}#sk-container-id-1 input.sk-toggleable__control:checked~label.sk-toggleable__label-arrow:before {content: \"▾\";}#sk-container-id-1 div.sk-estimator input.sk-toggleable__control:checked~label.sk-toggleable__label {background-color: #d4ebff;}#sk-container-id-1 div.sk-label input.sk-toggleable__control:checked~label.sk-toggleable__label {background-color: #d4ebff;}#sk-container-id-1 input.sk-hidden--visually {border: 0;clip: rect(1px 1px 1px 1px);clip: rect(1px, 1px, 1px, 1px);height: 1px;margin: -1px;overflow: hidden;padding: 0;position: absolute;width: 1px;}#sk-container-id-1 div.sk-estimator {font-family: monospace;background-color: #f0f8ff;border: 1px dotted black;border-radius: 0.25em;box-sizing: border-box;margin-bottom: 0.5em;}#sk-container-id-1 div.sk-estimator:hover {background-color: #d4ebff;}#sk-container-id-1 div.sk-parallel-item::after {content: \"\";width: 100%;border-bottom: 1px solid gray;flex-grow: 1;}#sk-container-id-1 div.sk-label:hover label.sk-toggleable__label {background-color: #d4ebff;}#sk-container-id-1 div.sk-serial::before {content: \"\";position: absolute;border-left: 1px solid gray;box-sizing: border-box;top: 0;bottom: 0;left: 50%;z-index: 0;}#sk-container-id-1 div.sk-serial {display: flex;flex-direction: column;align-items: center;background-color: white;padding-right: 0.2em;padding-left: 0.2em;position: relative;}#sk-container-id-1 div.sk-item {position: relative;z-index: 1;}#sk-container-id-1 div.sk-parallel {display: flex;align-items: stretch;justify-content: center;background-color: white;position: relative;}#sk-container-id-1 div.sk-item::before, #sk-container-id-1 div.sk-parallel-item::before {content: \"\";position: absolute;border-left: 1px solid gray;box-sizing: border-box;top: 0;bottom: 0;left: 50%;z-index: -1;}#sk-container-id-1 div.sk-parallel-item {display: flex;flex-direction: column;z-index: 1;position: relative;background-color: white;}#sk-container-id-1 div.sk-parallel-item:first-child::after {align-self: flex-end;width: 50%;}#sk-container-id-1 div.sk-parallel-item:last-child::after {align-self: flex-start;width: 50%;}#sk-container-id-1 div.sk-parallel-item:only-child::after {width: 0;}#sk-container-id-1 div.sk-dashed-wrapped {border: 1px dashed gray;margin: 0 0.4em 0.5em 0.4em;box-sizing: border-box;padding-bottom: 0.4em;background-color: white;}#sk-container-id-1 div.sk-label label {font-family: monospace;font-weight: bold;display: inline-block;line-height: 1.2em;}#sk-container-id-1 div.sk-label-container {text-align: center;}#sk-container-id-1 div.sk-container {/* jupyter's `normalize.less` sets `[hidden] { display: none; }` but bootstrap.min.css set `[hidden] { display: none !important; }` so we also need the `!important` here to be able to override the default hidden behavior on the sphinx rendered scikit-learn.org. See: https://github.com/scikit-learn/scikit-learn/issues/21755 */display: inline-block !important;position: relative;}#sk-container-id-1 div.sk-text-repr-fallback {display: none;}</style><div id=\"sk-container-id-1\" class=\"sk-top-container\"><div class=\"sk-text-repr-fallback\"><pre>NearestNeighbors(n_neighbors=3)</pre><b>In a Jupyter environment, please rerun this cell to show the HTML representation or trust the notebook. <br />On GitHub, the HTML representation is unable to render, please try loading this page with nbviewer.org.</b></div><div class=\"sk-container\" hidden><div class=\"sk-item\"><div class=\"sk-estimator sk-toggleable\"><input class=\"sk-toggleable__control sk-hidden--visually\" id=\"sk-estimator-id-1\" type=\"checkbox\" checked><label for=\"sk-estimator-id-1\" class=\"sk-toggleable__label sk-toggleable__label-arrow\">NearestNeighbors</label><div class=\"sk-toggleable__content\"><pre>NearestNeighbors(n_neighbors=3)</pre></div></div></div></div></div>"
      ],
      "text/plain": [
       "NearestNeighbors(n_neighbors=3)"
      ]
     },
     "execution_count": 60,
     "metadata": {},
     "output_type": "execute_result"
    }
   ],
   "source": [
    "model = NearestNeighbors(n_neighbors=3)\n",
    "model.fit(std_df)"
   ]
  },
  {
   "cell_type": "code",
   "execution_count": 61,
   "id": "af4fe32e",
   "metadata": {},
   "outputs": [],
   "source": [
    "distances, indices = model.kneighbors(std_df)"
   ]
  },
  {
   "cell_type": "code",
   "execution_count": 62,
   "id": "7381cbe1",
   "metadata": {},
   "outputs": [
    {
     "data": {
      "text/plain": [
       "array([0.11185195, 0.11406716, 0.16540105, ..., 0.16614444, 0.25725538,\n",
       "       0.00270567])"
      ]
     },
     "execution_count": 62,
     "metadata": {},
     "output_type": "execute_result"
    }
   ],
   "source": [
    "distances[:,1]"
   ]
  },
  {
   "cell_type": "code",
   "execution_count": 63,
   "id": "e0ccf20d",
   "metadata": {},
   "outputs": [
    {
     "data": {
      "text/plain": [
       "array([ 378,    3,  338, ..., 3876, 3623, 3491], dtype=int64)"
      ]
     },
     "execution_count": 63,
     "metadata": {},
     "output_type": "execute_result"
    }
   ],
   "source": [
    "indices[:,1]"
   ]
  },
  {
   "cell_type": "code",
   "execution_count": 64,
   "id": "0dd3f965",
   "metadata": {},
   "outputs": [
    {
     "data": {
      "image/png": "[encoded data removed]",
      "text/plain": [
       "<Figure size 640x480 with 1 Axes>"
      ]
     },
     "metadata": {},
     "output_type": "display_data"
    }
   ],
   "source": [
    "distances = np.sort(distances, axis=0)\n",
    "distances = distances[:,1]\n",
    "plt.plot(distances)\n",
    "plt.show()"
   ]
  },
  {
   "cell_type": "markdown",
   "id": "15cbd8a1",
   "metadata": {},
   "source": [
    "We can see at eps = 1.5 the graph is drastically change. So, we take eps = 1.5."
   ]
  },
  {
   "cell_type": "code",
   "execution_count": 65,
   "id": "38f76019",
   "metadata": {},
   "outputs": [],
   "source": [
    "# Let's find the optimal value of min_samples\n",
    "min_samples = [2,3,4,5,6,7,8,9,10]"
   ]
  },
  {
   "cell_type": "code",
   "execution_count": 66,
   "id": "d6546e18",
   "metadata": {},
   "outputs": [
    {
     "name": "stdout",
     "output_type": "stream",
     "text": [
      "For min_samples: 2\n",
      "silhouette_score: -0.7090619303713737\n",
      "____________________________________________________________________________________________________\n",
      "For min_samples: 3\n",
      "silhouette_score: -0.4862823156822583\n",
      "____________________________________________________________________________________________________\n",
      "For min_samples: 4\n",
      "silhouette_score: -0.40958540215332684\n",
      "____________________________________________________________________________________________________\n",
      "For min_samples: 5\n",
      "silhouette_score: -0.3937395105040868\n",
      "____________________________________________________________________________________________________\n",
      "For min_samples: 6\n",
      "silhouette_score: -0.37229231033488275\n",
      "____________________________________________________________________________________________________\n",
      "For min_samples: 7\n",
      "silhouette_score: -0.3694241936089378\n",
      "____________________________________________________________________________________________________\n",
      "For min_samples: 8\n",
      "silhouette_score: -0.3659747825553151\n",
      "____________________________________________________________________________________________________\n",
      "For min_samples: 9\n",
      "silhouette_score: -0.3189556817246121\n",
      "____________________________________________________________________________________________________\n",
      "For min_samples: 10\n",
      "silhouette_score: -0.3175971952452784\n",
      "____________________________________________________________________________________________________\n"
     ]
    }
   ],
   "source": [
    "for samples in min_samples:\n",
    "    dbscan = DBSCAN(eps=1.5, min_samples=samples)\n",
    "    dbscan.fit(std_df)\n",
    "    labels = dbscan.labels_\n",
    "    n_clusters = len(set(labels)) - (1 if -1 in labels else 0)\n",
    "    if n_clusters > 1:\n",
    "        print('For min_samples: ' + str(samples))\n",
    "        print('silhouette_score: ' + str(silhouette_score(df, labels)))\n",
    "        print('_' * 100)\n",
    "    else:\n",
    "        print(f\"Only 1 cluster found for min_samples={samples}\")"
   ]
  },
  {
   "cell_type": "markdown",
   "id": "bbdc9e88",
   "metadata": {},
   "source": [
    "For min_samples = 5 is optimal value because silhouette_score is not further increases."
   ]
  },
  {
   "cell_type": "code",
   "execution_count": 67,
   "id": "fff63eb1",
   "metadata": {},
   "outputs": [
    {
     "name": "stdout",
     "output_type": "stream",
     "text": [
      "Only 1 cluster found for this data\n",
      "silhouette_score: -0.3937395105040868\n",
      "____________________________________________________________________________________________________\n",
      "Only 1 cluster found for this data\n",
      "Only 1 cluster found for this data\n",
      "Only 1 cluster found for this data\n",
      "Only 1 cluster found for this data\n",
      "Only 1 cluster found for this data\n"
     ]
    }
   ],
   "source": [
    "# Let's apply on different scaled data\n",
    "for data in scaled_df_list:\n",
    "    dbscan = DBSCAN(eps=1.5, min_samples=5)\n",
    "    dbscan.fit(data)\n",
    "    labels = dbscan.labels_\n",
    "    n_clusters = len(set(labels)) - (1 if -1 in labels else 0)\n",
    "    if n_clusters > 1:\n",
    "        print('silhouette_score: ' + str(silhouette_score(df, labels)))\n",
    "        print('_' * 100)\n",
    "    else:\n",
    "        print(f\"Only 1 cluster found for this data\")"
   ]
  },
  {
   "cell_type": "markdown",
   "id": "8ed4ea74",
   "metadata": {},
   "source": [
    "We can se in all scaled data our model treate all points as noise except in Standard Scaler Data."
   ]
  },
  {
   "cell_type": "code",
   "execution_count": 68,
   "id": "62f12bfe",
   "metadata": {},
   "outputs": [],
   "source": [
    "dbscan_final = DBSCAN(eps=1.5, min_samples=5)\n",
    "dbscan_final.fit(std_df)\n",
    "labels = dbscan_final.labels_"
   ]
  },
  {
   "cell_type": "code",
   "execution_count": 97,
   "id": "b54d5898",
   "metadata": {},
   "outputs": [
    {
     "data": {
      "text/plain": [
       "-0.3937395105040868"
      ]
     },
     "execution_count": 97,
     "metadata": {},
     "output_type": "execute_result"
    }
   ],
   "source": [
    "dbscan_silhouette = silhouette_score(df,labels)\n",
    "dbscan_silhouette"
   ]
  },
  {
   "cell_type": "code",
   "execution_count": 70,
   "id": "993ae488",
   "metadata": {},
   "outputs": [],
   "source": [
    "df3 = df.copy()"
   ]
  },
  {
   "cell_type": "code",
   "execution_count": 71,
   "id": "e40743b9",
   "metadata": {},
   "outputs": [],
   "source": [
    "df3['labels'] = labels"
   ]
  },
  {
   "cell_type": "code",
   "execution_count": 72,
   "id": "423b5a3e",
   "metadata": {},
   "outputs": [
    {
     "data": {
      "text/html": [
       "<div>\n",
       "<style scoped>\n",
       "    .dataframe tbody tr th:only-of-type {\n",
       "        vertical-align: middle;\n",
       "    }\n",
       "\n",
       "    .dataframe tbody tr th {\n",
       "        vertical-align: top;\n",
       "    }\n",
       "\n",
       "    .dataframe thead th {\n",
       "        text-align: right;\n",
       "    }\n",
       "</style>\n",
       "<table border=\"1\" class=\"dataframe\">\n",
       "  <thead>\n",
       "    <tr style=\"text-align: right;\">\n",
       "      <th></th>\n",
       "      <th>Balance</th>\n",
       "      <th>Qual_miles</th>\n",
       "      <th>cc1_miles</th>\n",
       "      <th>cc2_miles</th>\n",
       "      <th>cc3_miles</th>\n",
       "      <th>Bonus_miles</th>\n",
       "      <th>Bonus_trans</th>\n",
       "      <th>Flight_miles_12month</th>\n",
       "      <th>Flight_trans_12month</th>\n",
       "      <th>Days_since_enroll</th>\n",
       "      <th>Award</th>\n",
       "      <th>labels</th>\n",
       "    </tr>\n",
       "    <tr>\n",
       "      <th>ID#</th>\n",
       "      <th></th>\n",
       "      <th></th>\n",
       "      <th></th>\n",
       "      <th></th>\n",
       "      <th></th>\n",
       "      <th></th>\n",
       "      <th></th>\n",
       "      <th></th>\n",
       "      <th></th>\n",
       "      <th></th>\n",
       "      <th></th>\n",
       "      <th></th>\n",
       "    </tr>\n",
       "  </thead>\n",
       "  <tbody>\n",
       "    <tr>\n",
       "      <th>1</th>\n",
       "      <td>28143</td>\n",
       "      <td>0</td>\n",
       "      <td>1</td>\n",
       "      <td>1</td>\n",
       "      <td>1</td>\n",
       "      <td>174</td>\n",
       "      <td>1</td>\n",
       "      <td>0</td>\n",
       "      <td>0</td>\n",
       "      <td>7000</td>\n",
       "      <td>0</td>\n",
       "      <td>0</td>\n",
       "    </tr>\n",
       "    <tr>\n",
       "      <th>2</th>\n",
       "      <td>19244</td>\n",
       "      <td>0</td>\n",
       "      <td>1</td>\n",
       "      <td>1</td>\n",
       "      <td>1</td>\n",
       "      <td>215</td>\n",
       "      <td>2</td>\n",
       "      <td>0</td>\n",
       "      <td>0</td>\n",
       "      <td>6968</td>\n",
       "      <td>0</td>\n",
       "      <td>0</td>\n",
       "    </tr>\n",
       "    <tr>\n",
       "      <th>3</th>\n",
       "      <td>41354</td>\n",
       "      <td>0</td>\n",
       "      <td>1</td>\n",
       "      <td>1</td>\n",
       "      <td>1</td>\n",
       "      <td>4123</td>\n",
       "      <td>4</td>\n",
       "      <td>0</td>\n",
       "      <td>0</td>\n",
       "      <td>7034</td>\n",
       "      <td>0</td>\n",
       "      <td>0</td>\n",
       "    </tr>\n",
       "    <tr>\n",
       "      <th>4</th>\n",
       "      <td>14776</td>\n",
       "      <td>0</td>\n",
       "      <td>1</td>\n",
       "      <td>1</td>\n",
       "      <td>1</td>\n",
       "      <td>500</td>\n",
       "      <td>1</td>\n",
       "      <td>0</td>\n",
       "      <td>0</td>\n",
       "      <td>6952</td>\n",
       "      <td>0</td>\n",
       "      <td>0</td>\n",
       "    </tr>\n",
       "    <tr>\n",
       "      <th>5</th>\n",
       "      <td>97752</td>\n",
       "      <td>0</td>\n",
       "      <td>4</td>\n",
       "      <td>1</td>\n",
       "      <td>1</td>\n",
       "      <td>43300</td>\n",
       "      <td>26</td>\n",
       "      <td>2077</td>\n",
       "      <td>4</td>\n",
       "      <td>6935</td>\n",
       "      <td>1</td>\n",
       "      <td>1</td>\n",
       "    </tr>\n",
       "  </tbody>\n",
       "</table>\n",
       "</div>"
      ],
      "text/plain": [
       "     Balance  Qual_miles  cc1_miles  cc2_miles  cc3_miles  Bonus_miles  \\\n",
       "ID#                                                                      \n",
       "1      28143           0          1          1          1          174   \n",
       "2      19244           0          1          1          1          215   \n",
       "3      41354           0          1          1          1         4123   \n",
       "4      14776           0          1          1          1          500   \n",
       "5      97752           0          4          1          1        43300   \n",
       "\n",
       "     Bonus_trans  Flight_miles_12month  Flight_trans_12month  \\\n",
       "ID#                                                            \n",
       "1              1                     0                     0   \n",
       "2              2                     0                     0   \n",
       "3              4                     0                     0   \n",
       "4              1                     0                     0   \n",
       "5             26                  2077                     4   \n",
       "\n",
       "     Days_since_enroll  Award  labels  \n",
       "ID#                                    \n",
       "1                 7000      0       0  \n",
       "2                 6968      0       0  \n",
       "3                 7034      0       0  \n",
       "4                 6952      0       0  \n",
       "5                 6935      1       1  "
      ]
     },
     "execution_count": 72,
     "metadata": {},
     "output_type": "execute_result"
    }
   ],
   "source": [
    "df3.head()"
   ]
  },
  {
   "cell_type": "code",
   "execution_count": 73,
   "id": "ddcffebb",
   "metadata": {},
   "outputs": [
    {
     "data": {
      "text/html": [
       "<div>\n",
       "<style scoped>\n",
       "    .dataframe tbody tr th:only-of-type {\n",
       "        vertical-align: middle;\n",
       "    }\n",
       "\n",
       "    .dataframe tbody tr th {\n",
       "        vertical-align: top;\n",
       "    }\n",
       "\n",
       "    .dataframe thead tr th {\n",
       "        text-align: left;\n",
       "    }\n",
       "\n",
       "    .dataframe thead tr:last-of-type th {\n",
       "        text-align: right;\n",
       "    }\n",
       "</style>\n",
       "<table border=\"1\" class=\"dataframe\">\n",
       "  <thead>\n",
       "    <tr>\n",
       "      <th></th>\n",
       "      <th>Balance</th>\n",
       "      <th>Qual_miles</th>\n",
       "      <th>cc1_miles</th>\n",
       "      <th>cc2_miles</th>\n",
       "      <th>cc3_miles</th>\n",
       "      <th>Bonus_miles</th>\n",
       "      <th>Bonus_trans</th>\n",
       "      <th>Flight_miles_12month</th>\n",
       "      <th>Flight_trans_12month</th>\n",
       "      <th>Days_since_enroll</th>\n",
       "      <th>Award</th>\n",
       "    </tr>\n",
       "    <tr>\n",
       "      <th></th>\n",
       "      <th>mean</th>\n",
       "      <th>mean</th>\n",
       "      <th>mean</th>\n",
       "      <th>mean</th>\n",
       "      <th>mean</th>\n",
       "      <th>mean</th>\n",
       "      <th>mean</th>\n",
       "      <th>mean</th>\n",
       "      <th>mean</th>\n",
       "      <th>mean</th>\n",
       "      <th>mean</th>\n",
       "    </tr>\n",
       "    <tr>\n",
       "      <th>labels</th>\n",
       "      <th></th>\n",
       "      <th></th>\n",
       "      <th></th>\n",
       "      <th></th>\n",
       "      <th></th>\n",
       "      <th></th>\n",
       "      <th></th>\n",
       "      <th></th>\n",
       "      <th></th>\n",
       "      <th></th>\n",
       "      <th></th>\n",
       "    </tr>\n",
       "  </thead>\n",
       "  <tbody>\n",
       "    <tr>\n",
       "      <th>-1</th>\n",
       "      <td>215733.335484</td>\n",
       "      <td>1381.900000</td>\n",
       "      <td>2.764516</td>\n",
       "      <td>1.070968</td>\n",
       "      <td>1.158065</td>\n",
       "      <td>45721.603226</td>\n",
       "      <td>25.261290</td>\n",
       "      <td>2994.580645</td>\n",
       "      <td>8.758065</td>\n",
       "      <td>4818.754839</td>\n",
       "      <td>0.729032</td>\n",
       "    </tr>\n",
       "    <tr>\n",
       "      <th>0</th>\n",
       "      <td>56548.754357</td>\n",
       "      <td>29.264315</td>\n",
       "      <td>1.684647</td>\n",
       "      <td>1.000000</td>\n",
       "      <td>1.000000</td>\n",
       "      <td>9593.251452</td>\n",
       "      <td>8.732365</td>\n",
       "      <td>173.117012</td>\n",
       "      <td>0.512863</td>\n",
       "      <td>3806.238174</td>\n",
       "      <td>0.000000</td>\n",
       "    </tr>\n",
       "    <tr>\n",
       "      <th>1</th>\n",
       "      <td>72115.619200</td>\n",
       "      <td>61.918400</td>\n",
       "      <td>2.632000</td>\n",
       "      <td>1.000000</td>\n",
       "      <td>1.000000</td>\n",
       "      <td>24773.415200</td>\n",
       "      <td>13.712800</td>\n",
       "      <td>392.944800</td>\n",
       "      <td>1.223200</td>\n",
       "      <td>4567.045600</td>\n",
       "      <td>1.000000</td>\n",
       "    </tr>\n",
       "    <tr>\n",
       "      <th>2</th>\n",
       "      <td>38556.733333</td>\n",
       "      <td>0.000000</td>\n",
       "      <td>1.000000</td>\n",
       "      <td>2.000000</td>\n",
       "      <td>1.000000</td>\n",
       "      <td>8951.533333</td>\n",
       "      <td>12.933333</td>\n",
       "      <td>60.000000</td>\n",
       "      <td>0.400000</td>\n",
       "      <td>3390.400000</td>\n",
       "      <td>0.000000</td>\n",
       "    </tr>\n",
       "    <tr>\n",
       "      <th>3</th>\n",
       "      <td>36524.250000</td>\n",
       "      <td>0.000000</td>\n",
       "      <td>1.000000</td>\n",
       "      <td>3.000000</td>\n",
       "      <td>1.000000</td>\n",
       "      <td>15518.500000</td>\n",
       "      <td>14.500000</td>\n",
       "      <td>50.000000</td>\n",
       "      <td>0.250000</td>\n",
       "      <td>3179.625000</td>\n",
       "      <td>0.000000</td>\n",
       "    </tr>\n",
       "    <tr>\n",
       "      <th>4</th>\n",
       "      <td>31161.600000</td>\n",
       "      <td>0.000000</td>\n",
       "      <td>1.000000</td>\n",
       "      <td>2.000000</td>\n",
       "      <td>1.000000</td>\n",
       "      <td>8723.400000</td>\n",
       "      <td>13.800000</td>\n",
       "      <td>350.000000</td>\n",
       "      <td>1.000000</td>\n",
       "      <td>3314.800000</td>\n",
       "      <td>1.000000</td>\n",
       "    </tr>\n",
       "  </tbody>\n",
       "</table>\n",
       "</div>"
      ],
      "text/plain": [
       "              Balance   Qual_miles cc1_miles cc2_miles cc3_miles  \\\n",
       "                 mean         mean      mean      mean      mean   \n",
       "labels                                                             \n",
       "-1      215733.335484  1381.900000  2.764516  1.070968  1.158065   \n",
       " 0       56548.754357    29.264315  1.684647  1.000000  1.000000   \n",
       " 1       72115.619200    61.918400  2.632000  1.000000  1.000000   \n",
       " 2       38556.733333     0.000000  1.000000  2.000000  1.000000   \n",
       " 3       36524.250000     0.000000  1.000000  3.000000  1.000000   \n",
       " 4       31161.600000     0.000000  1.000000  2.000000  1.000000   \n",
       "\n",
       "         Bonus_miles Bonus_trans Flight_miles_12month Flight_trans_12month  \\\n",
       "                mean        mean                 mean                 mean   \n",
       "labels                                                                       \n",
       "-1      45721.603226   25.261290          2994.580645             8.758065   \n",
       " 0       9593.251452    8.732365           173.117012             0.512863   \n",
       " 1      24773.415200   13.712800           392.944800             1.223200   \n",
       " 2       8951.533333   12.933333            60.000000             0.400000   \n",
       " 3      15518.500000   14.500000            50.000000             0.250000   \n",
       " 4       8723.400000   13.800000           350.000000             1.000000   \n",
       "\n",
       "       Days_since_enroll     Award  \n",
       "                    mean      mean  \n",
       "labels                              \n",
       "-1           4818.754839  0.729032  \n",
       " 0           3806.238174  0.000000  \n",
       " 1           4567.045600  1.000000  \n",
       " 2           3390.400000  0.000000  \n",
       " 3           3179.625000  0.000000  \n",
       " 4           3314.800000  1.000000  "
      ]
     },
     "execution_count": 73,
     "metadata": {},
     "output_type": "execute_result"
    }
   ],
   "source": [
    "df3.groupby('labels').agg(['mean'])"
   ]
  },
  {
   "cell_type": "code",
   "execution_count": 83,
   "id": "d5d42f07",
   "metadata": {},
   "outputs": [
    {
     "data": {
      "text/plain": [
       "labels\n",
       " 0        2410\n",
       " 1        1250\n",
       "-1         310\n",
       " 2          15\n",
       " 3           8\n",
       " 4           5\n",
       "dtype: int64"
      ]
     },
     "execution_count": 83,
     "metadata": {},
     "output_type": "execute_result"
    }
   ],
   "source": [
    "df3[['labels']].value_counts()"
   ]
  },
  {
   "cell_type": "code",
   "execution_count": 90,
   "id": "9f7b0d0e",
   "metadata": {},
   "outputs": [
    {
     "data": {
      "image/png": "[encoded data removed]",
      "text/plain": [
       "<Figure size 640x480 with 1 Axes>"
      ]
     },
     "metadata": {},
     "output_type": "display_data"
    }
   ],
   "source": [
    "sns.scatterplot(x=std_df[:,0], y=std_df[:,1], hue=df3['labels'], color=colors)\n",
    "plt.show()"
   ]
  },
  {
   "cell_type": "code",
   "execution_count": 101,
   "id": "b6895069",
   "metadata": {},
   "outputs": [
    {
     "data": {
      "text/html": [
       "<div>\n",
       "<style scoped>\n",
       "    .dataframe tbody tr th:only-of-type {\n",
       "        vertical-align: middle;\n",
       "    }\n",
       "\n",
       "    .dataframe tbody tr th {\n",
       "        vertical-align: top;\n",
       "    }\n",
       "\n",
       "    .dataframe thead th {\n",
       "        text-align: right;\n",
       "    }\n",
       "</style>\n",
       "<table border=\"1\" class=\"dataframe\">\n",
       "  <thead>\n",
       "    <tr style=\"text-align: right;\">\n",
       "      <th></th>\n",
       "      <th>Model</th>\n",
       "      <th>silhouette_score</th>\n",
       "    </tr>\n",
       "  </thead>\n",
       "  <tbody>\n",
       "    <tr>\n",
       "      <th>1</th>\n",
       "      <td>KMeans++</td>\n",
       "      <td>0.288589</td>\n",
       "    </tr>\n",
       "    <tr>\n",
       "      <th>0</th>\n",
       "      <td>KMeans</td>\n",
       "      <td>0.288298</td>\n",
       "    </tr>\n",
       "    <tr>\n",
       "      <th>2</th>\n",
       "      <td>DBSCAN</td>\n",
       "      <td>-0.393740</td>\n",
       "    </tr>\n",
       "  </tbody>\n",
       "</table>\n",
       "</div>"
      ],
      "text/plain": [
       "      Model  silhouette_score\n",
       "1  KMeans++          0.288589\n",
       "0    KMeans          0.288298\n",
       "2    DBSCAN         -0.393740"
      ]
     },
     "execution_count": 101,
     "metadata": {},
     "output_type": "execute_result"
    }
   ],
   "source": [
    "metric_df = pd.DataFrame({'Model':['KMeans', 'KMeans++', 'DBSCAN'],\n",
    "                         'silhouette_score':[kmeans_silhouette, silhouette_kmeans_plus, dbscan_silhouette]})\n",
    "metric_df.sort_values('silhouette_score',ascending=False)"
   ]
  },
  {
   "cell_type": "markdown",
   "id": "df10ea57",
   "metadata": {},
   "source": [
    "# 6. Conclusion"
   ]
  },
  {
   "cell_type": "markdown",
   "id": "1930fb4a",
   "metadata": {},
   "source": [
    "* First I build KMeans Model in which I got 3 clusters as threshold values.\n",
    "* Second I build KMeans++ Model in which also I got 3 cluster after ploting elbow plot.\n",
    "* Third I build the DBSCAN Model in which our model gives huge number of Noise points as output.\n",
    "* Above all models KMeans++ have highest silhouette_score."
   ]
  }
 ],
 "metadata": {
  "kernelspec": {
   "display_name": "Python 3 (ipykernel)",
   "language": "python",
   "name": "python3"
  },
  "language_info": {
   "codemirror_mode": {
    "name": "ipython",
    "version": 3
   },
   "file_extension": ".py",
   "mimetype": "text/x-python",
   "name": "python",
   "nbconvert_exporter": "python",
   "pygments_lexer": "ipython3",
   "version": "3.10.9"
  }
 },
 "nbformat": 4,
 "nbformat_minor": 5
}
